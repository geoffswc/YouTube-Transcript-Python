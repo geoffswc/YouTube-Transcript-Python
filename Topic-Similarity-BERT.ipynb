{
 "cells": [
  {
   "cell_type": "code",
   "execution_count": 1,
   "id": "ae332c42",
   "metadata": {},
   "outputs": [],
   "source": [
    "# adapting from https://medium.com/@kiran.naidu97.kiran/sentence-similarity-with-bert-49bcd250c1bc"
   ]
  },
  {
   "cell_type": "code",
   "execution_count": 2,
   "id": "38d004d2",
   "metadata": {},
   "outputs": [],
   "source": [
    "#!pip install sentence_transformers"
   ]
  },
  {
   "cell_type": "code",
   "execution_count": 3,
   "id": "caa57add",
   "metadata": {},
   "outputs": [],
   "source": [
    "from sentence_transformers import SentenceTransformer\n",
    "import numpy as npdf_transcripts\n",
    "import pandas as pd"
   ]
  },
  {
   "cell_type": "code",
   "execution_count": 4,
   "id": "34bb725b",
   "metadata": {},
   "outputs": [],
   "source": [
    "pd.options.display.max_columns = None\n",
    "pd.options.display.max_rows = None\n",
    "pd.options.display.max_colwidth = None"
   ]
  },
  {
   "cell_type": "code",
   "execution_count": 5,
   "id": "c5b9f1d1",
   "metadata": {},
   "outputs": [],
   "source": [
    "df_transcripts = pd.read_csv(\"transcripts_m10.csv\")"
   ]
  },
  {
   "cell_type": "code",
   "execution_count": 6,
   "id": "be4ef656",
   "metadata": {},
   "outputs": [],
   "source": [
    "model = SentenceTransformer('bert-base-nli-mean-tokens')"
   ]
  },
  {
   "cell_type": "code",
   "execution_count": 9,
   "id": "4b34cdaf",
   "metadata": {},
   "outputs": [],
   "source": [
    "model_text = df_transcripts['alpha_text']"
   ]
  },
  {
   "cell_type": "code",
   "execution_count": 10,
   "id": "80caab59",
   "metadata": {},
   "outputs": [],
   "source": [
    "# this could take a while... maybe 15 min? try timing it. \n",
    "sentence_embeddings = model.encode(df_transcripts['alpha_text']) "
   ]
  },
  {
   "cell_type": "code",
   "execution_count": 11,
   "id": "914723a4",
   "metadata": {},
   "outputs": [],
   "source": [
    "sentence_embeddings1 = model.encode(\"The cold war introduced unprecedented risks to global security\")\n",
    "\n",
    "from sklearn.metrics.pairwise import cosine_similarity\n",
    "\n",
    "sim_arr=cosine_similarity(\n",
    "    [sentence_embeddings1],\n",
    "    sentence_embeddings[:]\n",
    ")"
   ]
  },
  {
   "cell_type": "code",
   "execution_count": 12,
   "id": "a3902051",
   "metadata": {},
   "outputs": [
    {
     "data": {
      "text/plain": [
       "735"
      ]
     },
     "execution_count": 12,
     "metadata": {},
     "output_type": "execute_result"
    }
   ],
   "source": [
    "len(sim_arr[0])"
   ]
  },
  {
   "cell_type": "code",
   "execution_count": 13,
   "id": "5e633879",
   "metadata": {},
   "outputs": [],
   "source": [
    "di=dict(zip(sim_arr[0],df_transcripts['text']))"
   ]
  },
  {
   "cell_type": "code",
   "execution_count": 19,
   "id": "3854d691",
   "metadata": {},
   "outputs": [],
   "source": [
    "df_bert = pd.DataFrame({'cos_similarity': list(sim_arr[0]), 'text': df_transcripts['alpha_text']})"
   ]
  },
  {
   "cell_type": "code",
   "execution_count": 20,
   "id": "9390358d",
   "metadata": {},
   "outputs": [
    {
     "data": {
      "text/html": [
       "<div>\n",
       "<style scoped>\n",
       "    .dataframe tbody tr th:only-of-type {\n",
       "        vertical-align: middle;\n",
       "    }\n",
       "\n",
       "    .dataframe tbody tr th {\n",
       "        vertical-align: top;\n",
       "    }\n",
       "\n",
       "    .dataframe thead th {\n",
       "        text-align: right;\n",
       "    }\n",
       "</style>\n",
       "<table border=\"1\" class=\"dataframe\">\n",
       "  <thead>\n",
       "    <tr style=\"text-align: right;\">\n",
       "      <th></th>\n",
       "      <th>cos_similarity</th>\n",
       "      <th>text</th>\n",
       "    </tr>\n",
       "  </thead>\n",
       "  <tbody>\n",
       "    <tr>\n",
       "      <th>619</th>\n",
       "      <td>0.728944</td>\n",
       "      <td>or not out there but in the middle of the Cold War  when everybody s locked into positions that are highly  highly rigid  then ideas are probably largely gonna be beside the point  So that s the way I will tend to use these notions and you will see them coming up  obviously  today but throughout the course  Okay  So let s think about the first post Cold War international security crisis which was prompted</td>\n",
       "    </tr>\n",
       "    <tr>\n",
       "      <th>192</th>\n",
       "      <td>0.708552</td>\n",
       "      <td>so the new international order seems to be  affecting not only relations among countries but relations within them  The third part of the course I m calling the end of the end of history and this is really  has its ultimate roots with      and the emergence of the global war on terror  The invasion of Afghanistan  Iraq  Libya and eventually the collapsing Syria we re going to see that the idea that history</td>\n",
       "    </tr>\n",
       "    <tr>\n",
       "      <th>651</th>\n",
       "      <td>0.693681</td>\n",
       "      <td>and subordinating international institutions to that purpose  Now  a lotta debate about whether NATO was successful during the Cold War  You could say  well  the US won the Cold War and some people say  you could say that we wouldn t have won it without NATO  That s one of the  we can t run the counterfactual  so it really is something of an imponderable  whether we could have won the Cold War without NATO</td>\n",
       "    </tr>\n",
       "    <tr>\n",
       "      <th>679</th>\n",
       "      <td>0.685236</td>\n",
       "      <td>to defend NATO countries  So here  you see that geopolitics playing itself out in this way  that this is very much an interest based story  that Bush is looking to get legitimation for his invasion  and so that became the impetus for getting these countries to join  It s also  one might think it s something of an anomaly  given the Trump administration s hostility to NATO in general</td>\n",
       "    </tr>\n",
       "    <tr>\n",
       "      <th>634</th>\n",
       "      <td>0.684455</td>\n",
       "      <td>it was a path not taken  Okay  let s talk about NATO  What  when  and why  So NATO is a creature of the Cold War  And I ve already mentioned the United Nations several times today  and it s important to think about NATO and the origins of NATO alongside the creation of the United Nations because they were created both in the      s</td>\n",
       "    </tr>\n",
       "    <tr>\n",
       "      <th>388</th>\n",
       "      <td>0.680227</td>\n",
       "      <td>highly pressured Soviet system  One was that they got involved in a quagmire war in Afghanistan  They invaded Afghanistan in       having failed to learn from the examples of the British and others who had tried to invade Afghanistan in the past  a very difficult country to invade given the terrain  They spent the entire     s embroiled in this war in Afghanistan  It was their fear of</td>\n",
       "    </tr>\n",
       "    <tr>\n",
       "      <th>606</th>\n",
       "      <td>0.678096</td>\n",
       "      <td>Today  we re gonna be talking about the international architecture of what I m calling the early post Cold War world  and by early  I m really focusing on the time from the collapse of communism until the financial crisis of      because we re gonna see that that ushered in pretty big structural changes  both within a lot of the countries we re gonna be talking about and in international political economy</td>\n",
       "    </tr>\n",
       "    <tr>\n",
       "      <th>633</th>\n",
       "      <td>0.675992</td>\n",
       "      <td>of the post Cold War world  And had that become the template going forward  we would be in a very different place today  Well  that s one of the things I m going to be arguing to you later in the course because  as it turns out  it was one of the paths not taken to treat the way in which Saddam Hussein had been expelled from Kuwait as perhaps norm setting for the future handling of international security crises</td>\n",
       "    </tr>\n",
       "    <tr>\n",
       "      <th>648</th>\n",
       "      <td>0.673012</td>\n",
       "      <td>Nonetheless  the US created NATO  The first thing to say about NATO is it s a historically unprecedented  highly unusual alliance  If you think about George Washington s Farewell Address to Congress in       he said  and this was seen as a warning for the future   It is our true policy to steer clear  of permanent alliance with any portion  of the foreign world</td>\n",
       "    </tr>\n",
       "    <tr>\n",
       "      <th>179</th>\n",
       "      <td>0.672133</td>\n",
       "      <td>that had lost its purpose  How realistic was that  how might the world have been different had that happened we re going to be talking about the Global War on Terror I should in after      when  we invaded first Afghanistan and then Iraq  Was there another path that would have been politically viable that would have led the world in a different direction</td>\n",
       "    </tr>\n",
       "  </tbody>\n",
       "</table>\n",
       "</div>"
      ],
      "text/plain": [
       "     cos_similarity  \\\n",
       "619        0.728944   \n",
       "192        0.708552   \n",
       "651        0.693681   \n",
       "679        0.685236   \n",
       "634        0.684455   \n",
       "388        0.680227   \n",
       "606        0.678096   \n",
       "633        0.675992   \n",
       "648        0.673012   \n",
       "179        0.672133   \n",
       "\n",
       "                                                                                                                                                                                                                                                                                                                                                                                                                                text  \n",
       "619         or not out there but in the middle of the Cold War  when everybody s locked into positions that are highly  highly rigid  then ideas are probably largely gonna be beside the point  So that s the way I will tend to use these notions and you will see them coming up  obviously  today but throughout the course  Okay  So let s think about the first post Cold War international security crisis which was prompted  \n",
       "192        so the new international order seems to be  affecting not only relations among countries but relations within them  The third part of the course I m calling the end of the end of history and this is really  has its ultimate roots with      and the emergence of the global war on terror  The invasion of Afghanistan  Iraq  Libya and eventually the collapsing Syria we re going to see that the idea that history  \n",
       "651       and subordinating international institutions to that purpose  Now  a lotta debate about whether NATO was successful during the Cold War  You could say  well  the US won the Cold War and some people say  you could say that we wouldn t have won it without NATO  That s one of the  we can t run the counterfactual  so it really is something of an imponderable  whether we could have won the Cold War without NATO   \n",
       "679                               to defend NATO countries  So here  you see that geopolitics playing itself out in this way  that this is very much an interest based story  that Bush is looking to get legitimation for his invasion  and so that became the impetus for getting these countries to join  It s also  one might think it s something of an anomaly  given the Trump administration s hostility to NATO in general   \n",
       "634                                                                                   it was a path not taken  Okay  let s talk about NATO  What  when  and why  So NATO is a creature of the Cold War  And I ve already mentioned the United Nations several times today  and it s important to think about NATO and the origins of NATO alongside the creation of the United Nations because they were created both in the      s   \n",
       "388                              highly pressured Soviet system  One was that they got involved in a quagmire war in Afghanistan  They invaded Afghanistan in       having failed to learn from the examples of the British and others who had tried to invade Afghanistan in the past  a very difficult country to invade given the terrain  They spent the entire     s embroiled in this war in Afghanistan  It was their fear of  \n",
       "606         Today  we re gonna be talking about the international architecture of what I m calling the early post Cold War world  and by early  I m really focusing on the time from the collapse of communism until the financial crisis of      because we re gonna see that that ushered in pretty big structural changes  both within a lot of the countries we re gonna be talking about and in international political economy  \n",
       "633  of the post Cold War world  And had that become the template going forward  we would be in a very different place today  Well  that s one of the things I m going to be arguing to you later in the course because  as it turns out  it was one of the paths not taken to treat the way in which Saddam Hussein had been expelled from Kuwait as perhaps norm setting for the future handling of international security crises   \n",
       "648                                                    Nonetheless  the US created NATO  The first thing to say about NATO is it s a historically unprecedented  highly unusual alliance  If you think about George Washington s Farewell Address to Congress in       he said  and this was seen as a warning for the future   It is our true policy to steer clear  of permanent alliance with any portion  of the foreign world    \n",
       "179                                                            that had lost its purpose  How realistic was that  how might the world have been different had that happened we re going to be talking about the Global War on Terror I should in after      when  we invaded first Afghanistan and then Iraq  Was there another path that would have been politically viable that would have led the world in a different direction   "
      ]
     },
     "execution_count": 20,
     "metadata": {},
     "output_type": "execute_result"
    }
   ],
   "source": [
    "df_bert.sort_values(['cos_similarity'], ascending=False).head(10)"
   ]
  },
  {
   "cell_type": "code",
   "execution_count": 21,
   "id": "9ddaa964",
   "metadata": {},
   "outputs": [
    {
     "data": {
      "text/html": [
       "<div>\n",
       "<style scoped>\n",
       "    .dataframe tbody tr th:only-of-type {\n",
       "        vertical-align: middle;\n",
       "    }\n",
       "\n",
       "    .dataframe tbody tr th {\n",
       "        vertical-align: top;\n",
       "    }\n",
       "\n",
       "    .dataframe thead th {\n",
       "        text-align: right;\n",
       "    }\n",
       "</style>\n",
       "<table border=\"1\" class=\"dataframe\">\n",
       "  <thead>\n",
       "    <tr style=\"text-align: right;\">\n",
       "      <th></th>\n",
       "      <th>cos_similarity</th>\n",
       "      <th>text</th>\n",
       "    </tr>\n",
       "  </thead>\n",
       "  <tbody>\n",
       "    <tr>\n",
       "      <th>666</th>\n",
       "      <td>0.204324</td>\n",
       "      <td>and welcome to the White House  Today we proudly welcome Bulgaria   audience cheering  Estonia   audience cheering  Latvia   audience cheering  Lithuania   audience cheering  Romania</td>\n",
       "    </tr>\n",
       "    <tr>\n",
       "      <th>544</th>\n",
       "      <td>0.198610</td>\n",
       "      <td>She gives a rock to us now  gets again cucumber   audience laughing  She tests the rock now against the wall  She needs to give it to us and she gets cucumber again   audience laughing  So this is basically the Wall Street protest that you see here   audience laughing    So what he finds there with the Capuchins is a very  he s studied it in many  many  many social animals</td>\n",
       "    </tr>\n",
       "    <tr>\n",
       "      <th>215</th>\n",
       "      <td>0.197326</td>\n",
       "      <td>with its current troubles but mostly  I m gonna focus on since       Yeah  pardon   student speaking faintly  There are no sections in this course  This is why we have an hour and a quarter lecture rather than a    minute lecture  Yeah   student speaking faintly  The topics for the papers will be posted two weeks</td>\n",
       "    </tr>\n",
       "    <tr>\n",
       "      <th>217</th>\n",
       "      <td>0.184655</td>\n",
       "      <td>to write about  Yes  sir  What is the expectation for graduate students  The same course requirements  two papers and a final exam  Yeah  Yes  sir  Pardon     Student  Is there a limit for  mumbles  students to join the class    No  there s no limit</td>\n",
       "    </tr>\n",
       "    <tr>\n",
       "      <th>546</th>\n",
       "      <td>0.176754</td>\n",
       "      <td>is that another monkey just like it is getting more  The monkey s not bothered that the researcher has a bowl full of cucumbers and grapes  right  This is a very robust finding in the social psychology literature about people  Their sense of the word welfare is often other regarding  but they make relatively local comparisons  They do not compare themselves to people very different from themselves</td>\n",
       "    </tr>\n",
       "    <tr>\n",
       "      <th>221</th>\n",
       "      <td>0.167207</td>\n",
       "      <td>I will see you then   music</td>\n",
       "    </tr>\n",
       "    <tr>\n",
       "      <th>209</th>\n",
       "      <td>0.160956</td>\n",
       "      <td>as playable videos  so it is possible to play the video  yes so no laptops  no screens  no phones and everything  everything I put up here will be available to you  so you don t have to take copious notes of what appears on slides  Comments  questions  Yes  sir  you re gonna have to yell  We will have microphones here starting next time   student speaking faintly</td>\n",
       "    </tr>\n",
       "    <tr>\n",
       "      <th>541</th>\n",
       "      <td>0.148393</td>\n",
       "      <td>and if you give both of them cucumber for the task  the two monkeys side by side  they re perfectly willing to do this    times in a row  So cucumber even though it s really only water in my opinion  but cucumber is perfectly fine for them  Now  if you give the partner grapes  The food preferences of my Capuchin monkeys correspond exactly with the prices in the supermarket  And so if you give them grapes as a far better food</td>\n",
       "    </tr>\n",
       "    <tr>\n",
       "      <th>549</th>\n",
       "      <td>0.133613</td>\n",
       "      <td>Yeah    Is it only by occupation    No  not necessarily  I mean  there s studies of children for example  You give a little boy a half a glass of orange juice and then you give his sister a full glass and he was happy before  Now  he s furious  right  So it depends what your reference group is  Paul Bloom who gave the Devane Lectures</td>\n",
       "    </tr>\n",
       "    <tr>\n",
       "      <th>543</th>\n",
       "      <td>0.027405</td>\n",
       "      <td>the first piece she eats  Then she sees the other one getting grape and you will see what happens  So she gives a rock to us  That s the task and we give her a piece of cucumber and she eats it  The other one needs to give a rock to us and that s what she does  And she gets a grape and she eats it  The other one sees that</td>\n",
       "    </tr>\n",
       "  </tbody>\n",
       "</table>\n",
       "</div>"
      ],
      "text/plain": [
       "     cos_similarity  \\\n",
       "666        0.204324   \n",
       "544        0.198610   \n",
       "215        0.197326   \n",
       "217        0.184655   \n",
       "546        0.176754   \n",
       "221        0.167207   \n",
       "209        0.160956   \n",
       "541        0.148393   \n",
       "549        0.133613   \n",
       "543        0.027405   \n",
       "\n",
       "                                                                                                                                                                                                                                                                                                                                                                                                                                              text  \n",
       "666                                                                                                                                                                                                                                                        and welcome to the White House  Today we proudly welcome Bulgaria   audience cheering  Estonia   audience cheering  Latvia   audience cheering  Lithuania   audience cheering  Romania   \n",
       "544                                                        She gives a rock to us now  gets again cucumber   audience laughing  She tests the rock now against the wall  She needs to give it to us and she gets cucumber again   audience laughing  So this is basically the Wall Street protest that you see here   audience laughing    So what he finds there with the Capuchins is a very  he s studied it in many  many  many social animals  \n",
       "215                                                                                                                     with its current troubles but mostly  I m gonna focus on since       Yeah  pardon   student speaking faintly  There are no sections in this course  This is why we have an hour and a quarter lecture rather than a    minute lecture  Yeah   student speaking faintly  The topics for the papers will be posted two weeks  \n",
       "217                                                                                                                                                                                     to write about  Yes  sir  What is the expectation for graduate students  The same course requirements  two papers and a final exam  Yeah  Yes  sir  Pardon     Student  Is there a limit for  mumbles  students to join the class    No  there s no limit   \n",
       "546                               is that another monkey just like it is getting more  The monkey s not bothered that the researcher has a bowl full of cucumbers and grapes  right  This is a very robust finding in the social psychology literature about people  Their sense of the word welfare is often other regarding  but they make relatively local comparisons  They do not compare themselves to people very different from themselves  \n",
       "221                                                                                                                                                                                                                                                                                                                                                                                                                   I will see you then   music   \n",
       "209                                                                 as playable videos  so it is possible to play the video  yes so no laptops  no screens  no phones and everything  everything I put up here will be available to you  so you don t have to take copious notes of what appears on slides  Comments  questions  Yes  sir  you re gonna have to yell  We will have microphones here starting next time   student speaking faintly   \n",
       "541  and if you give both of them cucumber for the task  the two monkeys side by side  they re perfectly willing to do this    times in a row  So cucumber even though it s really only water in my opinion  but cucumber is perfectly fine for them  Now  if you give the partner grapes  The food preferences of my Capuchin monkeys correspond exactly with the prices in the supermarket  And so if you give them grapes as a far better food   \n",
       "549                                                                                                Yeah    Is it only by occupation    No  not necessarily  I mean  there s studies of children for example  You give a little boy a half a glass of orange juice and then you give his sister a full glass and he was happy before  Now  he s furious  right  So it depends what your reference group is  Paul Bloom who gave the Devane Lectures  \n",
       "543                                                                                                           the first piece she eats  Then she sees the other one getting grape and you will see what happens  So she gives a rock to us  That s the task and we give her a piece of cucumber and she eats it  The other one needs to give a rock to us and that s what she does  And she gets a grape and she eats it  The other one sees that   "
      ]
     },
     "execution_count": 21,
     "metadata": {},
     "output_type": "execute_result"
    }
   ],
   "source": [
    "df_bert.sort_values(['cos_similarity'], ascending=False).tail(10)"
   ]
  },
  {
   "cell_type": "code",
   "execution_count": null,
   "id": "b1bcb8c4",
   "metadata": {},
   "outputs": [],
   "source": []
  }
 ],
 "metadata": {
  "kernelspec": {
   "display_name": "Python 3 (ipykernel)",
   "language": "python",
   "name": "python3"
  },
  "language_info": {
   "codemirror_mode": {
    "name": "ipython",
    "version": 3
   },
   "file_extension": ".py",
   "mimetype": "text/x-python",
   "name": "python",
   "nbconvert_exporter": "python",
   "pygments_lexer": "ipython3",
   "version": "3.9.7"
  }
 },
 "nbformat": 4,
 "nbformat_minor": 5
}

{
 "cells": [
  {
   "cell_type": "code",
   "execution_count": 1,
   "id": "ae332c42",
   "metadata": {},
   "outputs": [],
   "source": [
    "# adapting from https://medium.com/@kiran.naidu97.kiran/sentence-similarity-with-bert-49bcd250c1bc"
   ]
  },
  {
   "cell_type": "code",
   "execution_count": 2,
   "id": "38d004d2",
   "metadata": {},
   "outputs": [],
   "source": [
    "#!pip install sentence_transformers"
   ]
  },
  {
   "cell_type": "code",
   "execution_count": 29,
   "id": "caa57add",
   "metadata": {},
   "outputs": [],
   "source": [
    "from sentence_transformers import SentenceTransformer\n",
    "import numpy as npdf_transcripts\n",
    "import pandas as pd\n",
    "import pickle"
   ]
  },
  {
   "cell_type": "code",
   "execution_count": 4,
   "id": "34bb725b",
   "metadata": {},
   "outputs": [],
   "source": [
    "pd.options.display.max_columns = None\n",
    "pd.options.display.max_rows = None\n",
    "pd.options.display.max_colwidth = None"
   ]
  },
  {
   "cell_type": "code",
   "execution_count": 5,
   "id": "c5b9f1d1",
   "metadata": {},
   "outputs": [],
   "source": [
    "df_transcripts = pd.read_csv(\"transcripts_m10.csv\")"
   ]
  },
  {
   "cell_type": "code",
   "execution_count": 6,
   "id": "be4ef656",
   "metadata": {},
   "outputs": [],
   "source": [
    "model = SentenceTransformer('bert-base-nli-mean-tokens')"
   ]
  },
  {
   "cell_type": "code",
   "execution_count": 7,
   "id": "4b34cdaf",
   "metadata": {},
   "outputs": [],
   "source": [
    "model_text = df_transcripts['alpha_text']"
   ]
  },
  {
   "cell_type": "code",
   "execution_count": 32,
   "id": "31052255",
   "metadata": {},
   "outputs": [],
   "source": [
    "# if you built this once and persisted\n",
    "pkl_file = open('model_text.pkl', 'rb')\n",
    "model_text = pickle.load(pkl_file)"
   ]
  },
  {
   "cell_type": "code",
   "execution_count": 8,
   "id": "80caab59",
   "metadata": {},
   "outputs": [],
   "source": [
    "# build if no model persisted through pickle\n",
    "# this could take a while... 10 min or so on current data set\n",
    "# sentence_embeddings = model.encode(df_transcripts['alpha_text']) "
   ]
  },
  {
   "cell_type": "code",
   "execution_count": 31,
   "id": "f65be358",
   "metadata": {},
   "outputs": [],
   "source": [
    "## use pickle\n",
    "##output = open('model_text.pkl', 'wb')\n",
    "##pickle.dump(model_text, output)"
   ]
  },
  {
   "cell_type": "code",
   "execution_count": 33,
   "id": "914723a4",
   "metadata": {},
   "outputs": [],
   "source": [
    "sentence_embeddings1 = model.encode(\"\"\"\n",
    "\n",
    "The Cold War was a period of geopolitical tension between the United States and the Soviet Union and their \n",
    "respective allies, the Western Bloc and the Eastern Bloc, which began following World War II. Historians do \n",
    "not fully agree on its starting and ending points, but the period is generally considered to span the 1947 \n",
    "Truman Doctrine (12 March 1947) to the 1991 dissolution of the Soviet Union (26 December 1991).[1] The term \n",
    "cold war is used because there was no large-scale fighting directly between the two superpowers, but they \n",
    "each supported major regional conflicts known as proxy wars. \n",
    "\"\"\")\n",
    "\n",
    "from sklearn.metrics.pairwise import cosine_similarity\n",
    "\n",
    "sim_arr=cosine_similarity(\n",
    "    [sentence_embeddings1],\n",
    "    sentence_embeddings[:]\n",
    ")"
   ]
  },
  {
   "cell_type": "code",
   "execution_count": 34,
   "id": "a3902051",
   "metadata": {},
   "outputs": [
    {
     "data": {
      "text/plain": [
       "735"
      ]
     },
     "execution_count": 34,
     "metadata": {},
     "output_type": "execute_result"
    }
   ],
   "source": [
    "len(sim_arr[0])"
   ]
  },
  {
   "cell_type": "code",
   "execution_count": 35,
   "id": "5e633879",
   "metadata": {},
   "outputs": [],
   "source": [
    "di=dict(zip(sim_arr[0],df_transcripts['text']))"
   ]
  },
  {
   "cell_type": "code",
   "execution_count": 36,
   "id": "3854d691",
   "metadata": {},
   "outputs": [],
   "source": [
    "df_bert = pd.DataFrame({'cos_similarity': list(sim_arr[0]), 'text': df_transcripts['alpha_text']})"
   ]
  },
  {
   "cell_type": "code",
   "execution_count": 37,
   "id": "9390358d",
   "metadata": {},
   "outputs": [
    {
     "data": {
      "text/html": [
       "<div>\n",
       "<style scoped>\n",
       "    .dataframe tbody tr th:only-of-type {\n",
       "        vertical-align: middle;\n",
       "    }\n",
       "\n",
       "    .dataframe tbody tr th {\n",
       "        vertical-align: top;\n",
       "    }\n",
       "\n",
       "    .dataframe thead th {\n",
       "        text-align: right;\n",
       "    }\n",
       "</style>\n",
       "<table border=\"1\" class=\"dataframe\">\n",
       "  <thead>\n",
       "    <tr style=\"text-align: right;\">\n",
       "      <th></th>\n",
       "      <th>cos_similarity</th>\n",
       "      <th>text</th>\n",
       "    </tr>\n",
       "  </thead>\n",
       "  <tbody>\n",
       "    <tr>\n",
       "      <th>184</th>\n",
       "      <td>0.820798</td>\n",
       "      <td>that came about as a byproduct of the Cold War at least among the the major powers even if they maintained this stability  partly by  acting out their conflicts in proxy wars in  Asia  Africa and at America but it by and large the great powers were the nucleus standoff worked and we didn t have a major conflict between them  Now we have gone to a unipolar world dominated  by a single power  after</td>\n",
       "    </tr>\n",
       "    <tr>\n",
       "      <th>651</th>\n",
       "      <td>0.812967</td>\n",
       "      <td>and subordinating international institutions to that purpose  Now  a lotta debate about whether NATO was successful during the Cold War  You could say  well  the US won the Cold War and some people say  you could say that we wouldn t have won it without NATO  That s one of the  we can t run the counterfactual  so it really is something of an imponderable  whether we could have won the Cold War without NATO</td>\n",
       "    </tr>\n",
       "    <tr>\n",
       "      <th>634</th>\n",
       "      <td>0.801128</td>\n",
       "      <td>it was a path not taken  Okay  let s talk about NATO  What  when  and why  So NATO is a creature of the Cold War  And I ve already mentioned the United Nations several times today  and it s important to think about NATO and the origins of NATO alongside the creation of the United Nations because they were created both in the      s</td>\n",
       "    </tr>\n",
       "    <tr>\n",
       "      <th>647</th>\n",
       "      <td>0.798253</td>\n",
       "      <td>the standoff with the Soviets  they would create a similar alliance which they indeed did a few years later  that s where the Warsaw Pact came from  was the Soviet response to NATO  but he also said it s stupid  because when the chips are down  countries follow their own interests  they re no more gonna be guided by membership of an alliance then they are gonna be guided by UN resolutions</td>\n",
       "    </tr>\n",
       "    <tr>\n",
       "      <th>635</th>\n",
       "      <td>0.795321</td>\n",
       "      <td>After World War I  Woodrow Wilson had wanted to create a League of Nations and that had failed  largely because the American Congress wouldn t go along with it and FDR had  during World War II  greatly invested in the idea that there must be an institution of this general sort created after World War II to prevent nations from going to war</td>\n",
       "    </tr>\n",
       "    <tr>\n",
       "      <th>133</th>\n",
       "      <td>0.794506</td>\n",
       "      <td>because of the Cold War  It s true we had episodes like the Cuban Missile Crisis and the Vietnam War but as the Vietnam War indicates  most of the conflicts within the Cold War were played out as you like  as proxy wars in other parts of the world  From the point of view of the citizens of the Western democracies  except for those who are actually fighting in Vietnam  it was a far off war that didn t have a great impact</td>\n",
       "    </tr>\n",
       "    <tr>\n",
       "      <th>619</th>\n",
       "      <td>0.791430</td>\n",
       "      <td>or not out there but in the middle of the Cold War  when everybody s locked into positions that are highly  highly rigid  then ideas are probably largely gonna be beside the point  So that s the way I will tend to use these notions and you will see them coming up  obviously  today but throughout the course  Okay  So let s think about the first post Cold War international security crisis which was prompted</td>\n",
       "    </tr>\n",
       "    <tr>\n",
       "      <th>655</th>\n",
       "      <td>0.785472</td>\n",
       "      <td>Many people remembered World War II and some  not that few  also remembered World War I  and the idea of an independent Germany  outside of NATO  made a lot of Europeans nervous  And so the impetus to say the reunified Germany would be part of NATO came from the other European powers  And the Russians didn t like it  They  too  said  what s going on here  why is NATO starting to expand  And George Herbert Walker Bush and Helmut Kohl</td>\n",
       "    </tr>\n",
       "    <tr>\n",
       "      <th>654</th>\n",
       "      <td>0.785186</td>\n",
       "      <td>and was there to protect these countries against the Soviet Union  and it s now an alliance without a purpose  That was a difficult thing to do right at the end of the Cold War because of East Germany  And the thing about East Germany was it rapidly became clear after the wall came down that Germany was gonna be reunited  and it was just  unstoppable force to reunite Germany  And reuniting Germany made a lot of people nervous</td>\n",
       "    </tr>\n",
       "    <tr>\n",
       "      <th>387</th>\n",
       "      <td>0.784786</td>\n",
       "      <td>for instance he was opposed to forming NATO even  which he thought would unnecessarily militarize the conflict with the Soviet Union and eventually he resigned from the government and went off in a huff to Princeton  But very largely  the US in Europe did follow the policy of containment  What changed in the     s was two things  which increased the fiscal pressure on the already pressured</td>\n",
       "    </tr>\n",
       "  </tbody>\n",
       "</table>\n",
       "</div>"
      ],
      "text/plain": [
       "     cos_similarity  \\\n",
       "184        0.820798   \n",
       "651        0.812967   \n",
       "634        0.801128   \n",
       "647        0.798253   \n",
       "635        0.795321   \n",
       "133        0.794506   \n",
       "619        0.791430   \n",
       "655        0.785472   \n",
       "654        0.785186   \n",
       "387        0.784786   \n",
       "\n",
       "                                                                                                                                                                                                                                                                                                                                                                                                                                                      text  \n",
       "184                                  that came about as a byproduct of the Cold War at least among the the major powers even if they maintained this stability  partly by  acting out their conflicts in proxy wars in  Asia  Africa and at America but it by and large the great powers were the nucleus standoff worked and we didn t have a major conflict between them  Now we have gone to a unipolar world dominated  by a single power  after        \n",
       "651                             and subordinating international institutions to that purpose  Now  a lotta debate about whether NATO was successful during the Cold War  You could say  well  the US won the Cold War and some people say  you could say that we wouldn t have won it without NATO  That s one of the  we can t run the counterfactual  so it really is something of an imponderable  whether we could have won the Cold War without NATO   \n",
       "634                                                                                                         it was a path not taken  Okay  let s talk about NATO  What  when  and why  So NATO is a creature of the Cold War  And I ve already mentioned the United Nations several times today  and it s important to think about NATO and the origins of NATO alongside the creation of the United Nations because they were created both in the      s   \n",
       "647                                               the standoff with the Soviets  they would create a similar alliance which they indeed did a few years later  that s where the Warsaw Pact came from  was the Soviet response to NATO  but he also said it s stupid  because when the chips are down  countries follow their own interests  they re no more gonna be guided by membership of an alliance then they are gonna be guided by UN resolutions   \n",
       "635                                                                                                 After World War I  Woodrow Wilson had wanted to create a League of Nations and that had failed  largely because the American Congress wouldn t go along with it and FDR had  during World War II  greatly invested in the idea that there must be an institution of this general sort created after World War II to prevent nations from going to war   \n",
       "133                because of the Cold War  It s true we had episodes like the Cuban Missile Crisis and the Vietnam War but as the Vietnam War indicates  most of the conflicts within the Cold War were played out as you like  as proxy wars in other parts of the world  From the point of view of the citizens of the Western democracies  except for those who are actually fighting in Vietnam  it was a far off war that didn t have a great impact  \n",
       "619                               or not out there but in the middle of the Cold War  when everybody s locked into positions that are highly  highly rigid  then ideas are probably largely gonna be beside the point  So that s the way I will tend to use these notions and you will see them coming up  obviously  today but throughout the course  Okay  So let s think about the first post Cold War international security crisis which was prompted  \n",
       "655  Many people remembered World War II and some  not that few  also remembered World War I  and the idea of an independent Germany  outside of NATO  made a lot of Europeans nervous  And so the impetus to say the reunified Germany would be part of NATO came from the other European powers  And the Russians didn t like it  They  too  said  what s going on here  why is NATO starting to expand  And George Herbert Walker Bush and Helmut Kohl   \n",
       "654         and was there to protect these countries against the Soviet Union  and it s now an alliance without a purpose  That was a difficult thing to do right at the end of the Cold War because of East Germany  And the thing about East Germany was it rapidly became clear after the wall came down that Germany was gonna be reunited  and it was just  unstoppable force to reunite Germany  And reuniting Germany made a lot of people nervous   \n",
       "387                                              for instance he was opposed to forming NATO even  which he thought would unnecessarily militarize the conflict with the Soviet Union and eventually he resigned from the government and went off in a huff to Princeton  But very largely  the US in Europe did follow the policy of containment  What changed in the     s was two things  which increased the fiscal pressure on the already pressured   "
      ]
     },
     "execution_count": 37,
     "metadata": {},
     "output_type": "execute_result"
    }
   ],
   "source": [
    "df_bert.sort_values(['cos_similarity'], ascending=False).head(10)"
   ]
  },
  {
   "cell_type": "code",
   "execution_count": 38,
   "id": "9ddaa964",
   "metadata": {},
   "outputs": [
    {
     "data": {
      "text/html": [
       "<div>\n",
       "<style scoped>\n",
       "    .dataframe tbody tr th:only-of-type {\n",
       "        vertical-align: middle;\n",
       "    }\n",
       "\n",
       "    .dataframe tbody tr th {\n",
       "        vertical-align: top;\n",
       "    }\n",
       "\n",
       "    .dataframe thead th {\n",
       "        text-align: right;\n",
       "    }\n",
       "</style>\n",
       "<table border=\"1\" class=\"dataframe\">\n",
       "  <thead>\n",
       "    <tr style=\"text-align: right;\">\n",
       "      <th></th>\n",
       "      <th>cos_similarity</th>\n",
       "      <th>text</th>\n",
       "    </tr>\n",
       "  </thead>\n",
       "  <tbody>\n",
       "    <tr>\n",
       "      <th>209</th>\n",
       "      <td>0.392841</td>\n",
       "      <td>as playable videos  so it is possible to play the video  yes so no laptops  no screens  no phones and everything  everything I put up here will be available to you  so you don t have to take copious notes of what appears on slides  Comments  questions  Yes  sir  you re gonna have to yell  We will have microphones here starting next time   student speaking faintly</td>\n",
       "    </tr>\n",
       "    <tr>\n",
       "      <th>544</th>\n",
       "      <td>0.392772</td>\n",
       "      <td>She gives a rock to us now  gets again cucumber   audience laughing  She tests the rock now against the wall  She needs to give it to us and she gets cucumber again   audience laughing  So this is basically the Wall Street protest that you see here   audience laughing    So what he finds there with the Capuchins is a very  he s studied it in many  many  many social animals</td>\n",
       "    </tr>\n",
       "    <tr>\n",
       "      <th>203</th>\n",
       "      <td>0.388736</td>\n",
       "      <td>the office hours are not just going to vanish into the ether we re going to  Christina and I are going to film five sessions over the course of the semester  where she and I will discuss what s come up in the office hours and we will post that  on the course website  I do this with my Coursera course and it proves to be quite helpful  So  we will get questions that have come up in the office hours</td>\n",
       "    </tr>\n",
       "    <tr>\n",
       "      <th>86</th>\n",
       "      <td>0.383352</td>\n",
       "      <td>But of course  they do that largely by imitating  sort of creating if you like  generic versions that are copying technologies and then copying marketing methods  And if you do that  that tends to move  it means everybody else can do it too  And so if you like are sawing off the branch you re sitting on</td>\n",
       "    </tr>\n",
       "    <tr>\n",
       "      <th>237</th>\n",
       "      <td>0.382013</td>\n",
       "      <td>it is rooted in a straightforward view of society  In the understanding that the individual does best in a strong and decent community of people with principles and standards and common aims and values  A new politics  a politics of courage and honesty and trust  Now it means telling it as it is  it means not opposing everything every other party does for the sake of it</td>\n",
       "    </tr>\n",
       "    <tr>\n",
       "      <th>130</th>\n",
       "      <td>0.381360</td>\n",
       "      <td>Hello everybody and welcome  How is everybody today  Great  Well  I m delighted to have the opportunity to be giving the DeVane Lectures  And the DeVane Lectures  as you can tell  from looking around you double as being a regular Yale course for credit that students can take for credit and lectures that are open to the general public</td>\n",
       "    </tr>\n",
       "    <tr>\n",
       "      <th>668</th>\n",
       "      <td>0.354379</td>\n",
       "      <td>They earned their freedom through courage and perseverance  And today  they stand with us as full and equal partners in this great alliance   applauding   pen thudding   laughing   applauding  This is a special moment in the hopeful story of human liberty as America formally declares its support</td>\n",
       "    </tr>\n",
       "    <tr>\n",
       "      <th>666</th>\n",
       "      <td>0.353851</td>\n",
       "      <td>and welcome to the White House  Today we proudly welcome Bulgaria   audience cheering  Estonia   audience cheering  Latvia   audience cheering  Lithuania   audience cheering  Romania</td>\n",
       "    </tr>\n",
       "    <tr>\n",
       "      <th>543</th>\n",
       "      <td>0.279621</td>\n",
       "      <td>the first piece she eats  Then she sees the other one getting grape and you will see what happens  So she gives a rock to us  That s the task and we give her a piece of cucumber and she eats it  The other one needs to give a rock to us and that s what she does  And she gets a grape and she eats it  The other one sees that</td>\n",
       "    </tr>\n",
       "    <tr>\n",
       "      <th>221</th>\n",
       "      <td>0.103728</td>\n",
       "      <td>I will see you then   music</td>\n",
       "    </tr>\n",
       "  </tbody>\n",
       "</table>\n",
       "</div>"
      ],
      "text/plain": [
       "     cos_similarity  \\\n",
       "209        0.392841   \n",
       "544        0.392772   \n",
       "203        0.388736   \n",
       "86         0.383352   \n",
       "237        0.382013   \n",
       "130        0.381360   \n",
       "668        0.354379   \n",
       "666        0.353851   \n",
       "543        0.279621   \n",
       "221        0.103728   \n",
       "\n",
       "                                                                                                                                                                                                                                                                                                                                                                                                                 text  \n",
       "209                                    as playable videos  so it is possible to play the video  yes so no laptops  no screens  no phones and everything  everything I put up here will be available to you  so you don t have to take copious notes of what appears on slides  Comments  questions  Yes  sir  you re gonna have to yell  We will have microphones here starting next time   student speaking faintly   \n",
       "544                           She gives a rock to us now  gets again cucumber   audience laughing  She tests the rock now against the wall  She needs to give it to us and she gets cucumber again   audience laughing  So this is basically the Wall Street protest that you see here   audience laughing    So what he finds there with the Capuchins is a very  he s studied it in many  many  many social animals  \n",
       "203  the office hours are not just going to vanish into the ether we re going to  Christina and I are going to film five sessions over the course of the semester  where she and I will discuss what s come up in the office hours and we will post that  on the course website  I do this with my Coursera course and it proves to be quite helpful  So  we will get questions that have come up in the office hours  \n",
       "86                                                                                                  But of course  they do that largely by imitating  sort of creating if you like  generic versions that are copying technologies and then copying marketing methods  And if you do that  that tends to move  it means everybody else can do it too  And so if you like are sawing off the branch you re sitting on   \n",
       "237                             it is rooted in a straightforward view of society  In the understanding that the individual does best in a strong and decent community of people with principles and standards and common aims and values  A new politics  a politics of courage and honesty and trust  Now it means telling it as it is  it means not opposing everything every other party does for the sake of it   \n",
       "130                                                                  Hello everybody and welcome  How is everybody today  Great  Well  I m delighted to have the opportunity to be giving the DeVane Lectures  And the DeVane Lectures  as you can tell  from looking around you double as being a regular Yale course for credit that students can take for credit and lectures that are open to the general public   \n",
       "668                                                                                                          They earned their freedom through courage and perseverance  And today  they stand with us as full and equal partners in this great alliance   applauding   pen thudding   laughing   applauding  This is a special moment in the hopeful story of human liberty as America formally declares its support  \n",
       "666                                                                                                                                                                                                                           and welcome to the White House  Today we proudly welcome Bulgaria   audience cheering  Estonia   audience cheering  Latvia   audience cheering  Lithuania   audience cheering  Romania   \n",
       "543                                                                              the first piece she eats  Then she sees the other one getting grape and you will see what happens  So she gives a rock to us  That s the task and we give her a piece of cucumber and she eats it  The other one needs to give a rock to us and that s what she does  And she gets a grape and she eats it  The other one sees that   \n",
       "221                                                                                                                                                                                                                                                                                                                                                                                      I will see you then   music   "
      ]
     },
     "execution_count": 38,
     "metadata": {},
     "output_type": "execute_result"
    }
   ],
   "source": [
    "df_bert.sort_values(['cos_similarity'], ascending=False).tail(10)"
   ]
  },
  {
   "cell_type": "code",
   "execution_count": null,
   "id": "b1bcb8c4",
   "metadata": {},
   "outputs": [],
   "source": []
  },
  {
   "cell_type": "code",
   "execution_count": null,
   "id": "db7bbbed",
   "metadata": {},
   "outputs": [],
   "source": []
  }
 ],
 "metadata": {
  "kernelspec": {
   "display_name": "Python 3 (ipykernel)",
   "language": "python",
   "name": "python3"
  },
  "language_info": {
   "codemirror_mode": {
    "name": "ipython",
    "version": 3
   },
   "file_extension": ".py",
   "mimetype": "text/x-python",
   "name": "python",
   "nbconvert_exporter": "python",
   "pygments_lexer": "ipython3",
   "version": "3.9.7"
  }
 },
 "nbformat": 4,
 "nbformat_minor": 5
}

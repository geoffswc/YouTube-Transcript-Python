{
 "cells": [
  {
   "cell_type": "code",
   "execution_count": 1,
   "id": "ae332c42",
   "metadata": {},
   "outputs": [],
   "source": [
    "# adapting from https://medium.com/@kiran.naidu97.kiran/sentence-similarity-with-bert-49bcd250c1bc"
   ]
  },
  {
   "cell_type": "code",
   "execution_count": 2,
   "id": "38d004d2",
   "metadata": {},
   "outputs": [],
   "source": [
    "#!pip install sentence_transformers"
   ]
  },
  {
   "cell_type": "code",
   "execution_count": 29,
   "id": "caa57add",
   "metadata": {},
   "outputs": [],
   "source": [
    "from sentence_transformers import SentenceTransformer\n",
    "import numpy as npdf_transcripts\n",
    "import pandas as pd\n",
    "import pickle"
   ]
  },
  {
   "cell_type": "code",
   "execution_count": 4,
   "id": "34bb725b",
   "metadata": {},
   "outputs": [],
   "source": [
    "pd.options.display.max_columns = None\n",
    "pd.options.display.max_rows = None\n",
    "pd.options.display.max_colwidth = None"
   ]
  },
  {
   "cell_type": "code",
   "execution_count": 5,
   "id": "c5b9f1d1",
   "metadata": {},
   "outputs": [],
   "source": [
    "df_transcripts = pd.read_csv(\"transcripts_m10.csv\")"
   ]
  },
  {
   "cell_type": "code",
   "execution_count": 6,
   "id": "be4ef656",
   "metadata": {},
   "outputs": [],
   "source": [
    "model = SentenceTransformer('bert-base-nli-mean-tokens')"
   ]
  },
  {
   "cell_type": "code",
   "execution_count": 7,
   "id": "4b34cdaf",
   "metadata": {},
   "outputs": [],
   "source": [
    "model_text = df_transcripts['alpha_text']"
   ]
  },
  {
   "cell_type": "code",
   "execution_count": 32,
   "id": "d2828fda",
   "metadata": {},
   "outputs": [],
   "source": [
    "# if you built this once and persisted\n",
    "pkl_file = open('model_text.pkl', 'rb')\n",
    "model_text = pickle.load(pkl_file)"
   ]
  },
  {
   "cell_type": "code",
   "execution_count": 8,
   "id": "80caab59",
   "metadata": {},
   "outputs": [],
   "source": [
    "# build if no model persisted through pickle\n",
    "# this could take a while... 10 min or so on current data set\n",
    "# sentence_embeddings = model.encode(df_transcripts['alpha_text']) "
   ]
  },
  {
   "cell_type": "code",
   "execution_count": 31,
   "id": "5c511191",
   "metadata": {},
   "outputs": [],
   "source": [
    "## use pickle\n",
    "##output = open('model_text.pkl', 'wb')\n",
    "##pickle.dump(model_text, output)"
   ]
  },
  {
   "cell_type": "code",
   "execution_count": 21,
   "id": "914723a4",
   "metadata": {},
   "outputs": [],
   "source": [
    "sentence_embeddings1 = model.encode(\"the naval blockade wasn't successful, but still\")\n",
    "\n",
    "from sklearn.metrics.pairwise import cosine_similarity\n",
    "\n",
    "sim_arr=cosine_similarity(\n",
    "    [sentence_embeddings1],\n",
    "    sentence_embeddings[:]\n",
    ")"
   ]
  },
  {
   "cell_type": "code",
   "execution_count": 22,
   "id": "a3902051",
   "metadata": {},
   "outputs": [
    {
     "data": {
      "text/plain": [
       "735"
      ]
     },
     "execution_count": 22,
     "metadata": {},
     "output_type": "execute_result"
    }
   ],
   "source": [
    "len(sim_arr[0])"
   ]
  },
  {
   "cell_type": "code",
   "execution_count": 23,
   "id": "5e633879",
   "metadata": {},
   "outputs": [],
   "source": [
    "di=dict(zip(sim_arr[0],df_transcripts['text']))"
   ]
  },
  {
   "cell_type": "code",
   "execution_count": 24,
   "id": "3854d691",
   "metadata": {},
   "outputs": [],
   "source": [
    "df_bert = pd.DataFrame({'cos_similarity': list(sim_arr[0]), 'text': df_transcripts['alpha_text']})"
   ]
  },
  {
   "cell_type": "code",
   "execution_count": 25,
   "id": "9390358d",
   "metadata": {},
   "outputs": [
    {
     "data": {
      "text/html": [
       "<div>\n",
       "<style scoped>\n",
       "    .dataframe tbody tr th:only-of-type {\n",
       "        vertical-align: middle;\n",
       "    }\n",
       "\n",
       "    .dataframe tbody tr th {\n",
       "        vertical-align: top;\n",
       "    }\n",
       "\n",
       "    .dataframe thead th {\n",
       "        text-align: right;\n",
       "    }\n",
       "</style>\n",
       "<table border=\"1\" class=\"dataframe\">\n",
       "  <thead>\n",
       "    <tr style=\"text-align: right;\">\n",
       "      <th></th>\n",
       "      <th>cos_similarity</th>\n",
       "      <th>text</th>\n",
       "    </tr>\n",
       "  </thead>\n",
       "  <tbody>\n",
       "    <tr>\n",
       "      <th>181</th>\n",
       "      <td>0.672462</td>\n",
       "      <td>it tends either to be policy wonks who just go on about what would be  the best policy or political scientists who talk about why some policies get adopted in some systems and not in other systems but there s very little discussion of what is the effective political way of achieving a good policy or the effective political way of blocking a bad policy and so when I talk about innovations in</td>\n",
       "    </tr>\n",
       "    <tr>\n",
       "      <th>575</th>\n",
       "      <td>0.671366</td>\n",
       "      <td>might be sufficient to get people to support a political program without reference to what others are doing  And I think the other thing to say  You could say okay  these are two competing conceptions of fairness  It s not obvious why one will win rather than the other  but the difficulty is that it s much harder to hold a solidaristic coalition together precisely because all you have to do</td>\n",
       "    </tr>\n",
       "    <tr>\n",
       "      <th>438</th>\n",
       "      <td>0.655397</td>\n",
       "      <td>is the haphazard use of power  And by this I m referring to the idea that when a government s capacity to enforce things is low  it has to compensate by being unpredictable  So for example  in a famous article about   th century England  there were no police in   th century England  they didn t get police until the   th century        I believe  or       somewhere around there  But if you look over the course</td>\n",
       "    </tr>\n",
       "    <tr>\n",
       "      <th>657</th>\n",
       "      <td>0.655173</td>\n",
       "      <td>So my question is  is this a new strategy  I feel that if the same kind of games continue to be played  if one country plays some card against the other country  then all of those problems  all of those issues that we ve been mentioning today will be very difficult to resolve  Glasnost  free elections  political pluralism  the problems of concern to you    So he was skeptical  He thought that this is not likely to be how things</td>\n",
       "    </tr>\n",
       "    <tr>\n",
       "      <th>318</th>\n",
       "      <td>0.650952</td>\n",
       "      <td>And that has two implications that I want to now dig into a little more deeply  The one implication is that left of center parties are gonna be less effective in protecting employed workers  So why might this be the case  I said unions protect their members  But the fewer members there are in an industry the less leverage the union has in negotiating settlements  You see this is going on right now  this isn t in a multi party system</td>\n",
       "    </tr>\n",
       "    <tr>\n",
       "      <th>299</th>\n",
       "      <td>0.648169</td>\n",
       "      <td>and was talking about the claim  She wasn t herself taking those views  But it didn t matter  this went viral  or the      equivalent of viral  Because it was Clinton distancing himself from the African American affirmative active agenda as it was portrayed by his critics as a way to try and move to the center  And so the thought here is</td>\n",
       "    </tr>\n",
       "    <tr>\n",
       "      <th>512</th>\n",
       "      <td>0.648119</td>\n",
       "      <td>that the end of the Cold War was gonna be good for left of center parties were wrong and things have played out quite differently since that time  So that s our first thing  But I want now to turn to some more analytical thinking  Let s put on my analytical hat here  Some more analytical thinking about the logic of distributive politics because I think people don t think clearly enough</td>\n",
       "    </tr>\n",
       "    <tr>\n",
       "      <th>566</th>\n",
       "      <td>0.644575</td>\n",
       "      <td>people are becoming more insecure  right  So those two things are not the same and they gotta be importantly different  And what I m gonna be arguing later in the course is that when people become insecure  there s a very different politics  Insecurity is not the same thing as inequality  People can be afraid of insecurity even if they re relatively well off if they feel threatened  Fear of insecurity produces a very different politics</td>\n",
       "    </tr>\n",
       "    <tr>\n",
       "      <th>384</th>\n",
       "      <td>0.635625</td>\n",
       "      <td>Prices are set by decree  not in response to supply and demand  There are very poor incentives to work  And so the unsustainable economy had become steadily more unsustainable  So that s one part of it  but then I want to come back to the gentleman who mentioned the arms race  The other reason is that containment worked  Now containment had been the policy dreamed up by George Kennan  who</td>\n",
       "    </tr>\n",
       "    <tr>\n",
       "      <th>580</th>\n",
       "      <td>0.635285</td>\n",
       "      <td>by these other ideologies or people promising to pick off somebody by promising them absolute gains or something better as part of some different coalition  So it sounds like ideals of fairness are not enough  They might help build a coalition and they might motivate people some of the time  but they re probably not gonna be enough  So what about institutions  What institutions could there be</td>\n",
       "    </tr>\n",
       "  </tbody>\n",
       "</table>\n",
       "</div>"
      ],
      "text/plain": [
       "     cos_similarity  \\\n",
       "181        0.672462   \n",
       "575        0.671366   \n",
       "438        0.655397   \n",
       "657        0.655173   \n",
       "318        0.650952   \n",
       "299        0.648169   \n",
       "512        0.648119   \n",
       "566        0.644575   \n",
       "384        0.635625   \n",
       "580        0.635285   \n",
       "\n",
       "                                                                                                                                                                                                                                                                                                                                                                                                                                                        text  \n",
       "181                                                it tends either to be policy wonks who just go on about what would be  the best policy or political scientists who talk about why some policies get adopted in some systems and not in other systems but there s very little discussion of what is the effective political way of achieving a good policy or the effective political way of blocking a bad policy and so when I talk about innovations in  \n",
       "575                                                might be sufficient to get people to support a political program without reference to what others are doing  And I think the other thing to say  You could say okay  these are two competing conceptions of fairness  It s not obvious why one will win rather than the other  but the difficulty is that it s much harder to hold a solidaristic coalition together precisely because all you have to do  \n",
       "438                             is the haphazard use of power  And by this I m referring to the idea that when a government s capacity to enforce things is low  it has to compensate by being unpredictable  So for example  in a famous article about   th century England  there were no police in   th century England  they didn t get police until the   th century        I believe  or       somewhere around there  But if you look over the course  \n",
       "657          So my question is  is this a new strategy  I feel that if the same kind of games continue to be played  if one country plays some card against the other country  then all of those problems  all of those issues that we ve been mentioning today will be very difficult to resolve  Glasnost  free elections  political pluralism  the problems of concern to you    So he was skeptical  He thought that this is not likely to be how things  \n",
       "318    And that has two implications that I want to now dig into a little more deeply  The one implication is that left of center parties are gonna be less effective in protecting employed workers  So why might this be the case  I said unions protect their members  But the fewer members there are in an industry the less leverage the union has in negotiating settlements  You see this is going on right now  this isn t in a multi party system   \n",
       "299                                                                                                     and was talking about the claim  She wasn t herself taking those views  But it didn t matter  this went viral  or the      equivalent of viral  Because it was Clinton distancing himself from the African American affirmative active agenda as it was portrayed by his critics as a way to try and move to the center  And so the thought here is   \n",
       "512                                                     that the end of the Cold War was gonna be good for left of center parties were wrong and things have played out quite differently since that time  So that s our first thing  But I want now to turn to some more analytical thinking  Let s put on my analytical hat here  Some more analytical thinking about the logic of distributive politics because I think people don t think clearly enough  \n",
       "566  people are becoming more insecure  right  So those two things are not the same and they gotta be importantly different  And what I m gonna be arguing later in the course is that when people become insecure  there s a very different politics  Insecurity is not the same thing as inequality  People can be afraid of insecurity even if they re relatively well off if they feel threatened  Fear of insecurity produces a very different politics  \n",
       "384                                                  Prices are set by decree  not in response to supply and demand  There are very poor incentives to work  And so the unsustainable economy had become steadily more unsustainable  So that s one part of it  but then I want to come back to the gentleman who mentioned the arms race  The other reason is that containment worked  Now containment had been the policy dreamed up by George Kennan  who  \n",
       "580                                              by these other ideologies or people promising to pick off somebody by promising them absolute gains or something better as part of some different coalition  So it sounds like ideals of fairness are not enough  They might help build a coalition and they might motivate people some of the time  but they re probably not gonna be enough  So what about institutions  What institutions could there be  "
      ]
     },
     "execution_count": 25,
     "metadata": {},
     "output_type": "execute_result"
    }
   ],
   "source": [
    "df_bert.sort_values(['cos_similarity'], ascending=False).head(10)"
   ]
  },
  {
   "cell_type": "code",
   "execution_count": 26,
   "id": "9ddaa964",
   "metadata": {},
   "outputs": [
    {
     "data": {
      "text/html": [
       "<div>\n",
       "<style scoped>\n",
       "    .dataframe tbody tr th:only-of-type {\n",
       "        vertical-align: middle;\n",
       "    }\n",
       "\n",
       "    .dataframe tbody tr th {\n",
       "        vertical-align: top;\n",
       "    }\n",
       "\n",
       "    .dataframe thead th {\n",
       "        text-align: right;\n",
       "    }\n",
       "</style>\n",
       "<table border=\"1\" class=\"dataframe\">\n",
       "  <thead>\n",
       "    <tr style=\"text-align: right;\">\n",
       "      <th></th>\n",
       "      <th>cos_similarity</th>\n",
       "      <th>text</th>\n",
       "    </tr>\n",
       "  </thead>\n",
       "  <tbody>\n",
       "    <tr>\n",
       "      <th>221</th>\n",
       "      <td>0.144891</td>\n",
       "      <td>I will see you then   music</td>\n",
       "    </tr>\n",
       "    <tr>\n",
       "      <th>368</th>\n",
       "      <td>0.138382</td>\n",
       "      <td>that there had to be a gradual guided transition under the auspices of the Communist Party of the Soviet Union  And Yeltsin seized the moment and this is how it played out   crowd shouting and chanting     Reporter  A president gets the cheers  He used the occasion to call for increased power for the Russian government and thanked his people for staying loyal   audience applauding</td>\n",
       "    </tr>\n",
       "    <tr>\n",
       "      <th>3</th>\n",
       "      <td>0.137778</td>\n",
       "      <td>connecting     of the country s villages and overtaking the US as the country with the most extensive highway system by almost      Over the past decade  China has constructed the world s longest high speed rail network         miles of rail lines that carry passengers between cities  at speeds up to     miles per hour  China now has more high speed rail tracks</td>\n",
       "    </tr>\n",
       "    <tr>\n",
       "      <th>365</th>\n",
       "      <td>0.120865</td>\n",
       "      <td>in June of       so we re talking about three months before the coup attempt he had been elected President of the Russian parliament  And where they were in this video outside the White House  that was the building of the Russian parliament  as distinct from the Soviet government buildings  which we all know about  the Kremlin opposite Red Square  And so it was Yeltsin who stood up and faced down the coup plotters while Gorbachev was</td>\n",
       "    </tr>\n",
       "    <tr>\n",
       "      <th>130</th>\n",
       "      <td>0.114672</td>\n",
       "      <td>Hello everybody and welcome  How is everybody today  Great  Well  I m delighted to have the opportunity to be giving the DeVane Lectures  And the DeVane Lectures  as you can tell  from looking around you double as being a regular Yale course for credit that students can take for credit and lectures that are open to the general public</td>\n",
       "    </tr>\n",
       "    <tr>\n",
       "      <th>2</th>\n",
       "      <td>0.110910</td>\n",
       "      <td>and the establishment of democracy and that will then leave us to think about the future  So  China and Vietnam Today     Narrator  China so far has built the equivalent of Europe s entire housing stock in just    years  In November       Beijing replaced the substantially larger      ton Sanyuan Bridge in just    hours  Between      and       China has built     million miles of roads including        miles of highways</td>\n",
       "    </tr>\n",
       "    <tr>\n",
       "      <th>49</th>\n",
       "      <td>0.109656</td>\n",
       "      <td>that have been recorded in China since since       You can see by       they were recording already double digit growth rates and they have been the highest growth rates in the world  virtually every year since  If you look at manufacturing in China  and we ll talk more about manufacturing  this is between      and      as modest increases in the US and Japan  just threefold increase in manufacturing in China</td>\n",
       "    </tr>\n",
       "    <tr>\n",
       "      <th>666</th>\n",
       "      <td>0.108419</td>\n",
       "      <td>and welcome to the White House  Today we proudly welcome Bulgaria   audience cheering  Estonia   audience cheering  Latvia   audience cheering  Lithuania   audience cheering  Romania</td>\n",
       "    </tr>\n",
       "    <tr>\n",
       "      <th>488</th>\n",
       "      <td>0.100741</td>\n",
       "      <td>And the magician conjurer would come forward and say that he wanted to have from the audience a beautiful watch  And he would go amongst the audience  He d go up to the alderman and eventually take off him a marvelous gold watch  And he d bring it right back onto the stage  He d enfold it in a beautiful red handkerchief  He placed it on the table there in front of us  He took up his mallet and he hit it</td>\n",
       "    </tr>\n",
       "    <tr>\n",
       "      <th>371</th>\n",
       "      <td>0.066354</td>\n",
       "      <td>Reporter  At the end of the rally  the Russian flag was hoisted above the parliament building in place of the hammer and sickle  Ships on the River Moskva blew an audible salute   crowd chanting in foreign language  Within an hour the crowd was heading to the seat of Soviet power  Red Square and the Kremlin  A tide of people bringing with them the banner of independence  a huge Russian flag  and shots of down with the Communist Party</td>\n",
       "    </tr>\n",
       "  </tbody>\n",
       "</table>\n",
       "</div>"
      ],
      "text/plain": [
       "     cos_similarity  \\\n",
       "221        0.144891   \n",
       "368        0.138382   \n",
       "3          0.137778   \n",
       "365        0.120865   \n",
       "130        0.114672   \n",
       "2          0.110910   \n",
       "49         0.109656   \n",
       "666        0.108419   \n",
       "488        0.100741   \n",
       "371        0.066354   \n",
       "\n",
       "                                                                                                                                                                                                                                                                                                                                                                                                                                                          text  \n",
       "221                                                                                                                                                                                                                                                                                                                                                                                                                               I will see you then   music   \n",
       "368                                                           that there had to be a gradual guided transition under the auspices of the Communist Party of the Soviet Union  And Yeltsin seized the moment and this is how it played out   crowd shouting and chanting     Reporter  A president gets the cheers  He used the occasion to call for increased power for the Russian government and thanked his people for staying loyal   audience applauding   \n",
       "3                                                                                  connecting     of the country s villages and overtaking the US as the country with the most extensive highway system by almost      Over the past decade  China has constructed the world s longest high speed rail network         miles of rail lines that carry passengers between cities  at speeds up to     miles per hour  China now has more high speed rail tracks  \n",
       "365      in June of       so we re talking about three months before the coup attempt he had been elected President of the Russian parliament  And where they were in this video outside the White House  that was the building of the Russian parliament  as distinct from the Soviet government buildings  which we all know about  the Kremlin opposite Red Square  And so it was Yeltsin who stood up and faced down the coup plotters while Gorbachev was  \n",
       "130                                                                                                           Hello everybody and welcome  How is everybody today  Great  Well  I m delighted to have the opportunity to be giving the DeVane Lectures  And the DeVane Lectures  as you can tell  from looking around you double as being a regular Yale course for credit that students can take for credit and lectures that are open to the general public   \n",
       "2                      and the establishment of democracy and that will then leave us to think about the future  So  China and Vietnam Today     Narrator  China so far has built the equivalent of Europe s entire housing stock in just    years  In November       Beijing replaced the substantially larger      ton Sanyuan Bridge in just    hours  Between      and       China has built     million miles of roads including        miles of highways  \n",
       "49                               that have been recorded in China since since       You can see by       they were recording already double digit growth rates and they have been the highest growth rates in the world  virtually every year since  If you look at manufacturing in China  and we ll talk more about manufacturing  this is between      and      as modest increases in the US and Japan  just threefold increase in manufacturing in China   \n",
       "666                                                                                                                                                                                                                                                                    and welcome to the White House  Today we proudly welcome Bulgaria   audience cheering  Estonia   audience cheering  Latvia   audience cheering  Lithuania   audience cheering  Romania   \n",
       "488                                    And the magician conjurer would come forward and say that he wanted to have from the audience a beautiful watch  And he would go amongst the audience  He d go up to the alderman and eventually take off him a marvelous gold watch  And he d bring it right back onto the stage  He d enfold it in a beautiful red handkerchief  He placed it on the table there in front of us  He took up his mallet and he hit it   \n",
       "371     Reporter  At the end of the rally  the Russian flag was hoisted above the parliament building in place of the hammer and sickle  Ships on the River Moskva blew an audible salute   crowd chanting in foreign language  Within an hour the crowd was heading to the seat of Soviet power  Red Square and the Kremlin  A tide of people bringing with them the banner of independence  a huge Russian flag  and shots of down with the Communist Party   "
      ]
     },
     "execution_count": 26,
     "metadata": {},
     "output_type": "execute_result"
    }
   ],
   "source": [
    "df_bert.sort_values(['cos_similarity'], ascending=False).tail(10)"
   ]
  },
  {
   "cell_type": "code",
   "execution_count": null,
   "id": "b1bcb8c4",
   "metadata": {},
   "outputs": [],
   "source": []
  },
  {
   "cell_type": "code",
   "execution_count": null,
   "id": "bc75b8dc",
   "metadata": {},
   "outputs": [],
   "source": []
  }
 ],
 "metadata": {
  "kernelspec": {
   "display_name": "Python 3 (ipykernel)",
   "language": "python",
   "name": "python3"
  },
  "language_info": {
   "codemirror_mode": {
    "name": "ipython",
    "version": 3
   },
   "file_extension": ".py",
   "mimetype": "text/x-python",
   "name": "python",
   "nbconvert_exporter": "python",
   "pygments_lexer": "ipython3",
   "version": "3.9.7"
  }
 },
 "nbformat": 4,
 "nbformat_minor": 5
}

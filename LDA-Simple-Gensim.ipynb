{
 "cells": [
  {
   "cell_type": "code",
   "execution_count": 1,
   "id": "4fd3ae6b",
   "metadata": {},
   "outputs": [],
   "source": [
    "#https://radimrehurek.com/gensim/auto_examples/tutorials/run_lda.html"
   ]
  },
  {
   "cell_type": "code",
   "execution_count": 2,
   "id": "183c5a11",
   "metadata": {},
   "outputs": [],
   "source": [
    "from gensim.models import LdaModel\n",
    "import pandas as pd\n",
    "from pandasql import sqldf \n",
    "from random import randrange, random\n",
    "import numpy as np\n",
    "pysqldf = lambda q: sqldf(q, globals())"
   ]
  },
  {
   "cell_type": "code",
   "execution_count": 3,
   "id": "af6c392d",
   "metadata": {},
   "outputs": [],
   "source": [
    "num_topics = 2\n",
    "chunksize = 2000\n",
    "passes = 20\n",
    "iterations = 400\n",
    "eval_every = None  # Don't evaluate model perplexity, takes too much time."
   ]
  },
  {
   "cell_type": "code",
   "execution_count": 4,
   "id": "a562102f",
   "metadata": {},
   "outputs": [],
   "source": [
    "cold_war_terms = ['soviet', 'cold', 'war', 'nato', 'communist', 'capitalist', 'political', \n",
    "                 'western', 'powers', 'propaganda']\n",
    "\n",
    "economic_policy_terms = ['financial', 'taxation', 'monetary', 'policy', 'economic', 'interest',\n",
    "                        'rate', 'money', 'supply', 'bank']"
   ]
  },
  {
   "cell_type": "code",
   "execution_count": 5,
   "id": "ead314f2",
   "metadata": {},
   "outputs": [],
   "source": [
    "# generate documents\n",
    "# topic mix\n",
    "cold_war_topics = [.75, .25]\n",
    "economic_policy_topics = [.75, .25]"
   ]
  },
  {
   "cell_type": "code",
   "execution_count": 6,
   "id": "0821bfa5",
   "metadata": {},
   "outputs": [
    {
     "name": "stdout",
     "output_type": "stream",
     "text": [
      "propaganda\n",
      "communist\n",
      "powers\n",
      "monetary\n",
      "propaganda\n",
      "soviet\n",
      "political\n",
      "nato\n",
      "cold\n",
      "economic\n"
     ]
    }
   ],
   "source": [
    "cold_war_words = []\n",
    "economic_policy_words = []\n",
    "\n",
    "for i in range(10):\n",
    "    if random() <= cold_war_topics[0]:\n",
    "        w = cold_war_terms[randrange(len(cold_war_terms))]\n",
    "        print(w)\n",
    "        if w not in cold_war_words:\n",
    "            cold_war_words.insert(0,w)\n",
    "    else:\n",
    "        w = economic_policy_terms[randrange(len(economic_policy_terms))]\n",
    "        print(w)\n",
    "        if w not in cold_war_words:\n",
    "            cold_war_words.append(w)\n",
    "\n",
    "for i in range(10):\n",
    "    if random() <= economic_policy_topics[0]:\n",
    "        w = economic_policy_terms[randrange(len(economic_policy_terms))]\n",
    "        if w not in economic_policy_words:\n",
    "            economic_policy_words.insert(0,w)\n",
    "    else:\n",
    "        w = cold_war_terms[randrange(len(cold_war_terms))]\n",
    "        if w not in economic_policy_words:\n",
    "            economic_policy_words.append(w)\n",
    "    \n",
    "    "
   ]
  },
  {
   "cell_type": "code",
   "execution_count": 7,
   "id": "f4e53824",
   "metadata": {},
   "outputs": [
    {
     "name": "stdout",
     "output_type": "stream",
     "text": [
      "['cold', 'nato', 'political', 'soviet', 'powers', 'communist', 'propaganda', 'monetary', 'economic']\n",
      "['bank', 'financial', 'economic', 'rate', 'monetary', 'war', 'capitalist']\n"
     ]
    }
   ],
   "source": [
    "print(cold_war_words)\n",
    "print(economic_policy_words)"
   ]
  },
  {
   "cell_type": "code",
   "execution_count": 8,
   "id": "34525956",
   "metadata": {},
   "outputs": [],
   "source": [
    "# now produce two cumulative dirichlet vectors to represent the distribution of words within a topic\n",
    "cold_war_den = np.random.dirichlet(np.ones(len(cold_war_words)),size=1)\n",
    "cold_war_dist = np.cumsum(cold_war_den)\n",
    "\n",
    "economic_policy_den = np.random.dirichlet(np.ones(len(economic_policy_words)),size=1)\n",
    "economic_policy_dist = np.cumsum(economic_policy_den)"
   ]
  },
  {
   "cell_type": "code",
   "execution_count": 9,
   "id": "6c3d562f",
   "metadata": {},
   "outputs": [
    {
     "name": "stdout",
     "output_type": "stream",
     "text": [
      "[0.08556672070985204, 0.16850599074840406, 0.10025797931714356, 0.1936988454410914, 0.15041043724215017, 0.04761487902621159, 0.12760929748762953, 0.06273813749146412, 0.06359771253605348]\n",
      "[0.17264503 0.2514258  0.51254855 0.51673349 0.6469019  0.83652708\n",
      " 1.        ]\n"
     ]
    }
   ],
   "source": [
    "print(list(cold_war_den[0]))\n",
    "print(economic_policy_dist)"
   ]
  },
  {
   "cell_type": "code",
   "execution_count": 10,
   "id": "4e0aa3f3",
   "metadata": {},
   "outputs": [
    {
     "data": {
      "text/plain": [
       "(8, 'economic')"
      ]
     },
     "execution_count": 10,
     "metadata": {},
     "output_type": "execute_result"
    }
   ],
   "source": [
    "n = random()\n",
    "index = np.searchsorted(cold_war_dist,n)\n",
    "index, cold_war_words[index]"
   ]
  },
  {
   "cell_type": "code",
   "execution_count": 11,
   "id": "e7864a41",
   "metadata": {},
   "outputs": [],
   "source": [
    "# generate 10 documents from each category\n",
    "documents = []\n",
    "topics = []\n",
    "\n",
    "for i in range(5):\n",
    "    sentence = []\n",
    "    for i in range(10):\n",
    "        n = random()\n",
    "        index = np.searchsorted(cold_war_dist,n)\n",
    "        sentence.append(cold_war_words[index])\n",
    "    documents.append(' '.join(sentence))\n",
    "    topics.append(0)\n",
    "\n",
    "for i in range(5):\n",
    "    sentence = []\n",
    "    for i in range(10):\n",
    "        n = random()\n",
    "        index = np.searchsorted(economic_policy_dist,n)\n",
    "        sentence.append(economic_policy_words[index])\n",
    "    documents.append(' '.join(sentence))\n",
    "    topics.append(1)"
   ]
  },
  {
   "cell_type": "code",
   "execution_count": 12,
   "id": "d9b97563",
   "metadata": {},
   "outputs": [
    {
     "name": "stdout",
     "output_type": "stream",
     "text": [
      "nato propaganda nato nato political soviet soviet nato soviet political\n",
      "nato political monetary powers soviet soviet propaganda powers communist soviet\n",
      "nato economic nato powers nato nato nato powers powers powers\n",
      "soviet political economic nato powers economic powers powers propaganda political\n",
      "nato political nato economic propaganda soviet soviet powers propaganda soviet\n",
      "monetary war monetary economic bank economic war capitalist economic bank\n",
      "bank monetary capitalist capitalist economic economic war economic bank economic\n",
      "economic economic monetary economic economic capitalist monetary economic economic economic\n",
      "bank war capitalist bank war bank economic war war monetary\n",
      "economic capitalist monetary bank capitalist capitalist economic financial capitalist financial\n"
     ]
    }
   ],
   "source": [
    "for s in documents:\n",
    "    print(s)"
   ]
  },
  {
   "cell_type": "code",
   "execution_count": 13,
   "id": "22122319",
   "metadata": {},
   "outputs": [],
   "source": [
    "pd.options.display.max_columns = None\n",
    "pd.options.display.max_rows = None\n",
    "pd.options.display.max_colwidth = None"
   ]
  },
  {
   "cell_type": "code",
   "execution_count": 14,
   "id": "a1df5c67",
   "metadata": {},
   "outputs": [],
   "source": [
    "from gensim.corpora import Dictionary"
   ]
  },
  {
   "cell_type": "code",
   "execution_count": 15,
   "id": "4d8d47da",
   "metadata": {},
   "outputs": [],
   "source": [
    "dataset = [d.split() for d in documents]"
   ]
  },
  {
   "cell_type": "code",
   "execution_count": 16,
   "id": "60277cbe",
   "metadata": {},
   "outputs": [],
   "source": [
    "#dataset"
   ]
  },
  {
   "cell_type": "code",
   "execution_count": 17,
   "id": "54f5708a",
   "metadata": {},
   "outputs": [],
   "source": [
    "dictionary = Dictionary(dataset)"
   ]
  },
  {
   "cell_type": "code",
   "execution_count": 18,
   "id": "a55a9ea6",
   "metadata": {},
   "outputs": [],
   "source": [
    "temp = dictionary[0]\n",
    "id2word = dictionary.id2token"
   ]
  },
  {
   "cell_type": "code",
   "execution_count": 19,
   "id": "3250f73f",
   "metadata": {},
   "outputs": [
    {
     "data": {
      "text/plain": [
       "{0: 'nato',\n",
       " 1: 'political',\n",
       " 2: 'propaganda',\n",
       " 3: 'soviet',\n",
       " 4: 'communist',\n",
       " 5: 'monetary',\n",
       " 6: 'powers',\n",
       " 7: 'economic',\n",
       " 8: 'bank',\n",
       " 9: 'capitalist',\n",
       " 10: 'war',\n",
       " 11: 'financial'}"
      ]
     },
     "execution_count": 19,
     "metadata": {},
     "output_type": "execute_result"
    }
   ],
   "source": [
    "id2word"
   ]
  },
  {
   "cell_type": "code",
   "execution_count": 20,
   "id": "5324cf61",
   "metadata": {},
   "outputs": [],
   "source": [
    "corpus = [dictionary.doc2bow(doc) for doc in dataset]"
   ]
  },
  {
   "cell_type": "code",
   "execution_count": 21,
   "id": "14f2e6e7",
   "metadata": {},
   "outputs": [],
   "source": [
    "#corpus"
   ]
  },
  {
   "cell_type": "code",
   "execution_count": 22,
   "id": "ed8683fe",
   "metadata": {},
   "outputs": [],
   "source": [
    "model = LdaModel(\n",
    "    corpus=corpus,\n",
    "    id2word=id2word,\n",
    "    chunksize=chunksize,\n",
    "    alpha='auto',\n",
    "    eta='auto',\n",
    "    iterations=iterations,\n",
    "    num_topics=num_topics,\n",
    "    passes=passes,\n",
    "    eval_every=eval_every\n",
    ")"
   ]
  },
  {
   "cell_type": "code",
   "execution_count": 23,
   "id": "55c305db",
   "metadata": {},
   "outputs": [
    {
     "name": "stdout",
     "output_type": "stream",
     "text": [
      "Number of unique tokens: 12\n",
      "Number of documents: 10\n"
     ]
    }
   ],
   "source": [
    "print('Number of unique tokens: %d' % len(dictionary))\n",
    "print('Number of documents: %d' % len(corpus))"
   ]
  },
  {
   "cell_type": "code",
   "execution_count": 24,
   "id": "f57f9bbc",
   "metadata": {},
   "outputs": [
    {
     "name": "stdout",
     "output_type": "stream",
     "text": [
      "([(0.3124849, 'economic'), (0.16961162, 'capitalist'), (0.15175892, 'bank'), (0.13390757, 'monetary'), (0.13390447, 'war'), (0.044634435, 'financial'), (0.008988549, 'nato'), (0.008976396, 'powers'), (0.008936508, 'political'), (0.008936071, 'soviet'), (0.008932709, 'propaganda'), (0.008927882, 'communist')], -10.958492536191605)\n"
     ]
    }
   ],
   "source": [
    "top_topics = model.top_topics(corpus) #, num_words=20)\n",
    "\n",
    "# Average topic coherence is the sum of topic coherences of all topics, divided by the number of topics.\n",
    "avg_topic_coherence = sum([t[1] for t in top_topics]) / num_topics\n",
    "#print('Average topic coherence: %.4f.' % avg_topic_coherence)\n",
    "\n",
    "\n",
    "print(top_topics[1])"
   ]
  },
  {
   "cell_type": "code",
   "execution_count": 25,
   "id": "2b14f0a5",
   "metadata": {},
   "outputs": [],
   "source": [
    "l=[model.get_document_topics(item) for item in corpus]"
   ]
  },
  {
   "cell_type": "code",
   "execution_count": 26,
   "id": "32093a68",
   "metadata": {},
   "outputs": [],
   "source": [
    "lda_topic = [v[0][0] for v in l]"
   ]
  },
  {
   "cell_type": "code",
   "execution_count": 27,
   "id": "1da64642",
   "metadata": {},
   "outputs": [
    {
     "name": "stdout",
     "output_type": "stream",
     "text": [
      "[1, 1, 1, 1, 1, 0, 0, 0, 0, 0]\n"
     ]
    }
   ],
   "source": [
    "print(lda_topic)"
   ]
  },
  {
   "cell_type": "code",
   "execution_count": 28,
   "id": "a1c8939e",
   "metadata": {},
   "outputs": [],
   "source": [
    "df = pd.DataFrame({'text':documents, 'topic':topics, 'lda_topic':lda_topic})"
   ]
  },
  {
   "cell_type": "code",
   "execution_count": 29,
   "id": "aef9a352",
   "metadata": {},
   "outputs": [
    {
     "data": {
      "text/html": [
       "<div>\n",
       "<style scoped>\n",
       "    .dataframe tbody tr th:only-of-type {\n",
       "        vertical-align: middle;\n",
       "    }\n",
       "\n",
       "    .dataframe tbody tr th {\n",
       "        vertical-align: top;\n",
       "    }\n",
       "\n",
       "    .dataframe thead th {\n",
       "        text-align: right;\n",
       "    }\n",
       "</style>\n",
       "<table border=\"1\" class=\"dataframe\">\n",
       "  <thead>\n",
       "    <tr style=\"text-align: right;\">\n",
       "      <th></th>\n",
       "      <th>text</th>\n",
       "      <th>topic</th>\n",
       "      <th>lda_topic</th>\n",
       "    </tr>\n",
       "  </thead>\n",
       "  <tbody>\n",
       "    <tr>\n",
       "      <th>0</th>\n",
       "      <td>nato propaganda nato nato political soviet soviet nato soviet political</td>\n",
       "      <td>0</td>\n",
       "      <td>1</td>\n",
       "    </tr>\n",
       "    <tr>\n",
       "      <th>1</th>\n",
       "      <td>nato political monetary powers soviet soviet propaganda powers communist soviet</td>\n",
       "      <td>0</td>\n",
       "      <td>1</td>\n",
       "    </tr>\n",
       "    <tr>\n",
       "      <th>2</th>\n",
       "      <td>nato economic nato powers nato nato nato powers powers powers</td>\n",
       "      <td>0</td>\n",
       "      <td>1</td>\n",
       "    </tr>\n",
       "    <tr>\n",
       "      <th>3</th>\n",
       "      <td>soviet political economic nato powers economic powers powers propaganda political</td>\n",
       "      <td>0</td>\n",
       "      <td>1</td>\n",
       "    </tr>\n",
       "    <tr>\n",
       "      <th>4</th>\n",
       "      <td>nato political nato economic propaganda soviet soviet powers propaganda soviet</td>\n",
       "      <td>0</td>\n",
       "      <td>1</td>\n",
       "    </tr>\n",
       "    <tr>\n",
       "      <th>5</th>\n",
       "      <td>monetary war monetary economic bank economic war capitalist economic bank</td>\n",
       "      <td>1</td>\n",
       "      <td>0</td>\n",
       "    </tr>\n",
       "    <tr>\n",
       "      <th>6</th>\n",
       "      <td>bank monetary capitalist capitalist economic economic war economic bank economic</td>\n",
       "      <td>1</td>\n",
       "      <td>0</td>\n",
       "    </tr>\n",
       "    <tr>\n",
       "      <th>7</th>\n",
       "      <td>economic economic monetary economic economic capitalist monetary economic economic economic</td>\n",
       "      <td>1</td>\n",
       "      <td>0</td>\n",
       "    </tr>\n",
       "    <tr>\n",
       "      <th>8</th>\n",
       "      <td>bank war capitalist bank war bank economic war war monetary</td>\n",
       "      <td>1</td>\n",
       "      <td>0</td>\n",
       "    </tr>\n",
       "    <tr>\n",
       "      <th>9</th>\n",
       "      <td>economic capitalist monetary bank capitalist capitalist economic financial capitalist financial</td>\n",
       "      <td>1</td>\n",
       "      <td>0</td>\n",
       "    </tr>\n",
       "  </tbody>\n",
       "</table>\n",
       "</div>"
      ],
      "text/plain": [
       "                                                                                              text  \\\n",
       "0                          nato propaganda nato nato political soviet soviet nato soviet political   \n",
       "1                  nato political monetary powers soviet soviet propaganda powers communist soviet   \n",
       "2                                    nato economic nato powers nato nato nato powers powers powers   \n",
       "3                soviet political economic nato powers economic powers powers propaganda political   \n",
       "4                   nato political nato economic propaganda soviet soviet powers propaganda soviet   \n",
       "5                        monetary war monetary economic bank economic war capitalist economic bank   \n",
       "6                 bank monetary capitalist capitalist economic economic war economic bank economic   \n",
       "7      economic economic monetary economic economic capitalist monetary economic economic economic   \n",
       "8                                      bank war capitalist bank war bank economic war war monetary   \n",
       "9  economic capitalist monetary bank capitalist capitalist economic financial capitalist financial   \n",
       "\n",
       "   topic  lda_topic  \n",
       "0      0          1  \n",
       "1      0          1  \n",
       "2      0          1  \n",
       "3      0          1  \n",
       "4      0          1  \n",
       "5      1          0  \n",
       "6      1          0  \n",
       "7      1          0  \n",
       "8      1          0  \n",
       "9      1          0  "
      ]
     },
     "execution_count": 29,
     "metadata": {},
     "output_type": "execute_result"
    }
   ],
   "source": [
    "df"
   ]
  },
  {
   "cell_type": "code",
   "execution_count": 30,
   "id": "df61757a",
   "metadata": {},
   "outputs": [
    {
     "data": {
      "text/plain": [
       "-1.0"
      ]
     },
     "execution_count": 30,
     "metadata": {},
     "output_type": "execute_result"
    }
   ],
   "source": [
    "df['topic'].corr(df['lda_topic'], method='spearman')"
   ]
  },
  {
   "cell_type": "code",
   "execution_count": 31,
   "id": "44b2ecd0",
   "metadata": {},
   "outputs": [],
   "source": [
    "df_cold_war = pd.DataFrame({'term':cold_war_words, 'density':cold_war_den[0]})\n",
    "df_economic_policy = pd.DataFrame({'term':economic_policy_words, 'density':economic_policy_den[0]})"
   ]
  },
  {
   "cell_type": "code",
   "execution_count": 32,
   "id": "9bd382cb",
   "metadata": {},
   "outputs": [],
   "source": [
    "wd0 = dict(zip(cold_war_words, list(cold_war_den[0])))\n",
    "df_wd0 = pd.DataFrame(wd0.items(), columns=['Term', 'Prob'])"
   ]
  },
  {
   "cell_type": "code",
   "execution_count": 33,
   "id": "de035f4b",
   "metadata": {},
   "outputs": [
    {
     "data": {
      "text/html": [
       "<div>\n",
       "<style scoped>\n",
       "    .dataframe tbody tr th:only-of-type {\n",
       "        vertical-align: middle;\n",
       "    }\n",
       "\n",
       "    .dataframe tbody tr th {\n",
       "        vertical-align: top;\n",
       "    }\n",
       "\n",
       "    .dataframe thead th {\n",
       "        text-align: right;\n",
       "    }\n",
       "</style>\n",
       "<table border=\"1\" class=\"dataframe\">\n",
       "  <thead>\n",
       "    <tr style=\"text-align: right;\">\n",
       "      <th></th>\n",
       "      <th>Term</th>\n",
       "      <th>Prob</th>\n",
       "    </tr>\n",
       "  </thead>\n",
       "  <tbody>\n",
       "    <tr>\n",
       "      <th>0</th>\n",
       "      <td>cold</td>\n",
       "      <td>0.085567</td>\n",
       "    </tr>\n",
       "    <tr>\n",
       "      <th>1</th>\n",
       "      <td>nato</td>\n",
       "      <td>0.168506</td>\n",
       "    </tr>\n",
       "    <tr>\n",
       "      <th>2</th>\n",
       "      <td>political</td>\n",
       "      <td>0.100258</td>\n",
       "    </tr>\n",
       "    <tr>\n",
       "      <th>3</th>\n",
       "      <td>soviet</td>\n",
       "      <td>0.193699</td>\n",
       "    </tr>\n",
       "    <tr>\n",
       "      <th>4</th>\n",
       "      <td>powers</td>\n",
       "      <td>0.150410</td>\n",
       "    </tr>\n",
       "    <tr>\n",
       "      <th>5</th>\n",
       "      <td>communist</td>\n",
       "      <td>0.047615</td>\n",
       "    </tr>\n",
       "    <tr>\n",
       "      <th>6</th>\n",
       "      <td>propaganda</td>\n",
       "      <td>0.127609</td>\n",
       "    </tr>\n",
       "    <tr>\n",
       "      <th>7</th>\n",
       "      <td>monetary</td>\n",
       "      <td>0.062738</td>\n",
       "    </tr>\n",
       "    <tr>\n",
       "      <th>8</th>\n",
       "      <td>economic</td>\n",
       "      <td>0.063598</td>\n",
       "    </tr>\n",
       "  </tbody>\n",
       "</table>\n",
       "</div>"
      ],
      "text/plain": [
       "         Term      Prob\n",
       "0        cold  0.085567\n",
       "1        nato  0.168506\n",
       "2   political  0.100258\n",
       "3      soviet  0.193699\n",
       "4      powers  0.150410\n",
       "5   communist  0.047615\n",
       "6  propaganda  0.127609\n",
       "7    monetary  0.062738\n",
       "8    economic  0.063598"
      ]
     },
     "execution_count": 33,
     "metadata": {},
     "output_type": "execute_result"
    }
   ],
   "source": [
    "df_wd0"
   ]
  },
  {
   "cell_type": "code",
   "execution_count": 34,
   "id": "52b5c951",
   "metadata": {},
   "outputs": [],
   "source": [
    "wd1 = dict(zip(economic_policy_words, list(economic_policy_den[0])))\n",
    "df_wd1 = pd.DataFrame(wd1.items(), columns=['Term', 'Prob'])"
   ]
  },
  {
   "cell_type": "code",
   "execution_count": 35,
   "id": "0b5eea2f",
   "metadata": {},
   "outputs": [
    {
     "data": {
      "text/html": [
       "<div>\n",
       "<style scoped>\n",
       "    .dataframe tbody tr th:only-of-type {\n",
       "        vertical-align: middle;\n",
       "    }\n",
       "\n",
       "    .dataframe tbody tr th {\n",
       "        vertical-align: top;\n",
       "    }\n",
       "\n",
       "    .dataframe thead th {\n",
       "        text-align: right;\n",
       "    }\n",
       "</style>\n",
       "<table border=\"1\" class=\"dataframe\">\n",
       "  <thead>\n",
       "    <tr style=\"text-align: right;\">\n",
       "      <th></th>\n",
       "      <th>Term</th>\n",
       "      <th>Prob</th>\n",
       "    </tr>\n",
       "  </thead>\n",
       "  <tbody>\n",
       "    <tr>\n",
       "      <th>0</th>\n",
       "      <td>bank</td>\n",
       "      <td>0.172645</td>\n",
       "    </tr>\n",
       "    <tr>\n",
       "      <th>1</th>\n",
       "      <td>financial</td>\n",
       "      <td>0.078781</td>\n",
       "    </tr>\n",
       "    <tr>\n",
       "      <th>2</th>\n",
       "      <td>economic</td>\n",
       "      <td>0.261123</td>\n",
       "    </tr>\n",
       "    <tr>\n",
       "      <th>3</th>\n",
       "      <td>rate</td>\n",
       "      <td>0.004185</td>\n",
       "    </tr>\n",
       "    <tr>\n",
       "      <th>4</th>\n",
       "      <td>monetary</td>\n",
       "      <td>0.130168</td>\n",
       "    </tr>\n",
       "    <tr>\n",
       "      <th>5</th>\n",
       "      <td>war</td>\n",
       "      <td>0.189625</td>\n",
       "    </tr>\n",
       "    <tr>\n",
       "      <th>6</th>\n",
       "      <td>capitalist</td>\n",
       "      <td>0.163473</td>\n",
       "    </tr>\n",
       "  </tbody>\n",
       "</table>\n",
       "</div>"
      ],
      "text/plain": [
       "         Term      Prob\n",
       "0        bank  0.172645\n",
       "1   financial  0.078781\n",
       "2    economic  0.261123\n",
       "3        rate  0.004185\n",
       "4    monetary  0.130168\n",
       "5         war  0.189625\n",
       "6  capitalist  0.163473"
      ]
     },
     "execution_count": 35,
     "metadata": {},
     "output_type": "execute_result"
    }
   ],
   "source": [
    "df_wd1"
   ]
  },
  {
   "cell_type": "code",
   "execution_count": 36,
   "id": "80335f7d",
   "metadata": {},
   "outputs": [],
   "source": [
    "df_0 = pd.DataFrame(top_topics[1][0],columns=['Prob', 'Term'])\n",
    "df_1 = pd.DataFrame(top_topics[0][0],columns=['Prob', 'Term'])"
   ]
  },
  {
   "cell_type": "code",
   "execution_count": 37,
   "id": "614303d1",
   "metadata": {},
   "outputs": [
    {
     "data": {
      "text/html": [
       "<div>\n",
       "<style scoped>\n",
       "    .dataframe tbody tr th:only-of-type {\n",
       "        vertical-align: middle;\n",
       "    }\n",
       "\n",
       "    .dataframe tbody tr th {\n",
       "        vertical-align: top;\n",
       "    }\n",
       "\n",
       "    .dataframe thead th {\n",
       "        text-align: right;\n",
       "    }\n",
       "</style>\n",
       "<table border=\"1\" class=\"dataframe\">\n",
       "  <thead>\n",
       "    <tr style=\"text-align: right;\">\n",
       "      <th></th>\n",
       "      <th>Prob</th>\n",
       "      <th>Term</th>\n",
       "    </tr>\n",
       "  </thead>\n",
       "  <tbody>\n",
       "    <tr>\n",
       "      <th>0</th>\n",
       "      <td>0.241047</td>\n",
       "      <td>nato</td>\n",
       "    </tr>\n",
       "    <tr>\n",
       "      <th>1</th>\n",
       "      <td>0.187520</td>\n",
       "      <td>soviet</td>\n",
       "    </tr>\n",
       "    <tr>\n",
       "      <th>2</th>\n",
       "      <td>0.187480</td>\n",
       "      <td>powers</td>\n",
       "    </tr>\n",
       "    <tr>\n",
       "      <th>3</th>\n",
       "      <td>0.116080</td>\n",
       "      <td>political</td>\n",
       "    </tr>\n",
       "    <tr>\n",
       "      <th>4</th>\n",
       "      <td>0.098224</td>\n",
       "      <td>propaganda</td>\n",
       "    </tr>\n",
       "    <tr>\n",
       "      <th>5</th>\n",
       "      <td>0.080337</td>\n",
       "      <td>economic</td>\n",
       "    </tr>\n",
       "    <tr>\n",
       "      <th>6</th>\n",
       "      <td>0.026790</td>\n",
       "      <td>monetary</td>\n",
       "    </tr>\n",
       "    <tr>\n",
       "      <th>7</th>\n",
       "      <td>0.026789</td>\n",
       "      <td>communist</td>\n",
       "    </tr>\n",
       "    <tr>\n",
       "      <th>8</th>\n",
       "      <td>0.008935</td>\n",
       "      <td>capitalist</td>\n",
       "    </tr>\n",
       "    <tr>\n",
       "      <th>9</th>\n",
       "      <td>0.008933</td>\n",
       "      <td>war</td>\n",
       "    </tr>\n",
       "    <tr>\n",
       "      <th>10</th>\n",
       "      <td>0.008933</td>\n",
       "      <td>bank</td>\n",
       "    </tr>\n",
       "    <tr>\n",
       "      <th>11</th>\n",
       "      <td>0.008931</td>\n",
       "      <td>financial</td>\n",
       "    </tr>\n",
       "  </tbody>\n",
       "</table>\n",
       "</div>"
      ],
      "text/plain": [
       "        Prob        Term\n",
       "0   0.241047        nato\n",
       "1   0.187520      soviet\n",
       "2   0.187480      powers\n",
       "3   0.116080   political\n",
       "4   0.098224  propaganda\n",
       "5   0.080337    economic\n",
       "6   0.026790    monetary\n",
       "7   0.026789   communist\n",
       "8   0.008935  capitalist\n",
       "9   0.008933         war\n",
       "10  0.008933        bank\n",
       "11  0.008931   financial"
      ]
     },
     "execution_count": 37,
     "metadata": {},
     "output_type": "execute_result"
    }
   ],
   "source": [
    "df_1"
   ]
  },
  {
   "cell_type": "code",
   "execution_count": 38,
   "id": "52a8ffee",
   "metadata": {},
   "outputs": [
    {
     "data": {
      "text/html": [
       "<div>\n",
       "<style scoped>\n",
       "    .dataframe tbody tr th:only-of-type {\n",
       "        vertical-align: middle;\n",
       "    }\n",
       "\n",
       "    .dataframe tbody tr th {\n",
       "        vertical-align: top;\n",
       "    }\n",
       "\n",
       "    .dataframe thead th {\n",
       "        text-align: right;\n",
       "    }\n",
       "</style>\n",
       "<table border=\"1\" class=\"dataframe\">\n",
       "  <thead>\n",
       "    <tr style=\"text-align: right;\">\n",
       "      <th></th>\n",
       "      <th>Term</th>\n",
       "      <th>wd0</th>\n",
       "      <th>wd1</th>\n",
       "      <th>C0</th>\n",
       "      <th>C1</th>\n",
       "    </tr>\n",
       "  </thead>\n",
       "  <tbody>\n",
       "    <tr>\n",
       "      <th>0</th>\n",
       "      <td>soviet</td>\n",
       "      <td>0.193699</td>\n",
       "      <td>NaN</td>\n",
       "      <td>0.008936</td>\n",
       "      <td>0.187520</td>\n",
       "    </tr>\n",
       "    <tr>\n",
       "      <th>1</th>\n",
       "      <td>nato</td>\n",
       "      <td>0.168506</td>\n",
       "      <td>NaN</td>\n",
       "      <td>0.008989</td>\n",
       "      <td>0.241047</td>\n",
       "    </tr>\n",
       "    <tr>\n",
       "      <th>2</th>\n",
       "      <td>powers</td>\n",
       "      <td>0.150410</td>\n",
       "      <td>NaN</td>\n",
       "      <td>0.008976</td>\n",
       "      <td>0.187480</td>\n",
       "    </tr>\n",
       "    <tr>\n",
       "      <th>3</th>\n",
       "      <td>propaganda</td>\n",
       "      <td>0.127609</td>\n",
       "      <td>NaN</td>\n",
       "      <td>0.008933</td>\n",
       "      <td>0.098224</td>\n",
       "    </tr>\n",
       "    <tr>\n",
       "      <th>4</th>\n",
       "      <td>political</td>\n",
       "      <td>0.100258</td>\n",
       "      <td>NaN</td>\n",
       "      <td>0.008937</td>\n",
       "      <td>0.116080</td>\n",
       "    </tr>\n",
       "    <tr>\n",
       "      <th>5</th>\n",
       "      <td>economic</td>\n",
       "      <td>0.063598</td>\n",
       "      <td>0.261123</td>\n",
       "      <td>0.312485</td>\n",
       "      <td>0.080337</td>\n",
       "    </tr>\n",
       "    <tr>\n",
       "      <th>6</th>\n",
       "      <td>monetary</td>\n",
       "      <td>0.062738</td>\n",
       "      <td>0.130168</td>\n",
       "      <td>0.133908</td>\n",
       "      <td>0.026790</td>\n",
       "    </tr>\n",
       "    <tr>\n",
       "      <th>7</th>\n",
       "      <td>communist</td>\n",
       "      <td>0.047615</td>\n",
       "      <td>NaN</td>\n",
       "      <td>0.008928</td>\n",
       "      <td>0.026789</td>\n",
       "    </tr>\n",
       "    <tr>\n",
       "      <th>8</th>\n",
       "      <td>capitalist</td>\n",
       "      <td>NaN</td>\n",
       "      <td>0.163473</td>\n",
       "      <td>0.169612</td>\n",
       "      <td>0.008935</td>\n",
       "    </tr>\n",
       "    <tr>\n",
       "      <th>9</th>\n",
       "      <td>bank</td>\n",
       "      <td>NaN</td>\n",
       "      <td>0.172645</td>\n",
       "      <td>0.151759</td>\n",
       "      <td>0.008933</td>\n",
       "    </tr>\n",
       "    <tr>\n",
       "      <th>10</th>\n",
       "      <td>war</td>\n",
       "      <td>NaN</td>\n",
       "      <td>0.189625</td>\n",
       "      <td>0.133904</td>\n",
       "      <td>0.008933</td>\n",
       "    </tr>\n",
       "    <tr>\n",
       "      <th>11</th>\n",
       "      <td>financial</td>\n",
       "      <td>NaN</td>\n",
       "      <td>0.078781</td>\n",
       "      <td>0.044634</td>\n",
       "      <td>0.008931</td>\n",
       "    </tr>\n",
       "  </tbody>\n",
       "</table>\n",
       "</div>"
      ],
      "text/plain": [
       "          Term       wd0       wd1        C0        C1\n",
       "0       soviet  0.193699       NaN  0.008936  0.187520\n",
       "1         nato  0.168506       NaN  0.008989  0.241047\n",
       "2       powers  0.150410       NaN  0.008976  0.187480\n",
       "3   propaganda  0.127609       NaN  0.008933  0.098224\n",
       "4    political  0.100258       NaN  0.008937  0.116080\n",
       "5     economic  0.063598  0.261123  0.312485  0.080337\n",
       "6     monetary  0.062738  0.130168  0.133908  0.026790\n",
       "7    communist  0.047615       NaN  0.008928  0.026789\n",
       "8   capitalist       NaN  0.163473  0.169612  0.008935\n",
       "9         bank       NaN  0.172645  0.151759  0.008933\n",
       "10         war       NaN  0.189625  0.133904  0.008933\n",
       "11   financial       NaN  0.078781  0.044634  0.008931"
      ]
     },
     "execution_count": 38,
     "metadata": {},
     "output_type": "execute_result"
    }
   ],
   "source": [
    "pysqldf(\"\"\"\n",
    "SELECT \n",
    "    df_0.Term, df_wd0.Prob as wd0, df_wd1.Prob as wd1, df_0.Prob as C0, df_1.Prob as C1\n",
    "FROM\n",
    "    df_0\n",
    "LEFT JOIN\n",
    "    df_1\n",
    "ON\n",
    "    df_0.Term = df_1.Term\n",
    "LEFT JOIN\n",
    "    df_wd0\n",
    "ON\n",
    "    df_0.Term = df_wd0.Term\n",
    "LEFT JOIN\n",
    "    df_wd1\n",
    "ON\n",
    "    df_0.Term = df_wd1.Term\n",
    "ORDER BY wd0 DESC\n",
    "\n",
    "\"\"\")"
   ]
  },
  {
   "cell_type": "code",
   "execution_count": null,
   "id": "278fa163",
   "metadata": {},
   "outputs": [],
   "source": []
  },
  {
   "cell_type": "code",
   "execution_count": null,
   "id": "60ea3fe0",
   "metadata": {},
   "outputs": [],
   "source": []
  }
 ],
 "metadata": {
  "kernelspec": {
   "display_name": "Python 3 (ipykernel)",
   "language": "python",
   "name": "python3"
  },
  "language_info": {
   "codemirror_mode": {
    "name": "ipython",
    "version": 3
   },
   "file_extension": ".py",
   "mimetype": "text/x-python",
   "name": "python",
   "nbconvert_exporter": "python",
   "pygments_lexer": "ipython3",
   "version": "3.9.7"
  }
 },
 "nbformat": 4,
 "nbformat_minor": 5
}

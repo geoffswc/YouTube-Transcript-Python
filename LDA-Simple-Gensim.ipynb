{
 "cells": [
  {
   "cell_type": "code",
   "execution_count": 2,
   "id": "d6601e6f",
   "metadata": {},
   "outputs": [],
   "source": [
    "from gensim.models import LdaModel\n",
    "import pandas as pd\n",
    "from pandasql import sqldf \n",
    "from random import randrange, random\n",
    "import numpy as np\n",
    "pysqldf = lambda q: sqldf(q, globals())"
   ]
  },
  {
   "cell_type": "code",
   "execution_count": 3,
   "id": "c6a051c0",
   "metadata": {},
   "outputs": [],
   "source": [
    "num_topics = 2\n",
    "chunksize = 2000\n",
    "passes = 20\n",
    "iterations = 400\n",
    "eval_every = None "
   ]
  },
  {
   "cell_type": "code",
   "execution_count": 4,
   "id": "27ccae54",
   "metadata": {},
   "outputs": [],
   "source": [
    "cold_war_terms = ['soviet', 'cold', 'war', 'nato', 'communist', 'capitalist', 'political', \n",
    "                 'western', 'powers', 'propaganda']\n",
    "\n",
    "economic_policy_terms = ['financial', 'taxation', 'monetary', 'policy', 'economic', 'interest',\n",
    "                        'rate', 'money', 'supply', 'bank']"
   ]
  },
  {
   "cell_type": "code",
   "execution_count": 5,
   "id": "320d6a29",
   "metadata": {},
   "outputs": [],
   "source": [
    "# generate documents\n",
    "# topic mix\n",
    "cold_war_topics = [.75, .25]\n",
    "economic_policy_topics = [.75, .25]"
   ]
  },
  {
   "cell_type": "code",
   "execution_count": 6,
   "id": "fb2988aa",
   "metadata": {},
   "outputs": [
    {
     "name": "stdout",
     "output_type": "stream",
     "text": [
      "cold\n",
      "soviet\n",
      "rate\n",
      "economic\n",
      "rate\n",
      "interest\n",
      "interest\n",
      "powers\n",
      "soviet\n",
      "western\n"
     ]
    }
   ],
   "source": [
    "cold_war_words = []\n",
    "economic_policy_words = []\n",
    "\n",
    "for i in range(10):\n",
    "    if random() <= cold_war_topics[0]:\n",
    "        w = cold_war_terms[randrange(len(cold_war_terms))]\n",
    "        print(w)\n",
    "        if w not in cold_war_words:\n",
    "            cold_war_words.insert(0,w)\n",
    "    else:\n",
    "        w = economic_policy_terms[randrange(len(economic_policy_terms))]\n",
    "        print(w)\n",
    "        if w not in cold_war_words:\n",
    "            cold_war_words.append(w)\n",
    "\n",
    "for i in range(10):\n",
    "    if random() <= economic_policy_topics[0]:\n",
    "        w = economic_policy_terms[randrange(len(economic_policy_terms))]\n",
    "        if w not in economic_policy_words:\n",
    "            economic_policy_words.insert(0,w)\n",
    "    else:\n",
    "        w = cold_war_terms[randrange(len(cold_war_terms))]\n",
    "        if w not in economic_policy_words:\n",
    "            economic_policy_words.append(w)\n",
    "    \n",
    "    "
   ]
  },
  {
   "cell_type": "code",
   "execution_count": 7,
   "id": "1dde6e19",
   "metadata": {},
   "outputs": [
    {
     "name": "stdout",
     "output_type": "stream",
     "text": [
      "['western', 'powers', 'soviet', 'cold', 'rate', 'economic', 'interest']\n",
      "['bank', 'rate', 'money', 'economic', 'interest', 'monetary', 'political']\n"
     ]
    }
   ],
   "source": [
    "print(cold_war_words)\n",
    "print(economic_policy_words)"
   ]
  },
  {
   "cell_type": "code",
   "execution_count": 8,
   "id": "47a692ca",
   "metadata": {},
   "outputs": [],
   "source": [
    "# now produce two cumulative dirichlet vectors to represent the distribution of words within a topic\n",
    "cold_war_den = np.random.dirichlet(np.ones(len(cold_war_words)),size=1)\n",
    "cold_war_dist = np.cumsum(cold_war_den)\n",
    "\n",
    "economic_policy_den = np.random.dirichlet(np.ones(len(economic_policy_words)),size=1)\n",
    "economic_policy_dist = np.cumsum(economic_policy_den)"
   ]
  },
  {
   "cell_type": "code",
   "execution_count": 9,
   "id": "3ac11259",
   "metadata": {},
   "outputs": [
    {
     "name": "stdout",
     "output_type": "stream",
     "text": [
      "[0.04582576241792725, 0.25051825324052573, 0.08744440572036905, 0.11521107379119272, 0.2964406279105447, 0.03312604712195362, 0.1714338297974868]\n",
      "[0.3874439  0.56212799 0.57689658 0.71144367 0.74588585 0.87237972\n",
      " 1.        ]\n"
     ]
    }
   ],
   "source": [
    "print(list(cold_war_den[0]))\n",
    "print(economic_policy_dist)"
   ]
  },
  {
   "cell_type": "code",
   "execution_count": 10,
   "id": "a572fdb1",
   "metadata": {},
   "outputs": [
    {
     "data": {
      "text/plain": [
       "(1, 'powers')"
      ]
     },
     "execution_count": 10,
     "metadata": {},
     "output_type": "execute_result"
    }
   ],
   "source": [
    "n = random()\n",
    "index = np.searchsorted(cold_war_dist,n)\n",
    "index, cold_war_words[index]"
   ]
  },
  {
   "cell_type": "code",
   "execution_count": 11,
   "id": "2b9313a5",
   "metadata": {},
   "outputs": [],
   "source": [
    "# generate 10 documents from each category\n",
    "documents = []\n",
    "topics = []\n",
    "\n",
    "for i in range(5):\n",
    "    sentence = []\n",
    "    for i in range(10):\n",
    "        n = random()\n",
    "        index = np.searchsorted(cold_war_dist,n)\n",
    "        sentence.append(cold_war_words[index])\n",
    "    documents.append(' '.join(sentence))\n",
    "    topics.append(0)\n",
    "\n",
    "for i in range(5):\n",
    "    sentence = []\n",
    "    for i in range(10):\n",
    "        n = random()\n",
    "        index = np.searchsorted(economic_policy_dist,n)\n",
    "        sentence.append(economic_policy_words[index])\n",
    "    documents.append(' '.join(sentence))\n",
    "    topics.append(1)"
   ]
  },
  {
   "cell_type": "code",
   "execution_count": 12,
   "id": "3e35c55f",
   "metadata": {},
   "outputs": [
    {
     "name": "stdout",
     "output_type": "stream",
     "text": [
      "rate rate powers powers interest rate cold rate rate soviet\n",
      "western powers powers powers cold rate economic powers interest rate\n",
      "western soviet rate rate interest powers interest economic rate cold\n",
      "western rate rate cold rate powers rate rate powers rate\n",
      "cold cold interest powers western economic rate powers rate interest\n",
      "bank political bank political monetary bank monetary economic rate rate\n",
      "bank rate rate rate bank bank monetary bank economic monetary\n",
      "economic rate bank economic monetary monetary interest bank monetary bank\n",
      "rate bank economic economic political economic monetary rate economic economic\n",
      "rate monetary bank bank economic monetary economic rate political bank\n"
     ]
    }
   ],
   "source": [
    "for s in documents:\n",
    "    print(s)"
   ]
  },
  {
   "cell_type": "code",
   "execution_count": 13,
   "id": "85521646",
   "metadata": {},
   "outputs": [],
   "source": [
    "pd.options.display.max_columns = None\n",
    "pd.options.display.max_rows = None\n",
    "pd.options.display.max_colwidth = None"
   ]
  },
  {
   "cell_type": "code",
   "execution_count": 14,
   "id": "aace61c5",
   "metadata": {},
   "outputs": [],
   "source": [
    "from gensim.corpora import Dictionary"
   ]
  },
  {
   "cell_type": "code",
   "execution_count": 15,
   "id": "d90620c8",
   "metadata": {},
   "outputs": [],
   "source": [
    "dataset = [d.split() for d in documents]"
   ]
  },
  {
   "cell_type": "code",
   "execution_count": 16,
   "id": "0d92101c",
   "metadata": {},
   "outputs": [],
   "source": [
    "#dataset"
   ]
  },
  {
   "cell_type": "code",
   "execution_count": 17,
   "id": "81a721de",
   "metadata": {},
   "outputs": [],
   "source": [
    "dictionary = Dictionary(dataset)"
   ]
  },
  {
   "cell_type": "code",
   "execution_count": 18,
   "id": "fcc730ac",
   "metadata": {},
   "outputs": [],
   "source": [
    "temp = dictionary[0]\n",
    "id2word = dictionary.id2token"
   ]
  },
  {
   "cell_type": "code",
   "execution_count": 19,
   "id": "56ab5885",
   "metadata": {},
   "outputs": [
    {
     "data": {
      "text/plain": [
       "{0: 'cold',\n",
       " 1: 'interest',\n",
       " 2: 'powers',\n",
       " 3: 'rate',\n",
       " 4: 'soviet',\n",
       " 5: 'economic',\n",
       " 6: 'western',\n",
       " 7: 'bank',\n",
       " 8: 'monetary',\n",
       " 9: 'political'}"
      ]
     },
     "execution_count": 19,
     "metadata": {},
     "output_type": "execute_result"
    }
   ],
   "source": [
    "id2word"
   ]
  },
  {
   "cell_type": "code",
   "execution_count": 20,
   "id": "0e0124f2",
   "metadata": {},
   "outputs": [],
   "source": [
    "corpus = [dictionary.doc2bow(doc) for doc in dataset]"
   ]
  },
  {
   "cell_type": "code",
   "execution_count": 21,
   "id": "d357ed47",
   "metadata": {},
   "outputs": [],
   "source": [
    "#corpus"
   ]
  },
  {
   "cell_type": "code",
   "execution_count": 22,
   "id": "50dbd567",
   "metadata": {},
   "outputs": [],
   "source": [
    "model = LdaModel(\n",
    "    corpus=corpus,\n",
    "    id2word=id2word,\n",
    "    chunksize=chunksize,\n",
    "    alpha='auto',\n",
    "    eta='auto',\n",
    "    iterations=iterations,\n",
    "    num_topics=num_topics,\n",
    "    passes=passes,\n",
    "    eval_every=eval_every\n",
    ")"
   ]
  },
  {
   "cell_type": "code",
   "execution_count": 23,
   "id": "c29d892b",
   "metadata": {},
   "outputs": [
    {
     "name": "stdout",
     "output_type": "stream",
     "text": [
      "Number of unique tokens: 10\n",
      "Number of documents: 10\n"
     ]
    }
   ],
   "source": [
    "print('Number of unique tokens: %d' % len(dictionary))\n",
    "print('Number of documents: %d' % len(corpus))"
   ]
  },
  {
   "cell_type": "code",
   "execution_count": 24,
   "id": "9bffa775",
   "metadata": {},
   "outputs": [
    {
     "name": "stdout",
     "output_type": "stream",
     "text": [
      "([(0.2635903, 'bank'), (0.20912604, 'economic'), (0.19089016, 'monetary'), (0.19083814, 'rate'), (0.08180606, 'political'), (0.027287923, 'interest'), (0.009150289, 'powers'), (0.009109061, 'cold'), (0.009107611, 'western'), (0.0090943035, 'soviet')], -8.230941752285617)\n"
     ]
    }
   ],
   "source": [
    "top_topics = model.top_topics(corpus) #, num_words=20)\n",
    "\n",
    "# Average topic coherence is the sum of topic coherences of all topics, divided by the number of topics.\n",
    "avg_topic_coherence = sum([t[1] for t in top_topics]) / num_topics\n",
    "#print('Average topic coherence: %.4f.' % avg_topic_coherence)\n",
    "\n",
    "\n",
    "print(top_topics[1])"
   ]
  },
  {
   "cell_type": "code",
   "execution_count": 25,
   "id": "d9e17336",
   "metadata": {},
   "outputs": [],
   "source": [
    "l=[model.get_document_topics(item) for item in corpus]"
   ]
  },
  {
   "cell_type": "code",
   "execution_count": 26,
   "id": "17157bf2",
   "metadata": {},
   "outputs": [],
   "source": [
    "lda_topic = [v[0][0] for v in l]"
   ]
  },
  {
   "cell_type": "code",
   "execution_count": 27,
   "id": "92d28b63",
   "metadata": {},
   "outputs": [
    {
     "name": "stdout",
     "output_type": "stream",
     "text": [
      "[1, 1, 1, 1, 1, 0, 0, 0, 0, 0]\n"
     ]
    }
   ],
   "source": [
    "print(lda_topic)"
   ]
  },
  {
   "cell_type": "code",
   "execution_count": 28,
   "id": "07a027a2",
   "metadata": {},
   "outputs": [],
   "source": [
    "df = pd.DataFrame({'text':documents, 'topic':topics, 'lda_topic':lda_topic})"
   ]
  },
  {
   "cell_type": "code",
   "execution_count": 29,
   "id": "97b7d04a",
   "metadata": {},
   "outputs": [
    {
     "data": {
      "text/html": [
       "<div>\n",
       "<style scoped>\n",
       "    .dataframe tbody tr th:only-of-type {\n",
       "        vertical-align: middle;\n",
       "    }\n",
       "\n",
       "    .dataframe tbody tr th {\n",
       "        vertical-align: top;\n",
       "    }\n",
       "\n",
       "    .dataframe thead th {\n",
       "        text-align: right;\n",
       "    }\n",
       "</style>\n",
       "<table border=\"1\" class=\"dataframe\">\n",
       "  <thead>\n",
       "    <tr style=\"text-align: right;\">\n",
       "      <th></th>\n",
       "      <th>text</th>\n",
       "      <th>topic</th>\n",
       "      <th>lda_topic</th>\n",
       "    </tr>\n",
       "  </thead>\n",
       "  <tbody>\n",
       "    <tr>\n",
       "      <th>0</th>\n",
       "      <td>rate rate powers powers interest rate cold rate rate soviet</td>\n",
       "      <td>0</td>\n",
       "      <td>1</td>\n",
       "    </tr>\n",
       "    <tr>\n",
       "      <th>1</th>\n",
       "      <td>western powers powers powers cold rate economic powers interest rate</td>\n",
       "      <td>0</td>\n",
       "      <td>1</td>\n",
       "    </tr>\n",
       "    <tr>\n",
       "      <th>2</th>\n",
       "      <td>western soviet rate rate interest powers interest economic rate cold</td>\n",
       "      <td>0</td>\n",
       "      <td>1</td>\n",
       "    </tr>\n",
       "    <tr>\n",
       "      <th>3</th>\n",
       "      <td>western rate rate cold rate powers rate rate powers rate</td>\n",
       "      <td>0</td>\n",
       "      <td>1</td>\n",
       "    </tr>\n",
       "    <tr>\n",
       "      <th>4</th>\n",
       "      <td>cold cold interest powers western economic rate powers rate interest</td>\n",
       "      <td>0</td>\n",
       "      <td>1</td>\n",
       "    </tr>\n",
       "    <tr>\n",
       "      <th>5</th>\n",
       "      <td>bank political bank political monetary bank monetary economic rate rate</td>\n",
       "      <td>1</td>\n",
       "      <td>0</td>\n",
       "    </tr>\n",
       "    <tr>\n",
       "      <th>6</th>\n",
       "      <td>bank rate rate rate bank bank monetary bank economic monetary</td>\n",
       "      <td>1</td>\n",
       "      <td>0</td>\n",
       "    </tr>\n",
       "    <tr>\n",
       "      <th>7</th>\n",
       "      <td>economic rate bank economic monetary monetary interest bank monetary bank</td>\n",
       "      <td>1</td>\n",
       "      <td>0</td>\n",
       "    </tr>\n",
       "    <tr>\n",
       "      <th>8</th>\n",
       "      <td>rate bank economic economic political economic monetary rate economic economic</td>\n",
       "      <td>1</td>\n",
       "      <td>0</td>\n",
       "    </tr>\n",
       "    <tr>\n",
       "      <th>9</th>\n",
       "      <td>rate monetary bank bank economic monetary economic rate political bank</td>\n",
       "      <td>1</td>\n",
       "      <td>0</td>\n",
       "    </tr>\n",
       "  </tbody>\n",
       "</table>\n",
       "</div>"
      ],
      "text/plain": [
       "                                                                             text  \\\n",
       "0                     rate rate powers powers interest rate cold rate rate soviet   \n",
       "1            western powers powers powers cold rate economic powers interest rate   \n",
       "2            western soviet rate rate interest powers interest economic rate cold   \n",
       "3                        western rate rate cold rate powers rate rate powers rate   \n",
       "4            cold cold interest powers western economic rate powers rate interest   \n",
       "5         bank political bank political monetary bank monetary economic rate rate   \n",
       "6                   bank rate rate rate bank bank monetary bank economic monetary   \n",
       "7       economic rate bank economic monetary monetary interest bank monetary bank   \n",
       "8  rate bank economic economic political economic monetary rate economic economic   \n",
       "9          rate monetary bank bank economic monetary economic rate political bank   \n",
       "\n",
       "   topic  lda_topic  \n",
       "0      0          1  \n",
       "1      0          1  \n",
       "2      0          1  \n",
       "3      0          1  \n",
       "4      0          1  \n",
       "5      1          0  \n",
       "6      1          0  \n",
       "7      1          0  \n",
       "8      1          0  \n",
       "9      1          0  "
      ]
     },
     "execution_count": 29,
     "metadata": {},
     "output_type": "execute_result"
    }
   ],
   "source": [
    "df"
   ]
  },
  {
   "cell_type": "code",
   "execution_count": 30,
   "id": "db353504",
   "metadata": {},
   "outputs": [
    {
     "data": {
      "text/plain": [
       "-1.0"
      ]
     },
     "execution_count": 30,
     "metadata": {},
     "output_type": "execute_result"
    }
   ],
   "source": [
    "df['topic'].corr(df['lda_topic'], method='spearman')"
   ]
  },
  {
   "cell_type": "code",
   "execution_count": 31,
   "id": "877d1a8a",
   "metadata": {},
   "outputs": [],
   "source": [
    "df_cold_war = pd.DataFrame({'term':cold_war_words, 'density':cold_war_den[0]})\n",
    "df_economic_policy = pd.DataFrame({'term':economic_policy_words, 'density':economic_policy_den[0]})"
   ]
  },
  {
   "cell_type": "code",
   "execution_count": 32,
   "id": "228e9a8d",
   "metadata": {},
   "outputs": [],
   "source": [
    "wd0 = dict(zip(cold_war_words, list(cold_war_den[0])))\n",
    "df_wd0 = pd.DataFrame(wd0.items(), columns=['Term', 'Prob'])"
   ]
  },
  {
   "cell_type": "code",
   "execution_count": 33,
   "id": "f326d596",
   "metadata": {},
   "outputs": [
    {
     "data": {
      "text/html": [
       "<div>\n",
       "<style scoped>\n",
       "    .dataframe tbody tr th:only-of-type {\n",
       "        vertical-align: middle;\n",
       "    }\n",
       "\n",
       "    .dataframe tbody tr th {\n",
       "        vertical-align: top;\n",
       "    }\n",
       "\n",
       "    .dataframe thead th {\n",
       "        text-align: right;\n",
       "    }\n",
       "</style>\n",
       "<table border=\"1\" class=\"dataframe\">\n",
       "  <thead>\n",
       "    <tr style=\"text-align: right;\">\n",
       "      <th></th>\n",
       "      <th>Term</th>\n",
       "      <th>Prob</th>\n",
       "    </tr>\n",
       "  </thead>\n",
       "  <tbody>\n",
       "    <tr>\n",
       "      <th>0</th>\n",
       "      <td>western</td>\n",
       "      <td>0.045826</td>\n",
       "    </tr>\n",
       "    <tr>\n",
       "      <th>1</th>\n",
       "      <td>powers</td>\n",
       "      <td>0.250518</td>\n",
       "    </tr>\n",
       "    <tr>\n",
       "      <th>2</th>\n",
       "      <td>soviet</td>\n",
       "      <td>0.087444</td>\n",
       "    </tr>\n",
       "    <tr>\n",
       "      <th>3</th>\n",
       "      <td>cold</td>\n",
       "      <td>0.115211</td>\n",
       "    </tr>\n",
       "    <tr>\n",
       "      <th>4</th>\n",
       "      <td>rate</td>\n",
       "      <td>0.296441</td>\n",
       "    </tr>\n",
       "    <tr>\n",
       "      <th>5</th>\n",
       "      <td>economic</td>\n",
       "      <td>0.033126</td>\n",
       "    </tr>\n",
       "    <tr>\n",
       "      <th>6</th>\n",
       "      <td>interest</td>\n",
       "      <td>0.171434</td>\n",
       "    </tr>\n",
       "  </tbody>\n",
       "</table>\n",
       "</div>"
      ],
      "text/plain": [
       "       Term      Prob\n",
       "0   western  0.045826\n",
       "1    powers  0.250518\n",
       "2    soviet  0.087444\n",
       "3      cold  0.115211\n",
       "4      rate  0.296441\n",
       "5  economic  0.033126\n",
       "6  interest  0.171434"
      ]
     },
     "execution_count": 33,
     "metadata": {},
     "output_type": "execute_result"
    }
   ],
   "source": [
    "df_wd0"
   ]
  },
  {
   "cell_type": "code",
   "execution_count": 34,
   "id": "35655f78",
   "metadata": {},
   "outputs": [],
   "source": [
    "wd1 = dict(zip(economic_policy_words, list(economic_policy_den[0])))\n",
    "df_wd1 = pd.DataFrame(wd1.items(), columns=['Term', 'Prob'])"
   ]
  },
  {
   "cell_type": "code",
   "execution_count": 35,
   "id": "532b376e",
   "metadata": {},
   "outputs": [
    {
     "data": {
      "text/html": [
       "<div>\n",
       "<style scoped>\n",
       "    .dataframe tbody tr th:only-of-type {\n",
       "        vertical-align: middle;\n",
       "    }\n",
       "\n",
       "    .dataframe tbody tr th {\n",
       "        vertical-align: top;\n",
       "    }\n",
       "\n",
       "    .dataframe thead th {\n",
       "        text-align: right;\n",
       "    }\n",
       "</style>\n",
       "<table border=\"1\" class=\"dataframe\">\n",
       "  <thead>\n",
       "    <tr style=\"text-align: right;\">\n",
       "      <th></th>\n",
       "      <th>Term</th>\n",
       "      <th>Prob</th>\n",
       "    </tr>\n",
       "  </thead>\n",
       "  <tbody>\n",
       "    <tr>\n",
       "      <th>0</th>\n",
       "      <td>bank</td>\n",
       "      <td>0.387444</td>\n",
       "    </tr>\n",
       "    <tr>\n",
       "      <th>1</th>\n",
       "      <td>rate</td>\n",
       "      <td>0.174684</td>\n",
       "    </tr>\n",
       "    <tr>\n",
       "      <th>2</th>\n",
       "      <td>money</td>\n",
       "      <td>0.014769</td>\n",
       "    </tr>\n",
       "    <tr>\n",
       "      <th>3</th>\n",
       "      <td>economic</td>\n",
       "      <td>0.134547</td>\n",
       "    </tr>\n",
       "    <tr>\n",
       "      <th>4</th>\n",
       "      <td>interest</td>\n",
       "      <td>0.034442</td>\n",
       "    </tr>\n",
       "    <tr>\n",
       "      <th>5</th>\n",
       "      <td>monetary</td>\n",
       "      <td>0.126494</td>\n",
       "    </tr>\n",
       "    <tr>\n",
       "      <th>6</th>\n",
       "      <td>political</td>\n",
       "      <td>0.127620</td>\n",
       "    </tr>\n",
       "  </tbody>\n",
       "</table>\n",
       "</div>"
      ],
      "text/plain": [
       "        Term      Prob\n",
       "0       bank  0.387444\n",
       "1       rate  0.174684\n",
       "2      money  0.014769\n",
       "3   economic  0.134547\n",
       "4   interest  0.034442\n",
       "5   monetary  0.126494\n",
       "6  political  0.127620"
      ]
     },
     "execution_count": 35,
     "metadata": {},
     "output_type": "execute_result"
    }
   ],
   "source": [
    "df_wd1"
   ]
  },
  {
   "cell_type": "code",
   "execution_count": 36,
   "id": "b8d5e2e8",
   "metadata": {},
   "outputs": [],
   "source": [
    "df_0 = pd.DataFrame(top_topics[1][0],columns=['Prob', 'Term'])\n",
    "df_1 = pd.DataFrame(top_topics[0][0],columns=['Prob', 'Term'])"
   ]
  },
  {
   "cell_type": "code",
   "execution_count": 37,
   "id": "1c8ad5f7",
   "metadata": {},
   "outputs": [
    {
     "data": {
      "text/html": [
       "<div>\n",
       "<style scoped>\n",
       "    .dataframe tbody tr th:only-of-type {\n",
       "        vertical-align: middle;\n",
       "    }\n",
       "\n",
       "    .dataframe tbody tr th {\n",
       "        vertical-align: top;\n",
       "    }\n",
       "\n",
       "    .dataframe thead th {\n",
       "        text-align: right;\n",
       "    }\n",
       "</style>\n",
       "<table border=\"1\" class=\"dataframe\">\n",
       "  <thead>\n",
       "    <tr style=\"text-align: right;\">\n",
       "      <th></th>\n",
       "      <th>Prob</th>\n",
       "      <th>Term</th>\n",
       "    </tr>\n",
       "  </thead>\n",
       "  <tbody>\n",
       "    <tr>\n",
       "      <th>0</th>\n",
       "      <td>0.336406</td>\n",
       "      <td>rate</td>\n",
       "    </tr>\n",
       "    <tr>\n",
       "      <th>1</th>\n",
       "      <td>0.208993</td>\n",
       "      <td>powers</td>\n",
       "    </tr>\n",
       "    <tr>\n",
       "      <th>2</th>\n",
       "      <td>0.118149</td>\n",
       "      <td>interest</td>\n",
       "    </tr>\n",
       "    <tr>\n",
       "      <th>3</th>\n",
       "      <td>0.118143</td>\n",
       "      <td>cold</td>\n",
       "    </tr>\n",
       "    <tr>\n",
       "      <th>4</th>\n",
       "      <td>0.081787</td>\n",
       "      <td>western</td>\n",
       "    </tr>\n",
       "    <tr>\n",
       "      <th>5</th>\n",
       "      <td>0.063629</td>\n",
       "      <td>economic</td>\n",
       "    </tr>\n",
       "    <tr>\n",
       "      <th>6</th>\n",
       "      <td>0.045444</td>\n",
       "      <td>soviet</td>\n",
       "    </tr>\n",
       "    <tr>\n",
       "      <th>7</th>\n",
       "      <td>0.009186</td>\n",
       "      <td>bank</td>\n",
       "    </tr>\n",
       "    <tr>\n",
       "      <th>8</th>\n",
       "      <td>0.009145</td>\n",
       "      <td>monetary</td>\n",
       "    </tr>\n",
       "    <tr>\n",
       "      <th>9</th>\n",
       "      <td>0.009117</td>\n",
       "      <td>political</td>\n",
       "    </tr>\n",
       "  </tbody>\n",
       "</table>\n",
       "</div>"
      ],
      "text/plain": [
       "       Prob       Term\n",
       "0  0.336406       rate\n",
       "1  0.208993     powers\n",
       "2  0.118149   interest\n",
       "3  0.118143       cold\n",
       "4  0.081787    western\n",
       "5  0.063629   economic\n",
       "6  0.045444     soviet\n",
       "7  0.009186       bank\n",
       "8  0.009145   monetary\n",
       "9  0.009117  political"
      ]
     },
     "execution_count": 37,
     "metadata": {},
     "output_type": "execute_result"
    }
   ],
   "source": [
    "df_1"
   ]
  },
  {
   "cell_type": "code",
   "execution_count": 38,
   "id": "c5a44886",
   "metadata": {},
   "outputs": [
    {
     "data": {
      "text/html": [
       "<div>\n",
       "<style scoped>\n",
       "    .dataframe tbody tr th:only-of-type {\n",
       "        vertical-align: middle;\n",
       "    }\n",
       "\n",
       "    .dataframe tbody tr th {\n",
       "        vertical-align: top;\n",
       "    }\n",
       "\n",
       "    .dataframe thead th {\n",
       "        text-align: right;\n",
       "    }\n",
       "</style>\n",
       "<table border=\"1\" class=\"dataframe\">\n",
       "  <thead>\n",
       "    <tr style=\"text-align: right;\">\n",
       "      <th></th>\n",
       "      <th>Term</th>\n",
       "      <th>wd0</th>\n",
       "      <th>wd1</th>\n",
       "      <th>C0</th>\n",
       "      <th>C1</th>\n",
       "    </tr>\n",
       "  </thead>\n",
       "  <tbody>\n",
       "    <tr>\n",
       "      <th>0</th>\n",
       "      <td>rate</td>\n",
       "      <td>0.296441</td>\n",
       "      <td>0.174684</td>\n",
       "      <td>0.190838</td>\n",
       "      <td>0.336406</td>\n",
       "    </tr>\n",
       "    <tr>\n",
       "      <th>1</th>\n",
       "      <td>powers</td>\n",
       "      <td>0.250518</td>\n",
       "      <td>NaN</td>\n",
       "      <td>0.009150</td>\n",
       "      <td>0.208993</td>\n",
       "    </tr>\n",
       "    <tr>\n",
       "      <th>2</th>\n",
       "      <td>interest</td>\n",
       "      <td>0.171434</td>\n",
       "      <td>0.034442</td>\n",
       "      <td>0.027288</td>\n",
       "      <td>0.118149</td>\n",
       "    </tr>\n",
       "    <tr>\n",
       "      <th>3</th>\n",
       "      <td>cold</td>\n",
       "      <td>0.115211</td>\n",
       "      <td>NaN</td>\n",
       "      <td>0.009109</td>\n",
       "      <td>0.118143</td>\n",
       "    </tr>\n",
       "    <tr>\n",
       "      <th>4</th>\n",
       "      <td>soviet</td>\n",
       "      <td>0.087444</td>\n",
       "      <td>NaN</td>\n",
       "      <td>0.009094</td>\n",
       "      <td>0.045444</td>\n",
       "    </tr>\n",
       "    <tr>\n",
       "      <th>5</th>\n",
       "      <td>western</td>\n",
       "      <td>0.045826</td>\n",
       "      <td>NaN</td>\n",
       "      <td>0.009108</td>\n",
       "      <td>0.081787</td>\n",
       "    </tr>\n",
       "    <tr>\n",
       "      <th>6</th>\n",
       "      <td>economic</td>\n",
       "      <td>0.033126</td>\n",
       "      <td>0.134547</td>\n",
       "      <td>0.209126</td>\n",
       "      <td>0.063629</td>\n",
       "    </tr>\n",
       "    <tr>\n",
       "      <th>7</th>\n",
       "      <td>bank</td>\n",
       "      <td>NaN</td>\n",
       "      <td>0.387444</td>\n",
       "      <td>0.263590</td>\n",
       "      <td>0.009186</td>\n",
       "    </tr>\n",
       "    <tr>\n",
       "      <th>8</th>\n",
       "      <td>monetary</td>\n",
       "      <td>NaN</td>\n",
       "      <td>0.126494</td>\n",
       "      <td>0.190890</td>\n",
       "      <td>0.009145</td>\n",
       "    </tr>\n",
       "    <tr>\n",
       "      <th>9</th>\n",
       "      <td>political</td>\n",
       "      <td>NaN</td>\n",
       "      <td>0.127620</td>\n",
       "      <td>0.081806</td>\n",
       "      <td>0.009117</td>\n",
       "    </tr>\n",
       "  </tbody>\n",
       "</table>\n",
       "</div>"
      ],
      "text/plain": [
       "        Term       wd0       wd1        C0        C1\n",
       "0       rate  0.296441  0.174684  0.190838  0.336406\n",
       "1     powers  0.250518       NaN  0.009150  0.208993\n",
       "2   interest  0.171434  0.034442  0.027288  0.118149\n",
       "3       cold  0.115211       NaN  0.009109  0.118143\n",
       "4     soviet  0.087444       NaN  0.009094  0.045444\n",
       "5    western  0.045826       NaN  0.009108  0.081787\n",
       "6   economic  0.033126  0.134547  0.209126  0.063629\n",
       "7       bank       NaN  0.387444  0.263590  0.009186\n",
       "8   monetary       NaN  0.126494  0.190890  0.009145\n",
       "9  political       NaN  0.127620  0.081806  0.009117"
      ]
     },
     "execution_count": 38,
     "metadata": {},
     "output_type": "execute_result"
    }
   ],
   "source": [
    "pysqldf(\"\"\"\n",
    "SELECT \n",
    "    df_0.Term, df_wd0.Prob as wd0, df_wd1.Prob as wd1, df_0.Prob as C0, df_1.Prob as C1\n",
    "FROM\n",
    "    df_0\n",
    "LEFT JOIN\n",
    "    df_1\n",
    "ON\n",
    "    df_0.Term = df_1.Term\n",
    "LEFT JOIN\n",
    "    df_wd0\n",
    "ON\n",
    "    df_0.Term = df_wd0.Term\n",
    "LEFT JOIN\n",
    "    df_wd1\n",
    "ON\n",
    "    df_0.Term = df_wd1.Term\n",
    "ORDER BY wd0 DESC\n",
    "\n",
    "\"\"\")"
   ]
  },
  {
   "cell_type": "code",
   "execution_count": null,
   "id": "b804cb72",
   "metadata": {},
   "outputs": [],
   "source": []
  },
  {
   "cell_type": "code",
   "execution_count": null,
   "id": "153dba68",
   "metadata": {},
   "outputs": [],
   "source": []
  }
 ],
 "metadata": {
  "kernelspec": {
   "display_name": "Python 3 (ipykernel)",
   "language": "python",
   "name": "python3"
  },
  "language_info": {
   "codemirror_mode": {
    "name": "ipython",
    "version": 3
   },
   "file_extension": ".py",
   "mimetype": "text/x-python",
   "name": "python",
   "nbconvert_exporter": "python",
   "pygments_lexer": "ipython3",
   "version": "3.9.7"
  }
 },
 "nbformat": 4,
 "nbformat_minor": 5
}

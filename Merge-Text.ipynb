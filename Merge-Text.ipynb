{
 "cells": [
  {
   "cell_type": "code",
   "execution_count": 1,
   "metadata": {},
   "outputs": [],
   "source": [
    "import pandas as pd"
   ]
  },
  {
   "cell_type": "code",
   "execution_count": 2,
   "metadata": {},
   "outputs": [],
   "source": [
    "from pandasql import sqldf\n",
    "pysqldf = lambda q: sqldf(q, globals())"
   ]
  },
  {
   "cell_type": "code",
   "execution_count": 40,
   "metadata": {},
   "outputs": [],
   "source": [
    "pd.options.display.max_colwidth = None"
   ]
  },
  {
   "cell_type": "code",
   "execution_count": 41,
   "metadata": {},
   "outputs": [],
   "source": [
    "df_transcripts = pd.read_csv('transcripts.csv')"
   ]
  },
  {
   "cell_type": "code",
   "execution_count": 45,
   "metadata": {},
   "outputs": [],
   "source": [
    "df_transcripts['row_num'] = df_transcripts.index"
   ]
  },
  {
   "cell_type": "code",
   "execution_count": 62,
   "metadata": {},
   "outputs": [
    {
     "data": {
      "text/html": [
       "<div>\n",
       "<style scoped>\n",
       "    .dataframe tbody tr th:only-of-type {\n",
       "        vertical-align: middle;\n",
       "    }\n",
       "\n",
       "    .dataframe tbody tr th {\n",
       "        vertical-align: top;\n",
       "    }\n",
       "\n",
       "    .dataframe thead th {\n",
       "        text-align: right;\n",
       "    }\n",
       "</style>\n",
       "<table border=\"1\" class=\"dataframe\">\n",
       "  <thead>\n",
       "    <tr style=\"text-align: right;\">\n",
       "      <th></th>\n",
       "      <th>text</th>\n",
       "      <th>start</th>\n",
       "      <th>duration</th>\n",
       "      <th>video_id</th>\n",
       "      <th>row_num</th>\n",
       "    </tr>\n",
       "  </thead>\n",
       "  <tbody>\n",
       "    <tr>\n",
       "      <th>0</th>\n",
       "      <td>- So today's agenda,</td>\n",
       "      <td>8.11</td>\n",
       "      <td>1.583</td>\n",
       "      <td>4eUS8trd_yI</td>\n",
       "      <td>3378</td>\n",
       "    </tr>\n",
       "    <tr>\n",
       "      <th>1</th>\n",
       "      <td>we're gonna start with why am\\nI talking China and Vietnam.</td>\n",
       "      <td>10.55</td>\n",
       "      <td>4.483</td>\n",
       "      <td>4eUS8trd_yI</td>\n",
       "      <td>3379</td>\n",
       "    </tr>\n",
       "    <tr>\n",
       "      <th>2</th>\n",
       "      <td>We're then gonna talk\\nabout reform in China</td>\n",
       "      <td>16.39</td>\n",
       "      <td>2.750</td>\n",
       "      <td>4eUS8trd_yI</td>\n",
       "      <td>3380</td>\n",
       "    </tr>\n",
       "    <tr>\n",
       "      <th>3</th>\n",
       "      <td>in the period leading up\\nto the 4th of June, 1989</td>\n",
       "      <td>19.14</td>\n",
       "      <td>4.810</td>\n",
       "      <td>4eUS8trd_yI</td>\n",
       "      <td>3381</td>\n",
       "    </tr>\n",
       "    <tr>\n",
       "      <th>4</th>\n",
       "      <td>which is the Tiananmen Square massacre.</td>\n",
       "      <td>23.95</td>\n",
       "      <td>3.383</td>\n",
       "      <td>4eUS8trd_yI</td>\n",
       "      <td>3382</td>\n",
       "    </tr>\n",
       "    <tr>\n",
       "      <th>5</th>\n",
       "      <td>We'll then talk about\\nTiananmen in the 1990s</td>\n",
       "      <td>28.24</td>\n",
       "      <td>3.740</td>\n",
       "      <td>4eUS8trd_yI</td>\n",
       "      <td>3383</td>\n",
       "    </tr>\n",
       "    <tr>\n",
       "      <th>6</th>\n",
       "      <td>that will lead us into a\\ndiscussion of what I'm calling</td>\n",
       "      <td>32.84</td>\n",
       "      <td>3.020</td>\n",
       "      <td>4eUS8trd_yI</td>\n",
       "      <td>3384</td>\n",
       "    </tr>\n",
       "    <tr>\n",
       "      <th>7</th>\n",
       "      <td>the sequencing debate of\\npolitical and economic reform.</td>\n",
       "      <td>35.86</td>\n",
       "      <td>4.720</td>\n",
       "      <td>4eUS8trd_yI</td>\n",
       "      <td>3385</td>\n",
       "    </tr>\n",
       "    <tr>\n",
       "      <th>8</th>\n",
       "      <td>Once it was clear</td>\n",
       "      <td>40.58</td>\n",
       "      <td>1.150</td>\n",
       "      <td>4eUS8trd_yI</td>\n",
       "      <td>3386</td>\n",
       "    </tr>\n",
       "    <tr>\n",
       "      <th>9</th>\n",
       "      <td>that communism was gonna\\nbe replaced by capitalism,</td>\n",
       "      <td>41.73</td>\n",
       "      <td>4.000</td>\n",
       "      <td>4eUS8trd_yI</td>\n",
       "      <td>3387</td>\n",
       "    </tr>\n",
       "  </tbody>\n",
       "</table>\n",
       "</div>"
      ],
      "text/plain": [
       "                                                          text  start  \\\n",
       "0                                         - So today's agenda,   8.11   \n",
       "1  we're gonna start with why am\\nI talking China and Vietnam.  10.55   \n",
       "2                 We're then gonna talk\\nabout reform in China  16.39   \n",
       "3           in the period leading up\\nto the 4th of June, 1989  19.14   \n",
       "4                      which is the Tiananmen Square massacre.  23.95   \n",
       "5                We'll then talk about\\nTiananmen in the 1990s  28.24   \n",
       "6     that will lead us into a\\ndiscussion of what I'm calling  32.84   \n",
       "7     the sequencing debate of\\npolitical and economic reform.  35.86   \n",
       "8                                            Once it was clear  40.58   \n",
       "9         that communism was gonna\\nbe replaced by capitalism,  41.73   \n",
       "\n",
       "   duration     video_id  row_num  \n",
       "0     1.583  4eUS8trd_yI     3378  \n",
       "1     4.483  4eUS8trd_yI     3379  \n",
       "2     2.750  4eUS8trd_yI     3380  \n",
       "3     4.810  4eUS8trd_yI     3381  \n",
       "4     3.383  4eUS8trd_yI     3382  \n",
       "5     3.740  4eUS8trd_yI     3383  \n",
       "6     3.020  4eUS8trd_yI     3384  \n",
       "7     4.720  4eUS8trd_yI     3385  \n",
       "8     1.150  4eUS8trd_yI     3386  \n",
       "9     4.000  4eUS8trd_yI     3387  "
      ]
     },
     "execution_count": 62,
     "metadata": {},
     "output_type": "execute_result"
    }
   ],
   "source": [
    "pysqldf(\"SELECT * FROM df_transcripts ORDER BY video_id, start\").head(10)"
   ]
  },
  {
   "cell_type": "code",
   "execution_count": 42,
   "metadata": {},
   "outputs": [
    {
     "data": {
      "text/plain": [
       "Index(['text', 'start', 'duration', 'video_id'], dtype='object')"
      ]
     },
     "execution_count": 42,
     "metadata": {},
     "output_type": "execute_result"
    }
   ],
   "source": [
    "df_transcripts.columns"
   ]
  },
  {
   "cell_type": "code",
   "execution_count": 66,
   "metadata": {},
   "outputs": [],
   "source": [
    "## this query will merge the text from a set of sequential cells in each video_id.\n",
    "## separated by a space\n",
    "## The number of cells that will be squashed into a single cell is set by the \n",
    "## ranking - for instance, to combine every 10 cells, add 9 (to offset index at 1)\n",
    "## and divide by 10 (keeping only the integer remainder)\n",
    "\n",
    "df_merged_10 = pysqldf(\"\"\"\n",
    "WITH df_ranked AS\n",
    "\n",
    "(SELECT\n",
    "    *,\n",
    "    (RANK () OVER ( \n",
    "        PARTITION BY video_id\n",
    "        ORDER BY start ASC\n",
    "    ) + 9)/ 10 RNK \n",
    "FROM\n",
    "    df_transcripts\n",
    "ORDER BY row_num\n",
    ")\n",
    "\n",
    "SELECT \n",
    "    GROUP_CONCAT(text, ' ') as text,\n",
    "    MIN(start), \n",
    "    MAX(start), \n",
    "    SUM(duration), \n",
    "    video_id \n",
    "FROM df_ranked\n",
    "GROUP BY\n",
    "    rnk, video_id\n",
    "ORDER BY video_id, MIN(start)\n",
    "\"\"\")"
   ]
  },
  {
   "cell_type": "code",
   "execution_count": 67,
   "metadata": {},
   "outputs": [
    {
     "data": {
      "text/html": [
       "<div>\n",
       "<style scoped>\n",
       "    .dataframe tbody tr th:only-of-type {\n",
       "        vertical-align: middle;\n",
       "    }\n",
       "\n",
       "    .dataframe tbody tr th {\n",
       "        vertical-align: top;\n",
       "    }\n",
       "\n",
       "    .dataframe thead th {\n",
       "        text-align: right;\n",
       "    }\n",
       "</style>\n",
       "<table border=\"1\" class=\"dataframe\">\n",
       "  <thead>\n",
       "    <tr style=\"text-align: right;\">\n",
       "      <th></th>\n",
       "      <th>text</th>\n",
       "      <th>MIN(start)</th>\n",
       "      <th>MAX(start)</th>\n",
       "      <th>SUM(duration)</th>\n",
       "      <th>video_id</th>\n",
       "    </tr>\n",
       "  </thead>\n",
       "  <tbody>\n",
       "    <tr>\n",
       "      <th>0</th>\n",
       "      <td>- So today's agenda, we're gonna start with why am\\nI talking China and Vietnam. We're then gonna talk\\nabout reform in China in the period leading up\\nto the 4th of June, 1989 which is the Tiananmen Square massacre. We'll then talk about\\nTiananmen in the 1990s that will lead us into a\\ndiscussion of what I'm calling the sequencing debate of\\npolitical and economic reform. Once it was clear that communism was gonna\\nbe replaced by capitalism,</td>\n",
       "      <td>8.11</td>\n",
       "      <td>41.730</td>\n",
       "      <td>33.639</td>\n",
       "      <td>4eUS8trd_yI</td>\n",
       "    </tr>\n",
       "    <tr>\n",
       "      <th>1</th>\n",
       "      <td>there was a huge debate about, well, is it better to have\\npolitical reform first or economic reform first. We'll try to do them together and we'll talk about\\nthat sequencing debate which will lead us into\\na larger discussion of what since the 1950s has been known as modernization theory. The thesis that economic modernization will eventually produce demand for</td>\n",
       "      <td>45.73</td>\n",
       "      <td>69.720</td>\n",
       "      <td>26.450</td>\n",
       "      <td>4eUS8trd_yI</td>\n",
       "    </tr>\n",
       "    <tr>\n",
       "      <th>2</th>\n",
       "      <td>and the establishment of democracy and that will then leave us\\nto think about the future. So, China and Vietnam Today. - [Narrator] China so far\\nhas built the equivalent of Europe's entire housing\\nstock in just 15 years. In November 2015, Beijing\\nreplaced the substantially larger 1300 ton Sanyuan Bridge in just 43 hours. Between 1996 and 2016, China has built 2.6 million miles of roads including 70,000 miles of highways</td>\n",
       "      <td>72.18</td>\n",
       "      <td>109.550</td>\n",
       "      <td>36.986</td>\n",
       "      <td>4eUS8trd_yI</td>\n",
       "    </tr>\n",
       "    <tr>\n",
       "      <th>3</th>\n",
       "      <td>connecting 95% of the country's villages and overtaking the US as the country with the most extensive\\nhighway system by almost 50%. Over the past decade, China has constructed the world's longest high speed rail network. 12,000 miles of rail lines that carry passengers between cities, at speeds up to 180 miles per hour. China now has more high speed rail tracks</td>\n",
       "      <td>112.28</td>\n",
       "      <td>135.520</td>\n",
       "      <td>25.740</td>\n",
       "      <td>4eUS8trd_yI</td>\n",
       "    </tr>\n",
       "    <tr>\n",
       "      <th>4</th>\n",
       "      <td>than the rest of the world combined. - So that's one of any\\nnumber of video clips one could pick to just give a snapshot of the incredible transformation\\nof the Chinese economy over the last couple of decades and indeed, over the last decade, I went to Beijing last\\nyear for the first time in about 12 years and 12 years ago, there were lots of\\npotholes in the streets,</td>\n",
       "      <td>138.02</td>\n",
       "      <td>168.288</td>\n",
       "      <td>33.273</td>\n",
       "      <td>4eUS8trd_yI</td>\n",
       "    </tr>\n",
       "  </tbody>\n",
       "</table>\n",
       "</div>"
      ],
      "text/plain": [
       "                                                                                                                                                                                                                                                                                                                                                                                                                                                              text  \\\n",
       "0  - So today's agenda, we're gonna start with why am\\nI talking China and Vietnam. We're then gonna talk\\nabout reform in China in the period leading up\\nto the 4th of June, 1989 which is the Tiananmen Square massacre. We'll then talk about\\nTiananmen in the 1990s that will lead us into a\\ndiscussion of what I'm calling the sequencing debate of\\npolitical and economic reform. Once it was clear that communism was gonna\\nbe replaced by capitalism,   \n",
       "1                                                                                    there was a huge debate about, well, is it better to have\\npolitical reform first or economic reform first. We'll try to do them together and we'll talk about\\nthat sequencing debate which will lead us into\\na larger discussion of what since the 1950s has been known as modernization theory. The thesis that economic modernization will eventually produce demand for   \n",
       "2                      and the establishment of democracy and that will then leave us\\nto think about the future. So, China and Vietnam Today. - [Narrator] China so far\\nhas built the equivalent of Europe's entire housing\\nstock in just 15 years. In November 2015, Beijing\\nreplaced the substantially larger 1300 ton Sanyuan Bridge in just 43 hours. Between 1996 and 2016, China has built 2.6 million miles of roads including 70,000 miles of highways   \n",
       "3                                                                                     connecting 95% of the country's villages and overtaking the US as the country with the most extensive\\nhighway system by almost 50%. Over the past decade, China has constructed the world's longest high speed rail network. 12,000 miles of rail lines that carry passengers between cities, at speeds up to 180 miles per hour. China now has more high speed rail tracks   \n",
       "4                                                                            than the rest of the world combined. - So that's one of any\\nnumber of video clips one could pick to just give a snapshot of the incredible transformation\\nof the Chinese economy over the last couple of decades and indeed, over the last decade, I went to Beijing last\\nyear for the first time in about 12 years and 12 years ago, there were lots of\\npotholes in the streets,   \n",
       "\n",
       "   MIN(start)  MAX(start)  SUM(duration)     video_id  \n",
       "0        8.11      41.730         33.639  4eUS8trd_yI  \n",
       "1       45.73      69.720         26.450  4eUS8trd_yI  \n",
       "2       72.18     109.550         36.986  4eUS8trd_yI  \n",
       "3      112.28     135.520         25.740  4eUS8trd_yI  \n",
       "4      138.02     168.288         33.273  4eUS8trd_yI  "
      ]
     },
     "execution_count": 67,
     "metadata": {},
     "output_type": "execute_result"
    }
   ],
   "source": [
    "df_merged_10.head()"
   ]
  },
  {
   "cell_type": "code",
   "execution_count": 68,
   "metadata": {},
   "outputs": [],
   "source": [
    "df_merged_10.to_csv('transcripts_merged_10.csv')"
   ]
  },
  {
   "cell_type": "code",
   "execution_count": null,
   "metadata": {},
   "outputs": [],
   "source": []
  },
  {
   "cell_type": "code",
   "execution_count": null,
   "metadata": {},
   "outputs": [],
   "source": []
  }
 ],
 "metadata": {
  "kernelspec": {
   "display_name": "Python 3",
   "language": "python",
   "name": "python3"
  },
  "language_info": {
   "codemirror_mode": {
    "name": "ipython",
    "version": 3
   },
   "file_extension": ".py",
   "mimetype": "text/x-python",
   "name": "python",
   "nbconvert_exporter": "python",
   "pygments_lexer": "ipython3",
   "version": "3.6.8"
  }
 },
 "nbformat": 4,
 "nbformat_minor": 2
}

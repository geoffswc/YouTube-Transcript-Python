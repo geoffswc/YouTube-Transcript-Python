{
 "cells": [
  {
   "cell_type": "code",
   "execution_count": null,
   "metadata": {},
   "outputs": [],
   "source": [
    "# Find most relevant terms for each topic using KMeans clustering"
   ]
  },
  {
   "cell_type": "code",
   "execution_count": null,
   "metadata": {},
   "outputs": [],
   "source": [
    "#!pip install --upgrade threadpoolctl\n",
    "#!pip install wordcloud"
   ]
  },
  {
   "cell_type": "code",
   "execution_count": null,
   "metadata": {},
   "outputs": [],
   "source": [
    "import pandas as pd\n",
    "from sklearn.feature_extraction.text import TfidfVectorizer\n",
    "from sklearn.decomposition import LatentDirichletAllocation"
   ]
  },
  {
   "cell_type": "code",
   "execution_count": null,
   "metadata": {},
   "outputs": [],
   "source": [
    "pd.options.display.max_columns = None\n",
    "pd.options.display.max_rows = None\n",
    "pd.options.display.max_colwidth = None"
   ]
  },
  {
   "cell_type": "code",
   "execution_count": null,
   "metadata": {},
   "outputs": [],
   "source": [
    "sample_documents = [\n",
    "    \"\"\"\n",
    "    Economics focuses on the behaviour and interactions of economic agents and how economies work. \n",
    "    Microeconomics analyzes what's viewed as basic elements in the economy, including individual agents \n",
    "    and markets, their interactions, and the outcomes of interactions. Individual agents may include, \n",
    "    for example, households, firms, buyers, and sellers. Macroeconomics analyzes the economy as a system \n",
    "    where production, consumption, saving, and investment interact, and factors affecting it: employment \n",
    "    of the resources of labour, capital, and land, currency inflation, economic growth, \n",
    "    and public policies that have impact on these elements.\n",
    "    \"\"\",\n",
    "    \"\"\"\n",
    "    Literature is any collection of written work, but it is also used more narrowly for writings specifically \n",
    "    considered to be an art form, especially prose fiction, drama, and poetry. In recent centuries, the \n",
    "    definition has expanded to include oral literature, much of which has been transcribed. Literature is \n",
    "    a method of recording, preserving, and transmitting knowledge and entertainment, and can also have a social,\n",
    "    psychological, spiritual, or political role. Literature, as an art form, can also include works in \n",
    "    various non-fiction genres, such as biography, diaries, memoir, letters, and the essay. Within its broad \n",
    "    definition, literature includes non-fictional books, articles or other printed information on a particular \n",
    "    subject.\n",
    "    \"\"\"\n",
    "    \n",
    "]"
   ]
  },
  {
   "cell_type": "code",
   "execution_count": null,
   "metadata": {},
   "outputs": [],
   "source": [
    "from nltk.corpus import stopwords\n",
    "from nltk.stem import WordNetLemmatizer\n",
    "from nltk.stem.porter import PorterStemmer\n",
    "import re\n",
    "\n",
    "stop = stopwords.words('english')\n",
    "lemmatizer = WordNetLemmatizer()"
   ]
  },
  {
   "cell_type": "code",
   "execution_count": null,
   "metadata": {},
   "outputs": [],
   "source": [
    "def cleanDocument(text):\n",
    "    words = text.split()\n",
    "    \n",
    "    cleaned = []\n",
    "    for w in words:\n",
    "        w = re.sub(r'\\W+', '', w)\n",
    "        #print(w)\n",
    "        \n",
    "        w = w.lower()\n",
    "        \n",
    "        w = lemmatizer.lemmatize(w)\n",
    "        \n",
    "        if w not in stop:\n",
    "            cleaned.append(w)\n",
    "            \n",
    "    return ' '.join(cleaned)"
   ]
  },
  {
   "cell_type": "code",
   "execution_count": null,
   "metadata": {},
   "outputs": [],
   "source": [
    "# get rid of stop words, non-alphanumeric text, lemmatize\n",
    "documents = [cleanDocument(text) for text in sample_documents]"
   ]
  },
  {
   "cell_type": "code",
   "execution_count": null,
   "metadata": {},
   "outputs": [],
   "source": [
    "df_transcripts = pd.DataFrame({'text': documents})"
   ]
  },
  {
   "cell_type": "code",
   "execution_count": null,
   "metadata": {},
   "outputs": [],
   "source": [
    "df_transcripts"
   ]
  },
  {
   "cell_type": "code",
   "execution_count": null,
   "metadata": {},
   "outputs": [],
   "source": [
    "tfv = TfidfVectorizer(ngram_range = (1,1))"
   ]
  },
  {
   "cell_type": "code",
   "execution_count": null,
   "metadata": {},
   "outputs": [],
   "source": [
    "vec_text = tfv.fit_transform(df_transcripts['text'])"
   ]
  },
  {
   "cell_type": "code",
   "execution_count": null,
   "metadata": {},
   "outputs": [],
   "source": [
    "vec_text"
   ]
  },
  {
   "cell_type": "code",
   "execution_count": null,
   "metadata": {},
   "outputs": [],
   "source": [
    "words = tfv.get_feature_names_out()"
   ]
  },
  {
   "cell_type": "code",
   "execution_count": null,
   "metadata": {},
   "outputs": [],
   "source": [
    "words"
   ]
  },
  {
   "cell_type": "code",
   "execution_count": null,
   "metadata": {},
   "outputs": [],
   "source": [
    "len(words)"
   ]
  },
  {
   "cell_type": "code",
   "execution_count": null,
   "metadata": {},
   "outputs": [],
   "source": [
    "lda_model = LatentDirichletAllocation(n_components=2)\n",
    "\n",
    "#https://www.kaggle.com/rajmehra03/topic-modelling-using-lda-and-lsa-in-sklearn\n",
    "lda_output = lda_model.fit_transform(vec_text)"
   ]
  },
  {
   "cell_type": "code",
   "execution_count": null,
   "metadata": {},
   "outputs": [],
   "source": [
    "df_documents = pd.DataFrame(lda_output)"
   ]
  },
  {
   "cell_type": "code",
   "execution_count": null,
   "metadata": {},
   "outputs": [],
   "source": [
    "df_documents"
   ]
  },
  {
   "cell_type": "code",
   "execution_count": null,
   "metadata": {},
   "outputs": [],
   "source": [
    "len(lda_model.components_[0])"
   ]
  },
  {
   "cell_type": "code",
   "execution_count": null,
   "metadata": {},
   "outputs": [],
   "source": [
    "topic_1 = dict(zip(words, lda_model.components_[1]))"
   ]
  },
  {
   "cell_type": "code",
   "execution_count": null,
   "metadata": {},
   "outputs": [],
   "source": [
    "topic_1"
   ]
  },
  {
   "cell_type": "code",
   "execution_count": null,
   "metadata": {},
   "outputs": [],
   "source": [
    "df_topic_1 = pd.DataFrame(topic_1, index=[1])"
   ]
  },
  {
   "cell_type": "code",
   "execution_count": null,
   "metadata": {},
   "outputs": [],
   "source": [
    "#df_topic_0.T"
   ]
  },
  {
   "cell_type": "code",
   "execution_count": null,
   "metadata": {},
   "outputs": [],
   "source": [
    "df_topic_1.T.sort_values(by=1, ascending=False) "
   ]
  },
  {
   "cell_type": "code",
   "execution_count": null,
   "metadata": {},
   "outputs": [],
   "source": [
    "for i, comp in enumerate(lda_model.components_):\n",
    "    words_comp = dict(zip(words, comp))\n",
    "    sorted_words = sorted(words_comp.items(), reverse=True, key=lambda item: item[1])\n",
    "    print(\"Topic\", i)\n",
    "    for w in sorted_words[:10]:\n",
    "        print(w[0], w[1])\n",
    "    print(\"\\n\")"
   ]
  },
  {
   "cell_type": "code",
   "execution_count": null,
   "metadata": {},
   "outputs": [],
   "source": [
    "pred_text = \"\"\"\n",
    "The definition of literature broadly encompasses written works used to transmit culture. However, \n",
    "literature is not always limited to the written word. The literature meaning can include stories \n",
    "told in the oral tradition and visual literature, such as drama that is intended to be performed \n",
    "before an audience.\n",
    "\"\"\""
   ]
  },
  {
   "cell_type": "code",
   "execution_count": null,
   "metadata": {},
   "outputs": [],
   "source": [
    "pred = lda_model.transform(tfv.transform([cleanDocument(pred_text)]))"
   ]
  },
  {
   "cell_type": "code",
   "execution_count": null,
   "metadata": {},
   "outputs": [],
   "source": [
    "pred"
   ]
  },
  {
   "cell_type": "code",
   "execution_count": null,
   "metadata": {},
   "outputs": [],
   "source": []
  }
 ],
 "metadata": {
  "kernelspec": {
   "display_name": "Python 3 (ipykernel)",
   "language": "python",
   "name": "python3"
  },
  "language_info": {
   "codemirror_mode": {
    "name": "ipython",
    "version": 3
   },
   "file_extension": ".py",
   "mimetype": "text/x-python",
   "name": "python",
   "nbconvert_exporter": "python",
   "pygments_lexer": "ipython3",
   "version": "3.9.7"
  }
 },
 "nbformat": 4,
 "nbformat_minor": 2
}

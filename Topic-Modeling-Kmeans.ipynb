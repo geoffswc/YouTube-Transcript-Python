{
 "cells": [
  {
   "cell_type": "code",
   "execution_count": 1,
   "metadata": {},
   "outputs": [],
   "source": [
    "# Find most relevant terms for each topic using KMeans clustering"
   ]
  },
  {
   "cell_type": "code",
   "execution_count": 2,
   "metadata": {},
   "outputs": [],
   "source": [
    "import pandas as pd\n",
    "import re\n",
    "\n",
    "from sklearn.feature_extraction.text import TfidfVectorizer\n",
    "from sklearn.cluster import KMeans\n",
    "import nltk\n",
    "from nltk.corpus import stopwords"
   ]
  },
  {
   "cell_type": "code",
   "execution_count": 3,
   "metadata": {},
   "outputs": [],
   "source": [
    "pd.options.display.max_columns = None\n",
    "pd.options.display.max_rows = None\n",
    "pd.options.display.max_colwidth = None"
   ]
  },
  {
   "cell_type": "code",
   "execution_count": 4,
   "metadata": {},
   "outputs": [],
   "source": [
    "df_transcripts = pd.read_csv(\"transcripts.csv\")"
   ]
  },
  {
   "cell_type": "code",
   "execution_count": 5,
   "metadata": {},
   "outputs": [],
   "source": [
    "#df_transcripts"
   ]
  },
  {
   "cell_type": "code",
   "execution_count": 6,
   "metadata": {},
   "outputs": [],
   "source": [
    "df_transcripts['text'] = df_transcripts['text'].str.lower()"
   ]
  },
  {
   "cell_type": "code",
   "execution_count": 7,
   "metadata": {},
   "outputs": [],
   "source": [
    "# remove stop words\n",
    "from nltk.corpus import stopwords\n",
    "stop = stopwords.words('english')\n",
    "df_transcripts['text'] = df_transcripts['text'].apply(lambda words: ' '.join(word.lower() for word in words.split() if word not in stop))"
   ]
  },
  {
   "cell_type": "code",
   "execution_count": 8,
   "metadata": {},
   "outputs": [],
   "source": [
    "df_transcripts['text'] = df_transcripts['text'].str.replace(\"[^\\w\\d'\\s]+\", ' ')"
   ]
  },
  {
   "cell_type": "code",
   "execution_count": 9,
   "metadata": {},
   "outputs": [],
   "source": [
    "#df_transcripts['text']"
   ]
  },
  {
   "cell_type": "code",
   "execution_count": 10,
   "metadata": {},
   "outputs": [],
   "source": [
    "text = [word for word in df_transcripts['text'] if not word in stop and len(word) >2] \n",
    "text = [re.sub('[^a-zA-Z]', ' ', word) for word in df_transcripts['text']] "
   ]
  },
  {
   "cell_type": "code",
   "execution_count": 11,
   "metadata": {},
   "outputs": [],
   "source": [
    "tfv = TfidfVectorizer(stop_words = stop, ngram_range = (1,1))"
   ]
  },
  {
   "cell_type": "code",
   "execution_count": 12,
   "metadata": {},
   "outputs": [],
   "source": [
    "vec_text = tfv.fit_transform(text)"
   ]
  },
  {
   "cell_type": "code",
   "execution_count": 13,
   "metadata": {},
   "outputs": [],
   "source": [
    "#vec_text"
   ]
  },
  {
   "cell_type": "code",
   "execution_count": 14,
   "metadata": {},
   "outputs": [],
   "source": [
    "words = tfv.get_feature_names()"
   ]
  },
  {
   "cell_type": "code",
   "execution_count": 15,
   "metadata": {},
   "outputs": [],
   "source": [
    "#words[:10]"
   ]
  },
  {
   "cell_type": "code",
   "execution_count": 16,
   "metadata": {},
   "outputs": [],
   "source": [
    "kmeans = KMeans(n_clusters = 10)\n",
    "kmeans.fit(vec_text)\n",
    "cluster_words = kmeans.cluster_centers_\n",
    "df_cluster_words = pd.DataFrame(cluster_words, columns=words).T"
   ]
  },
  {
   "cell_type": "code",
   "execution_count": 17,
   "metadata": {},
   "outputs": [],
   "source": [
    "#df_cluster_words.iloc[0:10, 0:10]"
   ]
  },
  {
   "cell_type": "code",
   "execution_count": 18,
   "metadata": {},
   "outputs": [
    {
     "name": "stdout",
     "output_type": "stream",
     "text": [
      "Document 0\n",
      "one          0.085526\n",
      "party        0.075295\n",
      "union        0.070082\n",
      "course       0.065041\n",
      "countries    0.062720\n",
      "soviet       0.060299\n",
      "going        0.057845\n",
      "systems      0.022822\n",
      "communist    0.022457\n",
      "european     0.020111\n",
      "Name: 0, dtype: float64\n",
      "\n",
      "\n",
      "Document 1\n",
      "see         0.548344\n",
      "right       0.022398\n",
      "going       0.021320\n",
      "thursday    0.019635\n",
      "start       0.018819\n",
      "parties     0.017226\n",
      "increase    0.013854\n",
      "minute      0.013164\n",
      "people      0.012731\n",
      "gonna       0.012560\n",
      "Name: 1, dtype: float64\n",
      "\n",
      "\n",
      "Document 2\n",
      "gonna        0.231218\n",
      "think        0.181289\n",
      "talk         0.021444\n",
      "get          0.015560\n",
      "union        0.013054\n",
      "talking      0.012316\n",
      "look         0.012196\n",
      "something    0.012098\n",
      "said         0.011361\n",
      "might        0.011145\n",
      "Name: 2, dtype: float64\n",
      "\n",
      "\n",
      "Document 3\n",
      "like         0.007147\n",
      "said         0.006956\n",
      "much         0.006719\n",
      "might        0.005923\n",
      "way          0.005448\n",
      "political    0.005423\n",
      "say          0.005397\n",
      "get          0.005304\n",
      "things       0.005280\n",
      "actually     0.005278\n",
      "Name: 3, dtype: float64\n",
      "\n",
      "\n",
      "Document 4\n",
      "people     0.359719\n",
      "many       0.027524\n",
      "think      0.020018\n",
      "like       0.016519\n",
      "know       0.014411\n",
      "working    0.013902\n",
      "say        0.013666\n",
      "lot        0.011619\n",
      "gonna      0.010391\n",
      "getting    0.010207\n",
      "Name: 4, dtype: float64\n",
      "\n",
      "\n",
      "Document 5\n",
      "first     0.422877\n",
      "thing     0.056352\n",
      "time      0.043459\n",
      "one       0.042739\n",
      "say       0.034276\n",
      "second    0.031198\n",
      "reform    0.022961\n",
      "crisis    0.019015\n",
      "item      0.016287\n",
      "would     0.016017\n",
      "Name: 5, dtype: float64\n",
      "\n",
      "\n",
      "Document 6\n",
      "time       0.457970\n",
      "last       0.063358\n",
      "long       0.046200\n",
      "next       0.040092\n",
      "talking    0.032494\n",
      "spend      0.022937\n",
      "action     0.020299\n",
      "gonna      0.016052\n",
      "going      0.015442\n",
      "also       0.015334\n",
      "Name: 6, dtype: float64\n",
      "\n",
      "\n",
      "Document 7\n",
      "us         0.251761\n",
      "war        0.198070\n",
      "cold       0.103974\n",
      "world      0.041680\n",
      "ii         0.026654\n",
      "end        0.025009\n",
      "nato       0.019780\n",
      "britain    0.018508\n",
      "tell       0.017992\n",
      "post       0.015872\n",
      "Name: 7, dtype: float64\n",
      "\n",
      "\n",
      "Document 8\n",
      "would       0.385215\n",
      "thought     0.020837\n",
      "come        0.016437\n",
      "argument    0.016070\n",
      "become      0.014446\n",
      "idea        0.014067\n",
      "forward     0.013863\n",
      "good        0.013807\n",
      "people      0.013806\n",
      "things      0.013392\n",
      "Name: 8, dtype: float64\n",
      "\n",
      "\n",
      "Document 9\n",
      "put          0.452259\n",
      "together     0.032346\n",
      "syllabus     0.031618\n",
      "charge       0.027774\n",
      "test         0.022963\n",
      "canvas       0.022860\n",
      "people       0.022258\n",
      "play         0.021287\n",
      "dimension    0.021013\n",
      "available    0.020848\n",
      "Name: 9, dtype: float64\n",
      "\n",
      "\n"
     ]
    }
   ],
   "source": [
    "for i in range(0, 10):\n",
    "    print('Document', i)\n",
    "    print(df_cluster_words.sort_values(i, ascending=False)[i].head(10))\n",
    "    print('\\n')"
   ]
  },
  {
   "cell_type": "code",
   "execution_count": null,
   "metadata": {},
   "outputs": [],
   "source": []
  },
  {
   "cell_type": "code",
   "execution_count": null,
   "metadata": {},
   "outputs": [],
   "source": []
  }
 ],
 "metadata": {
  "kernelspec": {
   "display_name": "Python 3",
   "language": "python",
   "name": "python3"
  },
  "language_info": {
   "codemirror_mode": {
    "name": "ipython",
    "version": 3
   },
   "file_extension": ".py",
   "mimetype": "text/x-python",
   "name": "python",
   "nbconvert_exporter": "python",
   "pygments_lexer": "ipython3",
   "version": "3.6.8"
  }
 },
 "nbformat": 4,
 "nbformat_minor": 2
}

{
 "cells": [
  {
   "cell_type": "code",
   "execution_count": null,
   "metadata": {},
   "outputs": [],
   "source": [
    "# Find most relevant terms for each topic using KMeans clustering"
   ]
  },
  {
   "cell_type": "code",
   "execution_count": null,
   "metadata": {},
   "outputs": [],
   "source": [
    "import pandas as pd\n",
    "from sklearn.feature_extraction.text import TfidfVectorizer\n",
    "from sklearn.cluster import KMeans"
   ]
  },
  {
   "cell_type": "code",
   "execution_count": null,
   "metadata": {},
   "outputs": [],
   "source": [
    "pd.options.display.max_columns = None\n",
    "pd.options.display.max_rows = None\n",
    "pd.options.display.max_colwidth = None"
   ]
  },
  {
   "cell_type": "code",
   "execution_count": null,
   "metadata": {},
   "outputs": [],
   "source": [
    "documents = [\n",
    "    \"\"\"\n",
    "    Economics focuses on the behaviour and interactions of economic agents and how economies work. \n",
    "    Microeconomics analyzes what's viewed as basic elements in the economy, including individual agents \n",
    "    and markets, their interactions, and the outcomes of interactions. Individual agents may include, \n",
    "    for example, households, firms, buyers, and sellers. Macroeconomics analyzes the economy as a system \n",
    "    where production, consumption, saving, and investment interact, and factors affecting it: employment \n",
    "    of the resources of labour, capital, and land, currency inflation, economic growth, \n",
    "    and public policies that have impact on these elements.\n",
    "    \"\"\",\n",
    "    \"\"\"\n",
    "    Literature is any collection of written work, but it is also used more narrowly for writings specifically \n",
    "    considered to be an art form, especially prose fiction, drama, and poetry. In recent centuries, the \n",
    "    definition has expanded to include oral literature, much of which has been transcribed. Literature is \n",
    "    a method of recording, preserving, and transmitting knowledge and entertainment, and can also have a social,\n",
    "    psychological, spiritual, or political role. Literature, as an art form, can also include works in \n",
    "    various non-fiction genres, such as biography, diaries, memoir, letters, and the essay. Within its broad \n",
    "    definition, literature includes non-fictional books, articles or other printed information on a particular \n",
    "    subject.\n",
    "    \"\"\"\n",
    "    \n",
    "]"
   ]
  },
  {
   "cell_type": "code",
   "execution_count": null,
   "metadata": {},
   "outputs": [],
   "source": [
    "from nltk.corpus import stopwords\n",
    "from nltk.stem import WordNetLemmatizer\n",
    "from nltk.stem.porter import PorterStemmer\n",
    "import re\n",
    "\n",
    "stop = stopwords.words('english')\n",
    "lemmatizer = WordNetLemmatizer()"
   ]
  },
  {
   "cell_type": "code",
   "execution_count": null,
   "metadata": {},
   "outputs": [],
   "source": [
    "# get rid of stop words, non-alphanumeric text, lemmatize\n",
    "for i in range(len(documents)):\n",
    "    text = documents[i]\n",
    "    words = text.split()\n",
    "    \n",
    "    cleaned = []\n",
    "    for w in words:\n",
    "        w = re.sub(r'\\W+', '', w)\n",
    "        #print(w)\n",
    "        \n",
    "        w = lemmatizer.lemmatize(w)\n",
    "        \n",
    "        if w not in stop:\n",
    "            cleaned.append(w)\n",
    "            \n",
    "            \n",
    "    \n",
    "    documents[i] = ' '.join(cleaned)\n",
    "    print(documents[i])\n"
   ]
  },
  {
   "cell_type": "code",
   "execution_count": null,
   "metadata": {},
   "outputs": [],
   "source": [
    "df_transcripts = pd.DataFrame({'text': documents})"
   ]
  },
  {
   "cell_type": "code",
   "execution_count": null,
   "metadata": {},
   "outputs": [],
   "source": [
    "df_transcripts"
   ]
  },
  {
   "cell_type": "code",
   "execution_count": null,
   "metadata": {},
   "outputs": [],
   "source": [
    "tfv = TfidfVectorizer(ngram_range = (1,1))"
   ]
  },
  {
   "cell_type": "code",
   "execution_count": null,
   "metadata": {},
   "outputs": [],
   "source": [
    "vec_text = tfv.fit_transform(df_transcripts['text'])"
   ]
  },
  {
   "cell_type": "code",
   "execution_count": null,
   "metadata": {},
   "outputs": [],
   "source": [
    "#vec_text"
   ]
  },
  {
   "cell_type": "code",
   "execution_count": null,
   "metadata": {},
   "outputs": [],
   "source": [
    "words = tfv.get_feature_names()"
   ]
  },
  {
   "cell_type": "code",
   "execution_count": null,
   "metadata": {},
   "outputs": [],
   "source": [
    "#words"
   ]
  },
  {
   "cell_type": "code",
   "execution_count": null,
   "metadata": {},
   "outputs": [],
   "source": [
    "kmeans = KMeans(n_clusters = 2)\n",
    "kmeans.fit(vec_text)\n",
    "cluster_words = kmeans.cluster_centers_\n",
    "df_cluster_words = pd.DataFrame(cluster_words, columns=words).T"
   ]
  },
  {
   "cell_type": "code",
   "execution_count": null,
   "metadata": {},
   "outputs": [],
   "source": [
    "#df_cluster_words.iloc[0:10, 0:10]"
   ]
  },
  {
   "cell_type": "code",
   "execution_count": null,
   "metadata": {},
   "outputs": [],
   "source": [
    "for i in range(0, 2):\n",
    "    print('Document', i)\n",
    "    print(df_cluster_words.sort_values(i, ascending=False)[i].head(10))\n",
    "    print('\\n')"
   ]
  },
  {
   "cell_type": "code",
   "execution_count": null,
   "metadata": {},
   "outputs": [],
   "source": [
    "from wordcloud import WordCloud"
   ]
  },
  {
   "cell_type": "code",
   "execution_count": null,
   "metadata": {},
   "outputs": [],
   "source": [
    "wordcloud = WordCloud(background_color=\"white\", max_words=5000, contour_width=3, contour_color='steelblue')\n",
    "wordcloud.generate(documents[1])"
   ]
  },
  {
   "cell_type": "code",
   "execution_count": null,
   "metadata": {},
   "outputs": [],
   "source": [
    "wordcloud.to_image()"
   ]
  },
  {
   "cell_type": "code",
   "execution_count": null,
   "metadata": {},
   "outputs": [],
   "source": []
  }
 ],
 "metadata": {
  "kernelspec": {
   "display_name": "Python 3 (ipykernel)",
   "language": "python",
   "name": "python3"
  },
  "language_info": {
   "codemirror_mode": {
    "name": "ipython",
    "version": 3
   },
   "file_extension": ".py",
   "mimetype": "text/x-python",
   "name": "python",
   "nbconvert_exporter": "python",
   "pygments_lexer": "ipython3",
   "version": "3.9.7"
  }
 },
 "nbformat": 4,
 "nbformat_minor": 2
}

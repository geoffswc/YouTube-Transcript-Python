{
 "cells": [
  {
   "cell_type": "code",
   "execution_count": 1,
   "metadata": {},
   "outputs": [],
   "source": [
    "# Find most relevant terms for each topic using LDA clustering"
   ]
  },
  {
   "cell_type": "code",
   "execution_count": 2,
   "metadata": {},
   "outputs": [],
   "source": [
    "import pandas as pd\n",
    "import re\n",
    "\n",
    "from sklearn.feature_extraction.text import TfidfVectorizer\n",
    "from sklearn.decomposition import LatentDirichletAllocation\n",
    "import nltk\n",
    "from nltk.corpus import stopwords"
   ]
  },
  {
   "cell_type": "code",
   "execution_count": 3,
   "metadata": {},
   "outputs": [],
   "source": [
    "pd.options.display.max_columns = None\n",
    "pd.options.display.max_rows = None\n",
    "pd.options.display.max_colwidth = None"
   ]
  },
  {
   "cell_type": "code",
   "execution_count": 4,
   "metadata": {},
   "outputs": [],
   "source": [
    "df_transcripts = pd.read_csv(\"transcripts.csv\")"
   ]
  },
  {
   "cell_type": "code",
   "execution_count": 5,
   "metadata": {},
   "outputs": [],
   "source": [
    "#df_transcripts"
   ]
  },
  {
   "cell_type": "code",
   "execution_count": 6,
   "metadata": {},
   "outputs": [],
   "source": [
    "df_transcripts['text'] = df_transcripts['text'].str.lower()"
   ]
  },
  {
   "cell_type": "code",
   "execution_count": 7,
   "metadata": {},
   "outputs": [],
   "source": [
    "# remove stop words\n",
    "from nltk.corpus import stopwords\n",
    "stop = stopwords.words('english')\n",
    "df_transcripts['text'] = df_transcripts['text'].apply(lambda words: ' '.join(word.lower() for word in words.split() if word not in stop))"
   ]
  },
  {
   "cell_type": "code",
   "execution_count": 8,
   "metadata": {},
   "outputs": [],
   "source": [
    "df_transcripts['text'] = df_transcripts['text'].str.replace(\"[^\\w\\d'\\s]+\", ' ')"
   ]
  },
  {
   "cell_type": "code",
   "execution_count": 9,
   "metadata": {},
   "outputs": [],
   "source": [
    "#df_transcripts['text']"
   ]
  },
  {
   "cell_type": "code",
   "execution_count": 10,
   "metadata": {},
   "outputs": [],
   "source": [
    "split_text = [word for word in df_transcripts['text'] if not word in stop and len(word) >2] "
   ]
  },
  {
   "cell_type": "code",
   "execution_count": 11,
   "metadata": {},
   "outputs": [
    {
     "data": {
      "text/plain": [
       "['  hello everybody welcome ',\n",
       " 'everybody today ',\n",
       " 'great ',\n",
       " \"well  i'm delighted opportunity\",\n",
       " 'giving devane lectures ']"
      ]
     },
     "execution_count": 11,
     "metadata": {},
     "output_type": "execute_result"
    }
   ],
   "source": [
    "split_text[:5]"
   ]
  },
  {
   "cell_type": "code",
   "execution_count": 12,
   "metadata": {},
   "outputs": [],
   "source": [
    "tfv = TfidfVectorizer(stop_words = stop, ngram_range = (1,1))"
   ]
  },
  {
   "cell_type": "code",
   "execution_count": 13,
   "metadata": {},
   "outputs": [],
   "source": [
    "vec_text = tfv.fit_transform(split_text)"
   ]
  },
  {
   "cell_type": "code",
   "execution_count": 14,
   "metadata": {},
   "outputs": [],
   "source": [
    "words = tfv.get_feature_names()"
   ]
  },
  {
   "cell_type": "code",
   "execution_count": 15,
   "metadata": {},
   "outputs": [
    {
     "data": {
      "text/plain": [
       "['00', '000', '10', '1000', '101', '109', '11', '11th', '12', '125']"
      ]
     },
     "execution_count": 15,
     "metadata": {},
     "output_type": "execute_result"
    }
   ],
   "source": [
    "words[:10]"
   ]
  },
  {
   "cell_type": "code",
   "execution_count": 16,
   "metadata": {},
   "outputs": [],
   "source": [
    "# now working through https://medium.com/@yanlinc/how-to-build-a-lda-topic-model-using-from-text-601cdcbfd3a6"
   ]
  },
  {
   "cell_type": "code",
   "execution_count": 17,
   "metadata": {},
   "outputs": [],
   "source": [
    "lda_model = LatentDirichletAllocation(n_components=10)\n",
    "\n",
    "#https://www.kaggle.com/rajmehra03/topic-modelling-using-lda-and-lsa-in-sklearn\n",
    "lda_output = lda_model.fit_transform(vec_text)"
   ]
  },
  {
   "cell_type": "code",
   "execution_count": 18,
   "metadata": {},
   "outputs": [
    {
     "name": "stdout",
     "output_type": "stream",
     "text": [
      "[[0.03673116 0.03673116 0.03674541 ... 0.03673116 0.03674366 0.03673116]\n",
      " [0.04155288 0.04155288 0.0415531  ... 0.04155527 0.62596624 0.04155288]\n",
      " [0.05001821 0.05000901 0.05000495 ... 0.05       0.05       0.05001014]\n",
      " ...\n",
      " [0.72138052 0.03095272 0.03095986 ... 0.03095547 0.0309534  0.03095454]\n",
      " [0.04195567 0.04195536 0.04195568 ... 0.04195536 0.04195536 0.04195627]\n",
      " [0.04149767 0.04149767 0.04149767 ... 0.04150043 0.04149767 0.04149767]]\n"
     ]
    }
   ],
   "source": [
    "print(lda_output)  # Model attributes"
   ]
  },
  {
   "cell_type": "code",
   "execution_count": 19,
   "metadata": {},
   "outputs": [],
   "source": [
    "df_documents = pd.DataFrame(lda_output)"
   ]
  },
  {
   "cell_type": "code",
   "execution_count": 20,
   "metadata": {},
   "outputs": [
    {
     "data": {
      "text/html": [
       "<div>\n",
       "<style scoped>\n",
       "    .dataframe tbody tr th:only-of-type {\n",
       "        vertical-align: middle;\n",
       "    }\n",
       "\n",
       "    .dataframe tbody tr th {\n",
       "        vertical-align: top;\n",
       "    }\n",
       "\n",
       "    .dataframe thead th {\n",
       "        text-align: right;\n",
       "    }\n",
       "</style>\n",
       "<table border=\"1\" class=\"dataframe\">\n",
       "  <thead>\n",
       "    <tr style=\"text-align: right;\">\n",
       "      <th></th>\n",
       "      <th>0</th>\n",
       "      <th>1</th>\n",
       "      <th>2</th>\n",
       "      <th>3</th>\n",
       "      <th>4</th>\n",
       "      <th>5</th>\n",
       "      <th>6</th>\n",
       "      <th>7</th>\n",
       "      <th>8</th>\n",
       "      <th>9</th>\n",
       "    </tr>\n",
       "  </thead>\n",
       "  <tbody>\n",
       "    <tr>\n",
       "      <th>0</th>\n",
       "      <td>0.036731</td>\n",
       "      <td>0.036731</td>\n",
       "      <td>0.036745</td>\n",
       "      <td>0.036731</td>\n",
       "      <td>0.036732</td>\n",
       "      <td>0.036736</td>\n",
       "      <td>0.669387</td>\n",
       "      <td>0.036731</td>\n",
       "      <td>0.036744</td>\n",
       "      <td>0.036731</td>\n",
       "    </tr>\n",
       "    <tr>\n",
       "      <th>1</th>\n",
       "      <td>0.041553</td>\n",
       "      <td>0.041553</td>\n",
       "      <td>0.041553</td>\n",
       "      <td>0.041564</td>\n",
       "      <td>0.041557</td>\n",
       "      <td>0.041571</td>\n",
       "      <td>0.041575</td>\n",
       "      <td>0.041555</td>\n",
       "      <td>0.625966</td>\n",
       "      <td>0.041553</td>\n",
       "    </tr>\n",
       "    <tr>\n",
       "      <th>2</th>\n",
       "      <td>0.050018</td>\n",
       "      <td>0.050009</td>\n",
       "      <td>0.050005</td>\n",
       "      <td>0.050009</td>\n",
       "      <td>0.549943</td>\n",
       "      <td>0.050001</td>\n",
       "      <td>0.050004</td>\n",
       "      <td>0.050000</td>\n",
       "      <td>0.050000</td>\n",
       "      <td>0.050010</td>\n",
       "    </tr>\n",
       "    <tr>\n",
       "      <th>3</th>\n",
       "      <td>0.037016</td>\n",
       "      <td>0.037017</td>\n",
       "      <td>0.349009</td>\n",
       "      <td>0.037017</td>\n",
       "      <td>0.037015</td>\n",
       "      <td>0.037016</td>\n",
       "      <td>0.354864</td>\n",
       "      <td>0.037016</td>\n",
       "      <td>0.037016</td>\n",
       "      <td>0.037015</td>\n",
       "    </tr>\n",
       "    <tr>\n",
       "      <th>4</th>\n",
       "      <td>0.036650</td>\n",
       "      <td>0.036650</td>\n",
       "      <td>0.036661</td>\n",
       "      <td>0.036650</td>\n",
       "      <td>0.469656</td>\n",
       "      <td>0.036656</td>\n",
       "      <td>0.036652</td>\n",
       "      <td>0.036650</td>\n",
       "      <td>0.237126</td>\n",
       "      <td>0.036650</td>\n",
       "    </tr>\n",
       "    <tr>\n",
       "      <th>5</th>\n",
       "      <td>0.036669</td>\n",
       "      <td>0.036669</td>\n",
       "      <td>0.036676</td>\n",
       "      <td>0.036669</td>\n",
       "      <td>0.669964</td>\n",
       "      <td>0.036673</td>\n",
       "      <td>0.036669</td>\n",
       "      <td>0.036669</td>\n",
       "      <td>0.036669</td>\n",
       "      <td>0.036672</td>\n",
       "    </tr>\n",
       "    <tr>\n",
       "      <th>6</th>\n",
       "      <td>0.669325</td>\n",
       "      <td>0.036740</td>\n",
       "      <td>0.036735</td>\n",
       "      <td>0.036733</td>\n",
       "      <td>0.036735</td>\n",
       "      <td>0.036734</td>\n",
       "      <td>0.036786</td>\n",
       "      <td>0.036741</td>\n",
       "      <td>0.036733</td>\n",
       "      <td>0.036739</td>\n",
       "    </tr>\n",
       "    <tr>\n",
       "      <th>7</th>\n",
       "      <td>0.033651</td>\n",
       "      <td>0.499121</td>\n",
       "      <td>0.033675</td>\n",
       "      <td>0.033646</td>\n",
       "      <td>0.033648</td>\n",
       "      <td>0.033648</td>\n",
       "      <td>0.033664</td>\n",
       "      <td>0.033646</td>\n",
       "      <td>0.231656</td>\n",
       "      <td>0.033646</td>\n",
       "    </tr>\n",
       "    <tr>\n",
       "      <th>8</th>\n",
       "      <td>0.669892</td>\n",
       "      <td>0.036683</td>\n",
       "      <td>0.036676</td>\n",
       "      <td>0.036689</td>\n",
       "      <td>0.036678</td>\n",
       "      <td>0.036677</td>\n",
       "      <td>0.036676</td>\n",
       "      <td>0.036672</td>\n",
       "      <td>0.036672</td>\n",
       "      <td>0.036685</td>\n",
       "    </tr>\n",
       "    <tr>\n",
       "      <th>9</th>\n",
       "      <td>0.033393</td>\n",
       "      <td>0.033392</td>\n",
       "      <td>0.699380</td>\n",
       "      <td>0.033471</td>\n",
       "      <td>0.033393</td>\n",
       "      <td>0.033392</td>\n",
       "      <td>0.033392</td>\n",
       "      <td>0.033394</td>\n",
       "      <td>0.033402</td>\n",
       "      <td>0.033390</td>\n",
       "    </tr>\n",
       "  </tbody>\n",
       "</table>\n",
       "</div>"
      ],
      "text/plain": [
       "          0         1         2         3         4         5         6  \\\n",
       "0  0.036731  0.036731  0.036745  0.036731  0.036732  0.036736  0.669387   \n",
       "1  0.041553  0.041553  0.041553  0.041564  0.041557  0.041571  0.041575   \n",
       "2  0.050018  0.050009  0.050005  0.050009  0.549943  0.050001  0.050004   \n",
       "3  0.037016  0.037017  0.349009  0.037017  0.037015  0.037016  0.354864   \n",
       "4  0.036650  0.036650  0.036661  0.036650  0.469656  0.036656  0.036652   \n",
       "5  0.036669  0.036669  0.036676  0.036669  0.669964  0.036673  0.036669   \n",
       "6  0.669325  0.036740  0.036735  0.036733  0.036735  0.036734  0.036786   \n",
       "7  0.033651  0.499121  0.033675  0.033646  0.033648  0.033648  0.033664   \n",
       "8  0.669892  0.036683  0.036676  0.036689  0.036678  0.036677  0.036676   \n",
       "9  0.033393  0.033392  0.699380  0.033471  0.033393  0.033392  0.033392   \n",
       "\n",
       "          7         8         9  \n",
       "0  0.036731  0.036744  0.036731  \n",
       "1  0.041555  0.625966  0.041553  \n",
       "2  0.050000  0.050000  0.050010  \n",
       "3  0.037016  0.037016  0.037015  \n",
       "4  0.036650  0.237126  0.036650  \n",
       "5  0.036669  0.036669  0.036672  \n",
       "6  0.036741  0.036733  0.036739  \n",
       "7  0.033646  0.231656  0.033646  \n",
       "8  0.036672  0.036672  0.036685  \n",
       "9  0.033394  0.033402  0.033390  "
      ]
     },
     "execution_count": 20,
     "metadata": {},
     "output_type": "execute_result"
    }
   ],
   "source": [
    "df_documents.head(10)"
   ]
  },
  {
   "cell_type": "code",
   "execution_count": 21,
   "metadata": {},
   "outputs": [
    {
     "name": "stdout",
     "output_type": "stream",
     "text": [
      "Document 0\n",
      "germany 21.18204340335756\n",
      "last 20.052609695396406\n",
      "foreign 18.38699650225307\n",
      "time 16.225280661575635\n",
      "two 14.862553776811033\n",
      "like 14.834040700807131\n",
      "britain 14.637458889540044\n",
      "part 14.438016979379041\n",
      "things 13.970756971512884\n",
      "fact 12.587642542559378\n",
      "\n",
      "\n",
      "Document 1\n",
      "soviet 30.869115847422773\n",
      "union 27.57095540898192\n",
      "important 13.852164651560004\n",
      "sector 12.612740383225908\n",
      "thought 12.558256579025004\n",
      "leadership 12.070486504751173\n",
      "party 11.844037996625548\n",
      "really 11.492792047953191\n",
      "collapse 11.449280140340452\n",
      "different 11.390517397074362\n",
      "\n",
      "\n",
      "Document 2\n",
      "war 27.389147070355786\n",
      "communist 18.60625012519783\n",
      "cold 16.57060467418705\n",
      "would 15.951813966692441\n",
      "look 13.875407901661587\n",
      "case 12.504112852515322\n",
      "start 12.05891693143643\n",
      "governments 11.90425377847024\n",
      "might 11.901669909321802\n",
      "systems 10.87214066772887\n",
      "\n",
      "\n",
      "Document 3\n",
      "see 38.94785053313053\n",
      "europe 18.1688878122595\n",
      "median 17.694273953945917\n",
      "audience 16.14020130784168\n",
      "voter 14.832405758072708\n",
      "thing 14.294714878223932\n",
      "way 13.541938869670224\n",
      "economies 13.189189973057573\n",
      "next 12.410202386084814\n",
      "another 12.408341614345874\n",
      "\n",
      "\n",
      "Document 4\n",
      "know 29.848246253312468\n",
      "state 21.593088954616935\n",
      "good 15.29759275719037\n",
      "basically 15.006660445827189\n",
      "actually 14.743489730445775\n",
      "politics 12.747832175724046\n",
      "people 12.592379455372969\n",
      "interest 12.052232390143825\n",
      "support 11.603158197294627\n",
      "welfare 10.270283416033942\n",
      "\n",
      "\n",
      "Document 5\n",
      "said 29.875264699535297\n",
      "go 18.858994702868387\n",
      "years 16.431335781163323\n",
      "better 14.348501831602443\n",
      "four 13.224813833319704\n",
      "right 12.763580152016472\n",
      "ago 12.3524785433545\n",
      "get 11.649837989297321\n",
      "able 10.698199450021194\n",
      "office 10.32071209184355\n",
      "\n",
      "\n",
      "Document 6\n",
      "course 30.524383557213955\n",
      "world 28.78098350391095\n",
      "people 28.19435795766707\n",
      "countries 27.966465348415763\n",
      "european 21.20508001593467\n",
      "china 21.034839466803785\n",
      "later 20.48232420865076\n",
      "many 16.77765532846772\n",
      "vietnam 16.37130046795895\n",
      "talk 15.136480654196882\n",
      "\n",
      "\n",
      "Document 7\n",
      "yeah 20.309639938640263\n",
      "trade 15.812602818885951\n",
      "unions 15.570416129161382\n",
      "point 14.350564922975234\n",
      "russia 13.131515647896649\n",
      "idea 10.069496280632181\n",
      "free 9.713486163941592\n",
      "international 9.49962588603646\n",
      "would 8.467203986217186\n",
      "matter 8.41591040978516\n",
      "\n",
      "\n",
      "Document 8\n",
      "think 34.95485434349038\n",
      "say 28.0069231435022\n",
      "us 17.0245999862248\n",
      "economy 13.967150172933188\n",
      "people 13.226222939526208\n",
      "talking 13.002882373576254\n",
      "little 12.91498819581121\n",
      "money 12.82938085168443\n",
      "want 12.573412807701473\n",
      "make 12.062888480908368\n",
      "\n",
      "\n",
      "Document 9\n",
      "going 35.59754759899006\n",
      "something 15.17644103085525\n",
      "reform 11.255104736933713\n",
      "speech 10.518176270085803\n",
      "1989 9.658251725622929\n",
      "since 9.306301675227234\n",
      "saw 9.285648867506952\n",
      "clear 9.085539312340977\n",
      "got 8.308801102435982\n",
      "political 8.240056151447952\n",
      "\n",
      "\n"
     ]
    }
   ],
   "source": [
    "words = tfv.get_feature_names()\n",
    "\n",
    "for i, comp in enumerate(lda_model.components_):\n",
    "    words_comp = dict(zip(words, comp))\n",
    "    sorted_words = sorted(words_comp.items(), reverse=True, key=lambda item: item[1])\n",
    "    print(\"Document\", i)\n",
    "    for w in sorted_words[:10]:\n",
    "        print(w[0], w[1])\n",
    "    print(\"\\n\")"
   ]
  },
  {
   "cell_type": "code",
   "execution_count": null,
   "metadata": {},
   "outputs": [],
   "source": []
  }
 ],
 "metadata": {
  "kernelspec": {
   "display_name": "Python 3",
   "language": "python",
   "name": "python3"
  },
  "language_info": {
   "codemirror_mode": {
    "name": "ipython",
    "version": 3
   },
   "file_extension": ".py",
   "mimetype": "text/x-python",
   "name": "python",
   "nbconvert_exporter": "python",
   "pygments_lexer": "ipython3",
   "version": "3.6.8"
  }
 },
 "nbformat": 4,
 "nbformat_minor": 2
}

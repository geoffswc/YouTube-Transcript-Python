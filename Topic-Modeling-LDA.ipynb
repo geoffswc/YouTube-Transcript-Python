{
 "cells": [
  {
   "cell_type": "code",
   "execution_count": 1,
   "metadata": {},
   "outputs": [],
   "source": [
    "# Find most relevant terms for each topic using LDA clustering"
   ]
  },
  {
   "cell_type": "code",
   "execution_count": 2,
   "metadata": {},
   "outputs": [],
   "source": [
    "import pandas as pd\n",
    "import re\n",
    "\n",
    "from sklearn.feature_extraction.text import TfidfVectorizer\n",
    "from sklearn.decomposition import LatentDirichletAllocation"
   ]
  },
  {
   "cell_type": "code",
   "execution_count": 3,
   "metadata": {},
   "outputs": [],
   "source": [
    "pd.options.display.max_columns = None\n",
    "pd.options.display.max_rows = None\n",
    "pd.options.display.max_colwidth = None"
   ]
  },
  {
   "cell_type": "code",
   "execution_count": 4,
   "metadata": {},
   "outputs": [],
   "source": [
    "df_transcripts = pd.read_csv(\"transcripts_m10.csv\")"
   ]
  },
  {
   "cell_type": "code",
   "execution_count": 5,
   "metadata": {},
   "outputs": [],
   "source": [
    "#df_transcripts.head(5)"
   ]
  },
  {
   "cell_type": "code",
   "execution_count": 6,
   "metadata": {},
   "outputs": [],
   "source": [
    "tfv = TfidfVectorizer(ngram_range = (1,1))"
   ]
  },
  {
   "cell_type": "code",
   "execution_count": 7,
   "metadata": {},
   "outputs": [],
   "source": [
    "vec_text = tfv.fit_transform(df_transcripts['lemmatized_text'])"
   ]
  },
  {
   "cell_type": "code",
   "execution_count": 8,
   "metadata": {},
   "outputs": [
    {
     "data": {
      "text/plain": [
       "Index(['text', 'alpha_text', 'no_stop', 'lemmatized_text', 'MIN(start)',\n",
       "       'MAX(start)', 'SUM(duration)', 'video_id'],\n",
       "      dtype='object')"
      ]
     },
     "execution_count": 8,
     "metadata": {},
     "output_type": "execute_result"
    }
   ],
   "source": [
    "df_transcripts.columns"
   ]
  },
  {
   "cell_type": "code",
   "execution_count": 9,
   "metadata": {},
   "outputs": [],
   "source": [
    "words = tfv.get_feature_names()"
   ]
  },
  {
   "cell_type": "code",
   "execution_count": 10,
   "metadata": {},
   "outputs": [
    {
     "data": {
      "text/plain": [
       "['abandon',\n",
       " 'abandoned',\n",
       " 'abate',\n",
       " 'abc',\n",
       " 'aberrational',\n",
       " 'abide',\n",
       " 'ability',\n",
       " 'able',\n",
       " 'aboard',\n",
       " 'abolish']"
      ]
     },
     "execution_count": 10,
     "metadata": {},
     "output_type": "execute_result"
    }
   ],
   "source": [
    "words[:10]"
   ]
  },
  {
   "cell_type": "code",
   "execution_count": 11,
   "metadata": {},
   "outputs": [],
   "source": [
    "# now working through https://medium.com/@yanlinc/how-to-build-a-lda-topic-model-using-from-text-601cdcbfd3a6"
   ]
  },
  {
   "cell_type": "code",
   "execution_count": 12,
   "metadata": {},
   "outputs": [],
   "source": [
    "lda_model = LatentDirichletAllocation(n_components=10)\n",
    "\n",
    "#https://www.kaggle.com/rajmehra03/topic-modelling-using-lda-and-lsa-in-sklearn\n",
    "lda_output = lda_model.fit_transform(vec_text)"
   ]
  },
  {
   "cell_type": "code",
   "execution_count": 13,
   "metadata": {},
   "outputs": [
    {
     "name": "stdout",
     "output_type": "stream",
     "text": [
      "[[0.01673446 0.75139778 0.01674529 ... 0.01673474 0.01674906 0.01673322]\n",
      " [0.01812175 0.44429351 0.01812221 ... 0.01812189 0.01812211 0.01812215]\n",
      " [0.0160079  0.01601787 0.01602299 ... 0.01601391 0.01601787 0.01600855]\n",
      " ...\n",
      " [0.01655496 0.01656752 0.01655877 ... 0.49448248 0.01656368 0.01655549]\n",
      " [0.01771    0.01774456 0.01771487 ... 0.0177109  0.01771414 0.01771359]\n",
      " [0.01953647 0.01955398 0.82412428 ... 0.01953792 0.01953704 0.01953649]]\n"
     ]
    }
   ],
   "source": [
    "print(lda_output)  # Model attributes"
   ]
  },
  {
   "cell_type": "code",
   "execution_count": 14,
   "metadata": {},
   "outputs": [],
   "source": [
    "df_documents = pd.DataFrame(lda_output)"
   ]
  },
  {
   "cell_type": "code",
   "execution_count": 15,
   "metadata": {},
   "outputs": [],
   "source": [
    "words = tfv.get_feature_names()"
   ]
  },
  {
   "cell_type": "code",
   "execution_count": 16,
   "metadata": {},
   "outputs": [
    {
     "data": {
      "text/plain": [
       "0.9940087121393331"
      ]
     },
     "execution_count": 16,
     "metadata": {},
     "output_type": "execute_result"
    }
   ],
   "source": [
    "max(lda_model.components_[0])"
   ]
  },
  {
   "cell_type": "code",
   "execution_count": 17,
   "metadata": {},
   "outputs": [
    {
     "name": "stdout",
     "output_type": "stream",
     "text": [
      "Topic 0\n",
      "capitalism 0.9940087121393331\n",
      "trump 0.9352044165103239\n",
      "saw 0.9318481712171199\n",
      "putin 0.8946461670303033\n",
      "talk 0.8339201417139129\n",
      "magnitsky 0.7507338972998028\n",
      "ago 0.7287078037389257\n",
      "islamist 0.7055452766516559\n",
      "act 0.6953297405854966\n",
      "fall 0.6731580653055813\n",
      "\n",
      "\n",
      "Topic 1\n",
      "gonna 5.764452662878344\n",
      "soviet 5.515675763448479\n",
      "war 5.1507511280021285\n",
      "union 4.7817239337027395\n",
      "nato 4.2999457586072785\n",
      "cold 4.06859684760112\n",
      "talk 3.7939712780543515\n",
      "student 3.770526451927841\n",
      "like 3.5290190895272784\n",
      "nation 3.4963490573321603\n",
      "\n",
      "\n",
      "Topic 2\n",
      "one 2.292093704347\n",
      "party 2.080506596855935\n",
      "give 1.8796653924027285\n",
      "music 1.804441187147431\n",
      "communist 1.7640256314107494\n",
      "see 1.7343044742038274\n",
      "yeltsin 1.678229498134157\n",
      "country 1.5529600670300563\n",
      "decade 1.5393917956406367\n",
      "first 1.4958593605065273\n",
      "\n",
      "\n",
      "Topic 3\n",
      "conservative 1.3859954095741545\n",
      "criticism 1.2060978964246447\n",
      "europe 1.1210155022983654\n",
      "late 1.0034734756840717\n",
      "crisis 0.9682857326298118\n",
      "government 0.8885868025477593\n",
      "mile 0.8477926690046178\n",
      "thatcher 0.8399016472999926\n",
      "beijing 0.7902896972100122\n",
      "early 0.7866991463507589\n",
      "\n",
      "\n",
      "Topic 4\n",
      "people 12.720080993152374\n",
      "party 11.500557571185354\n",
      "gonna 8.498232813347434\n",
      "think 7.955670409732607\n",
      "union 7.55426053017631\n",
      "might 7.417343423221335\n",
      "economy 6.766960747498159\n",
      "would 6.429938301858716\n",
      "see 6.148588282363804\n",
      "get 6.115826035157872\n",
      "\n",
      "\n",
      "Topic 5\n",
      "right 1.2714168269600898\n",
      "labor 1.2256916872717447\n",
      "used 1.1253227402244725\n",
      "would 1.0678308493491562\n",
      "leader 1.0531380534365764\n",
      "indeed 1.0186841103333812\n",
      "part 0.9652711622932856\n",
      "audience 0.9308713817035618\n",
      "day 0.9212723646629408\n",
      "civil 0.9133545351646185\n",
      "\n",
      "\n",
      "Topic 6\n",
      "lot 2.4120192420295896\n",
      "political 1.9075057488111489\n",
      "thing 1.8458094030744518\n",
      "say 1.8151523155599683\n",
      "theory 1.7714211241672375\n",
      "economy 1.7464133443567653\n",
      "course 1.738870756197575\n",
      "one 1.6598774818136848\n",
      "conventional 1.6049352672220802\n",
      "way 1.4884912990734003\n",
      "\n",
      "\n",
      "Topic 7\n",
      "idea 1.201349173099553\n",
      "tax 1.1768868797691407\n",
      "get 1.1551677685788528\n",
      "cut 1.0943281376970555\n",
      "term 1.0131287908537518\n",
      "way 1.0038111868603539\n",
      "going 1.000637471241362\n",
      "office 0.9628333581518976\n",
      "developer 0.9527456603805324\n",
      "one 0.9523700982434962\n",
      "\n",
      "\n",
      "Topic 8\n",
      "people 1.5244049121016559\n",
      "working 1.4486998306983663\n",
      "one 1.3449601856305669\n",
      "come 1.317005062354332\n",
      "time 1.2257485206805756\n",
      "country 1.2238800581872644\n",
      "war 1.2128247409039268\n",
      "person 1.1191985723958433\n",
      "way 1.0661131144269105\n",
      "million 1.049881019508813\n",
      "\n",
      "\n",
      "Topic 9\n",
      "liberal 1.055412716045539\n",
      "corporatism 1.0372511301659795\n",
      "street 0.9985660996611999\n",
      "set 0.8796406361039557\n",
      "government 0.8310559822097672\n",
      "child 0.816359711195501\n",
      "glass 0.8146527822627049\n",
      "mostly 0.8111055150290107\n",
      "neo 0.7979430469831656\n",
      "said 0.7921085481899951\n",
      "\n",
      "\n"
     ]
    }
   ],
   "source": [
    "for i, comp in enumerate(lda_model.components_):\n",
    "    words_comp = dict(zip(words, comp))\n",
    "    sorted_words = sorted(words_comp.items(), reverse=True, key=lambda item: item[1])\n",
    "    print(\"Topic\", i)\n",
    "    for w in sorted_words[:10]:\n",
    "        print(w[0], w[1])\n",
    "    print(\"\\n\")"
   ]
  },
  {
   "cell_type": "code",
   "execution_count": 18,
   "metadata": {},
   "outputs": [
    {
     "data": {
      "text/plain": [
       "array([[0.02672151, 0.02672151, 0.02672151, 0.02672151, 0.02672151,\n",
       "        0.02672151, 0.7595064 , 0.02672151, 0.02672151, 0.02672151],\n",
       "       [0.04159295, 0.04159295, 0.62566344, 0.04159295, 0.04159295,\n",
       "        0.04159295, 0.04159295, 0.04159295, 0.04159295, 0.04159295],\n",
       "       [0.02809462, 0.02809462, 0.02809462, 0.02809462, 0.02809462,\n",
       "        0.02809462, 0.02809462, 0.02809462, 0.7471484 , 0.02809462]])"
      ]
     },
     "execution_count": 18,
     "metadata": {},
     "output_type": "execute_result"
    }
   ],
   "source": [
    "# make a prediction# make a prediction\n",
    "vec_text = [\"people many think like working know getting rich\",\n",
    "           \"giving devane lectures\",\n",
    "           \"might saying china vietnam interested called reform\"]\n",
    "lda_model.fit_transform(tfv.transform(vec_text))"
   ]
  },
  {
   "cell_type": "code",
   "execution_count": 19,
   "metadata": {},
   "outputs": [],
   "source": [
    "# view top document matches for a particular category"
   ]
  },
  {
   "cell_type": "code",
   "execution_count": 20,
   "metadata": {},
   "outputs": [
    {
     "data": {
      "text/html": [
       "<div>\n",
       "<style scoped>\n",
       "    .dataframe tbody tr th:only-of-type {\n",
       "        vertical-align: middle;\n",
       "    }\n",
       "\n",
       "    .dataframe tbody tr th {\n",
       "        vertical-align: top;\n",
       "    }\n",
       "\n",
       "    .dataframe thead th {\n",
       "        text-align: right;\n",
       "    }\n",
       "</style>\n",
       "<table border=\"1\" class=\"dataframe\">\n",
       "  <thead>\n",
       "    <tr style=\"text-align: right;\">\n",
       "      <th></th>\n",
       "      <th>0</th>\n",
       "      <th>1</th>\n",
       "      <th>2</th>\n",
       "      <th>3</th>\n",
       "      <th>4</th>\n",
       "      <th>5</th>\n",
       "      <th>6</th>\n",
       "      <th>7</th>\n",
       "      <th>8</th>\n",
       "      <th>9</th>\n",
       "      <th>text</th>\n",
       "      <th>alpha_text</th>\n",
       "      <th>no_stop</th>\n",
       "      <th>lemmatized_text</th>\n",
       "      <th>MIN(start)</th>\n",
       "      <th>MAX(start)</th>\n",
       "      <th>SUM(duration)</th>\n",
       "      <th>video_id</th>\n",
       "    </tr>\n",
       "  </thead>\n",
       "  <tbody>\n",
       "    <tr>\n",
       "      <th>369</th>\n",
       "      <td>0.014283</td>\n",
       "      <td>0.014289</td>\n",
       "      <td>0.871433</td>\n",
       "      <td>0.014284</td>\n",
       "      <td>0.014291</td>\n",
       "      <td>0.014283</td>\n",
       "      <td>0.014285</td>\n",
       "      <td>0.014284</td>\n",
       "      <td>0.014285</td>\n",
       "      <td>0.014283</td>\n",
       "      <td>- [Reporter] Present at\\nthe rally, many of the men who once served with Mikhail Gorbachev. Economic advisor Stanislav Shatalin, and former Foreign Minster\\nEduard Shevardnadze. The men who helped mold glasnost now siding with the man of the hour. The Mayor of Moscow, Gavriil Popov, said to regain the\\nsupport of the democrats, Gorbachev had to break\\nwith the Communist Party and recognize its seven decades\\nin power were at an end.</td>\n",
       "      <td>Reporter  Present at the rally  many of the men who once served with Mikhail Gorbachev  Economic advisor Stanislav Shatalin  and former Foreign Minster Eduard Shevardnadze  The men who helped mold glasnost now siding with the man of the hour  The Mayor of Moscow  Gavriil Popov  said to regain the support of the democrats  Gorbachev had to break with the Communist Party and recognize its seven decades in power were at an end</td>\n",
       "      <td>reporter present rally many men served mikhail gorbachev economic advisor stanislav shatalin former foreign minster eduard shevardnadze men helped mold glasnost siding man hour mayor moscow gavriil popov said regain support democrats gorbachev break communist party recognize seven decades power end</td>\n",
       "      <td>reporter present rally many men served mikhail gorbachev economic advisor stanislav shatalin former foreign minster eduard shevardnadze men helped mold glasnost siding man hour mayor moscow gavriil popov said regain support democrat gorbachev break communist party recognize seven decade power end</td>\n",
       "      <td>811.249</td>\n",
       "      <td>834.28</td>\n",
       "      <td>26.761</td>\n",
       "      <td>f5nbT4xQqwI</td>\n",
       "    </tr>\n",
       "    <tr>\n",
       "      <th>25</th>\n",
       "      <td>0.015377</td>\n",
       "      <td>0.015384</td>\n",
       "      <td>0.861564</td>\n",
       "      <td>0.015380</td>\n",
       "      <td>0.015394</td>\n",
       "      <td>0.015379</td>\n",
       "      <td>0.015385</td>\n",
       "      <td>0.015377</td>\n",
       "      <td>0.015383</td>\n",
       "      <td>0.015378</td>\n",
       "      <td>It's a recreation to some degree of what it existed before the war, but nothing like the levels that were seen in years afterward. But as you can see, per capita GDP in China\\nwas basically flat. There was no economic\\ndevelopment to speak of. 1978 Mao is now dead. The third plenum of the Communist\\nParty Central Committee, led vice premier soon to\\nbe premier, Deng Xiaoping</td>\n",
       "      <td>It s a recreation to some degree of what it existed before the war  but nothing like the levels that were seen in years afterward  But as you can see  per capita GDP in China was basically flat  There was no economic development to speak of       Mao is now dead  The third plenum of the Communist Party Central Committee  led vice premier soon to be premier  Deng Xiaoping</td>\n",
       "      <td>recreation degree existed war nothing like levels seen years afterward see per capita gdp china basically flat economic development speak mao dead third plenum communist party central committee led vice premier soon premier deng xiaoping</td>\n",
       "      <td>recreation degree existed war nothing like level seen year afterward see per caput gdp china basically flat economic development speak mao dead third plenum communist party central committee led vice premier soon premier deng xiaoping</td>\n",
       "      <td>876.650</td>\n",
       "      <td>906.99</td>\n",
       "      <td>31.298</td>\n",
       "      <td>4eUS8trd_yI</td>\n",
       "    </tr>\n",
       "    <tr>\n",
       "      <th>298</th>\n",
       "      <td>0.015812</td>\n",
       "      <td>0.015820</td>\n",
       "      <td>0.857668</td>\n",
       "      <td>0.015812</td>\n",
       "      <td>0.015824</td>\n",
       "      <td>0.015811</td>\n",
       "      <td>0.015814</td>\n",
       "      <td>0.015811</td>\n",
       "      <td>0.015818</td>\n",
       "      <td>0.015811</td>\n",
       "      <td>I know she is a young person but she has a big influence\\non a lot of people. And when people say that, if you took the words white\\nand black and you reversed them you might think David Duke\\nwas giving that speech. - So that was very dishonest\\nin its presentation, because she had not actually said that, she had talked about a\\nrap singer singing that. It wasn't her music, she was talking about a rap\\nsong that made those claims</td>\n",
       "      <td>I know she is a young person but she has a big influence on a lot of people  And when people say that  if you took the words white and black and you reversed them you might think David Duke was giving that speech    So that was very dishonest in its presentation  because she had not actually said that  she had talked about a rap singer singing that  It wasn t her music  she was talking about a rap song that made those claims</td>\n",
       "      <td>know young person big influence lot people people say took words white black reversed might think david duke giving speech dishonest presentation actually said talked rap singer singing music talking rap song made claims</td>\n",
       "      <td>know young person big influence lot people people say took word white black reversed might think david duke giving speech dishonest presentation actually said talked rap singer singing music talking rap song made claim</td>\n",
       "      <td>2467.520</td>\n",
       "      <td>2496.69</td>\n",
       "      <td>29.470</td>\n",
       "      <td>T3-VlQu3iRM</td>\n",
       "    </tr>\n",
       "    <tr>\n",
       "      <th>40</th>\n",
       "      <td>0.015855</td>\n",
       "      <td>0.015872</td>\n",
       "      <td>0.857262</td>\n",
       "      <td>0.015856</td>\n",
       "      <td>0.015872</td>\n",
       "      <td>0.015855</td>\n",
       "      <td>0.015857</td>\n",
       "      <td>0.015856</td>\n",
       "      <td>0.015856</td>\n",
       "      <td>0.015857</td>\n",
       "      <td>and tanks started appearing\\nin Tiananmen Square. (crowd chattering) (crowd yelling) So that's not that\\ndifferent from the video we were looking at outside\\nthe White House in Russia when Yeltsin climbed the tank, and there was the real expectation among many of the protesters that the Chinese army would\\nnot attack its own citizens. And they certainly were appeals\\ngoing out to that effect,</td>\n",
       "      <td>and tanks started appearing in Tiananmen Square   crowd chattering   crowd yelling  So that s not that different from the video we were looking at outside the White House in Russia when Yeltsin climbed the tank  and there was the real expectation among many of the protesters that the Chinese army would not attack its own citizens  And they certainly were appeals going out to that effect</td>\n",
       "      <td>tanks started appearing tiananmen square crowd chattering crowd yelling different video looking outside white house russia yeltsin climbed tank real expectation among many protesters chinese army would attack citizens certainly appeals going effect</td>\n",
       "      <td>tank started appearing tiananmen square crowd chattering crowd yelling different video looking outside white house russia yeltsin climbed tank real expectation among many protester chinese army would attack citizen certainly appeal going effect</td>\n",
       "      <td>1400.730</td>\n",
       "      <td>1500.77</td>\n",
       "      <td>34.958</td>\n",
       "      <td>4eUS8trd_yI</td>\n",
       "    </tr>\n",
       "    <tr>\n",
       "      <th>295</th>\n",
       "      <td>0.015890</td>\n",
       "      <td>0.015897</td>\n",
       "      <td>0.856965</td>\n",
       "      <td>0.015890</td>\n",
       "      <td>0.015904</td>\n",
       "      <td>0.015891</td>\n",
       "      <td>0.015891</td>\n",
       "      <td>0.015891</td>\n",
       "      <td>0.015892</td>\n",
       "      <td>0.015890</td>\n",
       "      <td>because they no longer\\nthink that they can get the solidaristic support\\nof people on the left. And indeed, Clinton felt that he actually had to attack the left of the Democratic Party to get his bona fides as someone who could one in this new world. And this is his famous\\nspeech about Sista Souljah. - You had a rap singer here\\nlast night named Sista Souljah, I defend her right to\\nexpress herself through music</td>\n",
       "      <td>because they no longer think that they can get the solidaristic support of people on the left  And indeed  Clinton felt that he actually had to attack the left of the Democratic Party to get his bona fides as someone who could one in this new world  And this is his famous speech about Sista Souljah    You had a rap singer here last night named Sista Souljah  I defend her right to express herself through music</td>\n",
       "      <td>longer think get solidaristic support people left indeed clinton felt actually attack left democratic party get bona fides someone could one new world famous speech sista souljah rap singer last night named sista souljah defend right express music</td>\n",
       "      <td>longer think get solidaristic support people left indeed clinton felt actually attack left democratic party get bona fides someone could one new world famous speech sista souljah rap singer last night named sista souljah defend right express music</td>\n",
       "      <td>2386.360</td>\n",
       "      <td>2414.70</td>\n",
       "      <td>31.107</td>\n",
       "      <td>T3-VlQu3iRM</td>\n",
       "    </tr>\n",
       "  </tbody>\n",
       "</table>\n",
       "</div>"
      ],
      "text/plain": [
       "            0         1         2         3         4         5         6  \\\n",
       "369  0.014283  0.014289  0.871433  0.014284  0.014291  0.014283  0.014285   \n",
       "25   0.015377  0.015384  0.861564  0.015380  0.015394  0.015379  0.015385   \n",
       "298  0.015812  0.015820  0.857668  0.015812  0.015824  0.015811  0.015814   \n",
       "40   0.015855  0.015872  0.857262  0.015856  0.015872  0.015855  0.015857   \n",
       "295  0.015890  0.015897  0.856965  0.015890  0.015904  0.015891  0.015891   \n",
       "\n",
       "            7         8         9  \\\n",
       "369  0.014284  0.014285  0.014283   \n",
       "25   0.015377  0.015383  0.015378   \n",
       "298  0.015811  0.015818  0.015811   \n",
       "40   0.015856  0.015856  0.015857   \n",
       "295  0.015891  0.015892  0.015890   \n",
       "\n",
       "                                                                                                                                                                                                                                                                                                                                                                                                                                                     text  \\\n",
       "369  - [Reporter] Present at\\nthe rally, many of the men who once served with Mikhail Gorbachev. Economic advisor Stanislav Shatalin, and former Foreign Minster\\nEduard Shevardnadze. The men who helped mold glasnost now siding with the man of the hour. The Mayor of Moscow, Gavriil Popov, said to regain the\\nsupport of the democrats, Gorbachev had to break\\nwith the Communist Party and recognize its seven decades\\nin power were at an end.   \n",
       "25                                                              It's a recreation to some degree of what it existed before the war, but nothing like the levels that were seen in years afterward. But as you can see, per capita GDP in China\\nwas basically flat. There was no economic\\ndevelopment to speak of. 1978 Mao is now dead. The third plenum of the Communist\\nParty Central Committee, led vice premier soon to\\nbe premier, Deng Xiaoping   \n",
       "298    I know she is a young person but she has a big influence\\non a lot of people. And when people say that, if you took the words white\\nand black and you reversed them you might think David Duke\\nwas giving that speech. - So that was very dishonest\\nin its presentation, because she had not actually said that, she had talked about a\\nrap singer singing that. It wasn't her music, she was talking about a rap\\nsong that made those claims   \n",
       "40                                            and tanks started appearing\\nin Tiananmen Square. (crowd chattering) (crowd yelling) So that's not that\\ndifferent from the video we were looking at outside\\nthe White House in Russia when Yeltsin climbed the tank, and there was the real expectation among many of the protesters that the Chinese army would\\nnot attack its own citizens. And they certainly were appeals\\ngoing out to that effect,   \n",
       "295                     because they no longer\\nthink that they can get the solidaristic support\\nof people on the left. And indeed, Clinton felt that he actually had to attack the left of the Democratic Party to get his bona fides as someone who could one in this new world. And this is his famous\\nspeech about Sista Souljah. - You had a rap singer here\\nlast night named Sista Souljah, I defend her right to\\nexpress herself through music   \n",
       "\n",
       "                                                                                                                                                                                                                                                                                                                                                                                                                                          alpha_text  \\\n",
       "369     Reporter  Present at the rally  many of the men who once served with Mikhail Gorbachev  Economic advisor Stanislav Shatalin  and former Foreign Minster Eduard Shevardnadze  The men who helped mold glasnost now siding with the man of the hour  The Mayor of Moscow  Gavriil Popov  said to regain the support of the democrats  Gorbachev had to break with the Communist Party and recognize its seven decades in power were at an end    \n",
       "25                                                             It s a recreation to some degree of what it existed before the war  but nothing like the levels that were seen in years afterward  But as you can see  per capita GDP in China was basically flat  There was no economic development to speak of       Mao is now dead  The third plenum of the Communist Party Central Committee  led vice premier soon to be premier  Deng Xiaoping   \n",
       "298     I know she is a young person but she has a big influence on a lot of people  And when people say that  if you took the words white and black and you reversed them you might think David Duke was giving that speech    So that was very dishonest in its presentation  because she had not actually said that  she had talked about a rap singer singing that  It wasn t her music  she was talking about a rap song that made those claims   \n",
       "40                                            and tanks started appearing in Tiananmen Square   crowd chattering   crowd yelling  So that s not that different from the video we were looking at outside the White House in Russia when Yeltsin climbed the tank  and there was the real expectation among many of the protesters that the Chinese army would not attack its own citizens  And they certainly were appeals going out to that effect    \n",
       "295                     because they no longer think that they can get the solidaristic support of people on the left  And indeed  Clinton felt that he actually had to attack the left of the Democratic Party to get his bona fides as someone who could one in this new world  And this is his famous speech about Sista Souljah    You had a rap singer here last night named Sista Souljah  I defend her right to express herself through music   \n",
       "\n",
       "                                                                                                                                                                                                                                                                                                         no_stop  \\\n",
       "369  reporter present rally many men served mikhail gorbachev economic advisor stanislav shatalin former foreign minster eduard shevardnadze men helped mold glasnost siding man hour mayor moscow gavriil popov said regain support democrats gorbachev break communist party recognize seven decades power end   \n",
       "25                                                                 recreation degree existed war nothing like levels seen years afterward see per capita gdp china basically flat economic development speak mao dead third plenum communist party central committee led vice premier soon premier deng xiaoping   \n",
       "298                                                                                 know young person big influence lot people people say took words white black reversed might think david duke giving speech dishonest presentation actually said talked rap singer singing music talking rap song made claims   \n",
       "40                                                      tanks started appearing tiananmen square crowd chattering crowd yelling different video looking outside white house russia yeltsin climbed tank real expectation among many protesters chinese army would attack citizens certainly appeals going effect   \n",
       "295                                                      longer think get solidaristic support people left indeed clinton felt actually attack left democratic party get bona fides someone could one new world famous speech sista souljah rap singer last night named sista souljah defend right express music   \n",
       "\n",
       "                                                                                                                                                                                                                                                                                               lemmatized_text  \\\n",
       "369  reporter present rally many men served mikhail gorbachev economic advisor stanislav shatalin former foreign minster eduard shevardnadze men helped mold glasnost siding man hour mayor moscow gavriil popov said regain support democrat gorbachev break communist party recognize seven decade power end   \n",
       "25                                                                  recreation degree existed war nothing like level seen year afterward see per caput gdp china basically flat economic development speak mao dead third plenum communist party central committee led vice premier soon premier deng xiaoping   \n",
       "298                                                                                 know young person big influence lot people people say took word white black reversed might think david duke giving speech dishonest presentation actually said talked rap singer singing music talking rap song made claim   \n",
       "40                                                        tank started appearing tiananmen square crowd chattering crowd yelling different video looking outside white house russia yeltsin climbed tank real expectation among many protester chinese army would attack citizen certainly appeal going effect   \n",
       "295                                                    longer think get solidaristic support people left indeed clinton felt actually attack left democratic party get bona fides someone could one new world famous speech sista souljah rap singer last night named sista souljah defend right express music   \n",
       "\n",
       "     MIN(start)  MAX(start)  SUM(duration)     video_id  \n",
       "369     811.249      834.28         26.761  f5nbT4xQqwI  \n",
       "25      876.650      906.99         31.298  4eUS8trd_yI  \n",
       "298    2467.520     2496.69         29.470  T3-VlQu3iRM  \n",
       "40     1400.730     1500.77         34.958  4eUS8trd_yI  \n",
       "295    2386.360     2414.70         31.107  T3-VlQu3iRM  "
      ]
     },
     "execution_count": 20,
     "metadata": {},
     "output_type": "execute_result"
    }
   ],
   "source": [
    "df_all = pd.concat([df_documents, df_transcripts], axis=1)\n",
    "df_all.sort_values(2, ascending=False).head(5)"
   ]
  },
  {
   "cell_type": "code",
   "execution_count": null,
   "metadata": {},
   "outputs": [],
   "source": []
  },
  {
   "cell_type": "code",
   "execution_count": null,
   "metadata": {},
   "outputs": [],
   "source": []
  }
 ],
 "metadata": {
  "kernelspec": {
   "display_name": "Python 3 (ipykernel)",
   "language": "python",
   "name": "python3"
  },
  "language_info": {
   "codemirror_mode": {
    "name": "ipython",
    "version": 3
   },
   "file_extension": ".py",
   "mimetype": "text/x-python",
   "name": "python",
   "nbconvert_exporter": "python",
   "pygments_lexer": "ipython3",
   "version": "3.9.7"
  }
 },
 "nbformat": 4,
 "nbformat_minor": 2
}

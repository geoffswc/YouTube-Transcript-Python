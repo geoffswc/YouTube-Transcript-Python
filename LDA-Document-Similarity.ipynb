{
 "cells": [
  {
   "cell_type": "code",
   "execution_count": 1,
   "id": "225a3d89",
   "metadata": {},
   "outputs": [],
   "source": [
    "from random import randrange, random\n",
    "import numpy as np\n",
    "from scipy.sparse import vstack\n",
    "from scipy.sparse.csr import csr_matrix\n",
    "from sklearn.metrics.pairwise import cosine_similarity\n",
    "from nltk.tokenize import word_tokenize\n",
    "from sklearn.feature_extraction.text import CountVectorizer\n",
    "import pandas as pd"
   ]
  },
  {
   "cell_type": "code",
   "execution_count": 2,
   "id": "5889ca67",
   "metadata": {},
   "outputs": [],
   "source": [
    "pd.options.display.max_columns = None\n",
    "pd.options.display.max_rows = None\n",
    "pd.options.display.max_colwidth = None"
   ]
  },
  {
   "cell_type": "code",
   "execution_count": 3,
   "id": "7a841e9b",
   "metadata": {},
   "outputs": [],
   "source": [
    "num_topics = 2"
   ]
  },
  {
   "cell_type": "code",
   "execution_count": 4,
   "id": "5982e925",
   "metadata": {},
   "outputs": [],
   "source": [
    "cold_war_terms = ['soviet', 'cold', 'war', 'nato', 'communist', 'capitalist', 'political', \n",
    "                 'western', 'powers', 'propaganda']\n",
    "\n",
    "economic_policy_terms = ['financial', 'taxation', 'monetary', 'policy', 'economic', 'interest',\n",
    "                        'rate', 'money', 'supply', 'bank']"
   ]
  },
  {
   "cell_type": "code",
   "execution_count": 5,
   "id": "d730f31a",
   "metadata": {},
   "outputs": [],
   "source": [
    "cold_war_topics = [.9, .1]\n",
    "economic_policy_topics = [.9, .1]"
   ]
  },
  {
   "cell_type": "code",
   "execution_count": 6,
   "id": "c615c804",
   "metadata": {},
   "outputs": [
    {
     "name": "stdout",
     "output_type": "stream",
     "text": [
      "political\n",
      "nato\n",
      "political\n",
      "soviet\n",
      "powers\n",
      "nato\n",
      "political\n",
      "rate\n",
      "propaganda\n",
      "powers\n"
     ]
    }
   ],
   "source": [
    "cold_war_words = []\n",
    "economic_policy_words = []\n",
    "\n",
    "for i in range(10):\n",
    "    if random() <= cold_war_topics[0]:\n",
    "        w = cold_war_terms[randrange(len(cold_war_terms))]\n",
    "        print(w)\n",
    "        if w not in cold_war_words:\n",
    "            cold_war_words.insert(0,w)\n",
    "    else:\n",
    "        w = economic_policy_terms[randrange(len(economic_policy_terms))]\n",
    "        print(w)\n",
    "        if w not in cold_war_words:\n",
    "            cold_war_words.append(w)\n",
    "\n",
    "for i in range(10):\n",
    "    if random() <= economic_policy_topics[0]:\n",
    "        w = economic_policy_terms[randrange(len(economic_policy_terms))]\n",
    "        if w not in economic_policy_words:\n",
    "            economic_policy_words.insert(0,w)\n",
    "    else:\n",
    "        w = cold_war_terms[randrange(len(cold_war_terms))]\n",
    "        if w not in economic_policy_words:\n",
    "            economic_policy_words.append(w)\n",
    "    "
   ]
  },
  {
   "cell_type": "code",
   "execution_count": 7,
   "id": "1b6116a4",
   "metadata": {},
   "outputs": [
    {
     "name": "stdout",
     "output_type": "stream",
     "text": [
      "['propaganda', 'powers', 'soviet', 'nato', 'political', 'rate']\n",
      "['economic', 'bank', 'policy', 'monetary', 'financial', 'taxation', 'nato']\n"
     ]
    }
   ],
   "source": [
    "print(cold_war_words)\n",
    "print(economic_policy_words)"
   ]
  },
  {
   "cell_type": "code",
   "execution_count": 8,
   "id": "65bb821c",
   "metadata": {},
   "outputs": [],
   "source": [
    "cold_war_den = np.random.dirichlet(np.ones(len(cold_war_words)),size=1)\n",
    "cold_war_dist = np.cumsum(cold_war_den)\n",
    "\n",
    "economic_policy_den = np.random.dirichlet(np.ones(len(economic_policy_words)),size=1)\n",
    "economic_policy_dist = np.cumsum(economic_policy_den)"
   ]
  },
  {
   "cell_type": "code",
   "execution_count": 9,
   "id": "0c40cf70",
   "metadata": {},
   "outputs": [
    {
     "data": {
      "text/plain": [
       "(2, 'soviet')"
      ]
     },
     "execution_count": 9,
     "metadata": {},
     "output_type": "execute_result"
    }
   ],
   "source": [
    "n = random()\n",
    "index = np.searchsorted(cold_war_dist,n)\n",
    "index, cold_war_words[index]"
   ]
  },
  {
   "cell_type": "code",
   "execution_count": 10,
   "id": "65d934d9",
   "metadata": {},
   "outputs": [],
   "source": [
    "# generate 10 documents from each category\n",
    "documents = []\n",
    "topics = []\n",
    "\n",
    "for i in range(5):\n",
    "    sentence = []\n",
    "    for i in range(10):\n",
    "        n = random()\n",
    "        index = np.searchsorted(cold_war_dist,n)\n",
    "        sentence.append(cold_war_words[index])\n",
    "    documents.append(' '.join(sentence))\n",
    "    topics.append(0)\n",
    "\n",
    "for i in range(5):\n",
    "    sentence = []\n",
    "    for i in range(10):\n",
    "        n = random()\n",
    "        index = np.searchsorted(economic_policy_dist,n)\n",
    "        sentence.append(economic_policy_words[index])\n",
    "    documents.append(' '.join(sentence))\n",
    "    topics.append(1)"
   ]
  },
  {
   "cell_type": "code",
   "execution_count": 11,
   "id": "d8770656",
   "metadata": {},
   "outputs": [
    {
     "name": "stdout",
     "output_type": "stream",
     "text": [
      "political soviet soviet rate political rate powers political propaganda political\n",
      "political rate political powers political powers political political nato rate\n",
      "rate political powers political powers political rate rate rate powers\n",
      "political rate propaganda political powers political soviet nato powers nato\n",
      "political rate political political political propaganda propaganda political political political\n",
      "policy nato bank economic nato monetary bank nato financial financial\n",
      "economic economic nato economic bank nato bank nato monetary bank\n",
      "bank bank nato bank economic nato economic policy nato nato\n",
      "policy nato policy monetary bank bank bank monetary nato bank\n",
      "policy bank bank nato nato bank nato nato bank monetary\n"
     ]
    }
   ],
   "source": [
    "for s in documents:\n",
    "    print(s)"
   ]
  },
  {
   "cell_type": "code",
   "execution_count": 12,
   "id": "a42fbe94",
   "metadata": {},
   "outputs": [],
   "source": [
    "vectorizer = CountVectorizer()"
   ]
  },
  {
   "cell_type": "code",
   "execution_count": 13,
   "id": "46bf39b3",
   "metadata": {},
   "outputs": [],
   "source": [
    "X_train = vectorizer.fit_transform(documents)"
   ]
  },
  {
   "cell_type": "code",
   "execution_count": 14,
   "id": "dec2b5b8",
   "metadata": {},
   "outputs": [
    {
     "data": {
      "text/plain": [
       "matrix([[0, 0, 0, 0, 0, 0, 4, 1, 1, 2, 2]])"
      ]
     },
     "execution_count": 14,
     "metadata": {},
     "output_type": "execute_result"
    }
   ],
   "source": [
    "init = X_train.todense()\n",
    "init[0]"
   ]
  },
  {
   "cell_type": "code",
   "execution_count": 15,
   "id": "a106ab49",
   "metadata": {},
   "outputs": [
    {
     "data": {
      "text/plain": [
       "['bank',\n",
       " 'economic',\n",
       " 'financial',\n",
       " 'monetary',\n",
       " 'nato',\n",
       " 'policy',\n",
       " 'political',\n",
       " 'powers',\n",
       " 'propaganda',\n",
       " 'rate',\n",
       " 'soviet']"
      ]
     },
     "execution_count": 15,
     "metadata": {},
     "output_type": "execute_result"
    }
   ],
   "source": [
    "vectorizer.get_feature_names()"
   ]
  },
  {
   "cell_type": "code",
   "execution_count": 16,
   "id": "93322f09",
   "metadata": {},
   "outputs": [],
   "source": [
    "import numpy\n",
    "def delete_rows_csr(mat, indices):\n",
    "    \"\"\"\n",
    "    Remove the rows denoted by ``indices`` form the CSR sparse matrix ``mat``.\n",
    "    \"\"\"\n",
    "    #if not isinstance(mat, scipy.sparse.csr_matrix):\n",
    "    #    raise ValueError(\"works only for CSR format -- use .tocsr() first\")\n",
    "    indices = list(indices)\n",
    "    mask = numpy.ones(mat.shape[0], dtype=bool)\n",
    "    mask[indices] = False\n",
    "    return mat[mask]"
   ]
  },
  {
   "cell_type": "code",
   "execution_count": 17,
   "id": "ea9a05fc",
   "metadata": {},
   "outputs": [
    {
     "name": "stdout",
     "output_type": "stream",
     "text": [
      "9\n",
      "8\n",
      "7\n",
      "6\n",
      "5\n",
      "4\n",
      "3\n",
      "2\n"
     ]
    }
   ],
   "source": [
    "while len(X_train.todense()) > 2:\n",
    "    cs = np.round(cosine_similarity(X_train, Y=None, dense_output=True),2)\n",
    "\n",
    "    max = 0\n",
    "    jj = 0\n",
    "    ii = 0\n",
    "    for i in range(len(cs[0])):\n",
    "        for j in range(len(cs[0])):\n",
    "            if cs[i][j] < 1 and cs[i][j] > max:\n",
    "                max = cs[i][j]\n",
    "                ii = i\n",
    "                jj = j\n",
    "\n",
    "\n",
    "    nr = (X_train[ii] + X_train[jj])\n",
    "\n",
    "    X_train = delete_rows_csr(X_train, [ii, jj])\n",
    "\n",
    "    merged = np.insert(X_train.todense(), ii, nr.todense(), 0)\n",
    "\n",
    "    X_train = csr_matrix(merged)\n",
    "    print(len(X_train.todense()))"
   ]
  },
  {
   "cell_type": "code",
   "execution_count": 18,
   "id": "0dea7766",
   "metadata": {},
   "outputs": [],
   "source": [
    "#len(X_train.todense())"
   ]
  },
  {
   "cell_type": "code",
   "execution_count": 19,
   "id": "5ec13842",
   "metadata": {},
   "outputs": [
    {
     "name": "stdout",
     "output_type": "stream",
     "text": [
      "0 1 0.77\n",
      "[[ 0  0  0  0  3  0 22  8  4 10  3]\n",
      " [16  6  2  5 16  5  0  0  0  0  0]]\n",
      "[[1.   0.77 0.09]\n",
      " [0.77 1.   0.  ]\n",
      " [0.09 0.   1.  ]]\n"
     ]
    }
   ],
   "source": [
    "print(ii,jj,max)\n",
    "print(X_train.todense())\n",
    "print(cs)"
   ]
  },
  {
   "cell_type": "code",
   "execution_count": 20,
   "id": "ca08cc5e",
   "metadata": {},
   "outputs": [],
   "source": [
    "# and then continue like this until you meet the number of topics"
   ]
  },
  {
   "cell_type": "code",
   "execution_count": 21,
   "id": "94fb1db4",
   "metadata": {},
   "outputs": [],
   "source": [
    "# ok, now I really need to see if this will work\n",
    "clusters = X_train.todense()"
   ]
  },
  {
   "cell_type": "code",
   "execution_count": 22,
   "id": "a2971c6e",
   "metadata": {},
   "outputs": [
    {
     "data": {
      "text/plain": [
       "matrix([[ 0,  0,  0,  0,  3,  0, 22,  8,  4, 10,  3],\n",
       "        [16,  6,  2,  5, 16,  5,  0,  0,  0,  0,  0]])"
      ]
     },
     "execution_count": 22,
     "metadata": {},
     "output_type": "execute_result"
    }
   ],
   "source": [
    "clusters"
   ]
  },
  {
   "cell_type": "code",
   "execution_count": 23,
   "id": "be55b37f",
   "metadata": {},
   "outputs": [],
   "source": [
    "df = pd.DataFrame(X_train.todense())\n",
    "#df=(df-df.min())/(df.max()-df.min())"
   ]
  },
  {
   "cell_type": "code",
   "execution_count": 24,
   "id": "c56e5b7b",
   "metadata": {},
   "outputs": [],
   "source": [
    "df = df.T"
   ]
  },
  {
   "cell_type": "code",
   "execution_count": 25,
   "id": "4124c09a",
   "metadata": {},
   "outputs": [],
   "source": [
    "df = df/df.sum()"
   ]
  },
  {
   "cell_type": "code",
   "execution_count": 26,
   "id": "b1f739be",
   "metadata": {},
   "outputs": [],
   "source": [
    "df['terms'] = vectorizer.get_feature_names()"
   ]
  },
  {
   "cell_type": "code",
   "execution_count": 27,
   "id": "1a230cbd",
   "metadata": {},
   "outputs": [
    {
     "data": {
      "text/html": [
       "<div>\n",
       "<style scoped>\n",
       "    .dataframe tbody tr th:only-of-type {\n",
       "        vertical-align: middle;\n",
       "    }\n",
       "\n",
       "    .dataframe tbody tr th {\n",
       "        vertical-align: top;\n",
       "    }\n",
       "\n",
       "    .dataframe thead th {\n",
       "        text-align: right;\n",
       "    }\n",
       "</style>\n",
       "<table border=\"1\" class=\"dataframe\">\n",
       "  <thead>\n",
       "    <tr style=\"text-align: right;\">\n",
       "      <th></th>\n",
       "      <th>0</th>\n",
       "      <th>1</th>\n",
       "      <th>terms</th>\n",
       "    </tr>\n",
       "  </thead>\n",
       "  <tbody>\n",
       "    <tr>\n",
       "      <th>6</th>\n",
       "      <td>0.44</td>\n",
       "      <td>0.00</td>\n",
       "      <td>political</td>\n",
       "    </tr>\n",
       "    <tr>\n",
       "      <th>9</th>\n",
       "      <td>0.20</td>\n",
       "      <td>0.00</td>\n",
       "      <td>rate</td>\n",
       "    </tr>\n",
       "    <tr>\n",
       "      <th>7</th>\n",
       "      <td>0.16</td>\n",
       "      <td>0.00</td>\n",
       "      <td>powers</td>\n",
       "    </tr>\n",
       "    <tr>\n",
       "      <th>8</th>\n",
       "      <td>0.08</td>\n",
       "      <td>0.00</td>\n",
       "      <td>propaganda</td>\n",
       "    </tr>\n",
       "    <tr>\n",
       "      <th>4</th>\n",
       "      <td>0.06</td>\n",
       "      <td>0.32</td>\n",
       "      <td>nato</td>\n",
       "    </tr>\n",
       "    <tr>\n",
       "      <th>10</th>\n",
       "      <td>0.06</td>\n",
       "      <td>0.00</td>\n",
       "      <td>soviet</td>\n",
       "    </tr>\n",
       "    <tr>\n",
       "      <th>0</th>\n",
       "      <td>0.00</td>\n",
       "      <td>0.32</td>\n",
       "      <td>bank</td>\n",
       "    </tr>\n",
       "    <tr>\n",
       "      <th>1</th>\n",
       "      <td>0.00</td>\n",
       "      <td>0.12</td>\n",
       "      <td>economic</td>\n",
       "    </tr>\n",
       "    <tr>\n",
       "      <th>3</th>\n",
       "      <td>0.00</td>\n",
       "      <td>0.10</td>\n",
       "      <td>monetary</td>\n",
       "    </tr>\n",
       "    <tr>\n",
       "      <th>5</th>\n",
       "      <td>0.00</td>\n",
       "      <td>0.10</td>\n",
       "      <td>policy</td>\n",
       "    </tr>\n",
       "    <tr>\n",
       "      <th>2</th>\n",
       "      <td>0.00</td>\n",
       "      <td>0.04</td>\n",
       "      <td>financial</td>\n",
       "    </tr>\n",
       "  </tbody>\n",
       "</table>\n",
       "</div>"
      ],
      "text/plain": [
       "       0     1       terms\n",
       "6   0.44  0.00   political\n",
       "9   0.20  0.00        rate\n",
       "7   0.16  0.00      powers\n",
       "8   0.08  0.00  propaganda\n",
       "4   0.06  0.32        nato\n",
       "10  0.06  0.00      soviet\n",
       "0   0.00  0.32        bank\n",
       "1   0.00  0.12    economic\n",
       "3   0.00  0.10    monetary\n",
       "5   0.00  0.10      policy\n",
       "2   0.00  0.04   financial"
      ]
     },
     "execution_count": 27,
     "metadata": {},
     "output_type": "execute_result"
    }
   ],
   "source": [
    "df.sort_values([0, 1], ascending=[False,False])"
   ]
  },
  {
   "cell_type": "code",
   "execution_count": 28,
   "id": "57d2a7c7",
   "metadata": {},
   "outputs": [
    {
     "name": "stdout",
     "output_type": "stream",
     "text": [
      "political soviet soviet rate political rate powers political propaganda political\n",
      "political rate political powers political powers political political nato rate\n",
      "rate political powers political powers political rate rate rate powers\n",
      "political rate propaganda political powers political soviet nato powers nato\n",
      "political rate political political political propaganda propaganda political political political\n",
      "policy nato bank economic nato monetary bank nato financial financial\n",
      "economic economic nato economic bank nato bank nato monetary bank\n",
      "bank bank nato bank economic nato economic policy nato nato\n",
      "policy nato policy monetary bank bank bank monetary nato bank\n",
      "policy bank bank nato nato bank nato nato bank monetary\n"
     ]
    }
   ],
   "source": [
    "for s in documents:\n",
    "    print(s)"
   ]
  },
  {
   "cell_type": "code",
   "execution_count": 29,
   "id": "9c7e2ab3",
   "metadata": {},
   "outputs": [
    {
     "data": {
      "text/plain": [
       "matrix([[0, 0, 0, 0, 0, 0, 4, 1, 1, 2, 2]])"
      ]
     },
     "execution_count": 29,
     "metadata": {},
     "output_type": "execute_result"
    }
   ],
   "source": [
    "init[0]"
   ]
  },
  {
   "cell_type": "code",
   "execution_count": 30,
   "id": "64c1a112",
   "metadata": {},
   "outputs": [
    {
     "data": {
      "text/plain": [
       "0     0.00\n",
       "1     0.00\n",
       "2     0.00\n",
       "3     0.00\n",
       "4     0.06\n",
       "5     0.00\n",
       "6     0.44\n",
       "7     0.16\n",
       "8     0.08\n",
       "9     0.20\n",
       "10    0.06\n",
       "Name: 0, dtype: float64"
      ]
     },
     "execution_count": 30,
     "metadata": {},
     "output_type": "execute_result"
    }
   ],
   "source": [
    "df[0]"
   ]
  },
  {
   "cell_type": "code",
   "execution_count": 31,
   "id": "49110a9a",
   "metadata": {},
   "outputs": [
    {
     "data": {
      "text/plain": [
       "numpy.matrix"
      ]
     },
     "execution_count": 31,
     "metadata": {},
     "output_type": "execute_result"
    }
   ],
   "source": [
    "type(init[0])"
   ]
  },
  {
   "cell_type": "code",
   "execution_count": 32,
   "id": "1e92cb97",
   "metadata": {},
   "outputs": [
    {
     "data": {
      "text/plain": [
       "numpy.matrix"
      ]
     },
     "execution_count": 32,
     "metadata": {},
     "output_type": "execute_result"
    }
   ],
   "source": [
    "type(X_train.todense()[0])"
   ]
  },
  {
   "cell_type": "code",
   "execution_count": 33,
   "id": "97bcfc85",
   "metadata": {},
   "outputs": [],
   "source": [
    "# calculate the percentage similarity for each document to the cluster\n",
    "#\n",
    "sim0 = []\n",
    "sim1 = []\n",
    "\n",
    "for i in init:\n",
    "    sim0.append(list(cosine_similarity(np.stack([X_train.todense()[0],i]), Y=None, dense_output=True))[0][1])\n",
    "    sim1.append(list(cosine_similarity(np.stack([X_train.todense()[1],i]), Y=None, dense_output=True))[0][1])"
   ]
  },
  {
   "cell_type": "code",
   "execution_count": 37,
   "id": "2d082ccb",
   "metadata": {},
   "outputs": [],
   "source": [
    "df_documents = pd.DataFrame({'document':documents, 'C0':sim0, 'C1':sim1})"
   ]
  },
  {
   "cell_type": "code",
   "execution_count": 43,
   "id": "cbb438c4",
   "metadata": {},
   "outputs": [],
   "source": [
    "df_documents['sim0_w'] = (df_documents['C0'] / (df_documents['C0'] + (df_documents['C1'])))\n",
    "df_documents['sim_1w'] = (df_documents['C1'] / (df_documents['C0'] + (df_documents['C1'])))"
   ]
  },
  {
   "cell_type": "code",
   "execution_count": 44,
   "id": "ccaa00d5",
   "metadata": {},
   "outputs": [
    {
     "data": {
      "text/html": [
       "<div>\n",
       "<style scoped>\n",
       "    .dataframe tbody tr th:only-of-type {\n",
       "        vertical-align: middle;\n",
       "    }\n",
       "\n",
       "    .dataframe tbody tr th {\n",
       "        vertical-align: top;\n",
       "    }\n",
       "\n",
       "    .dataframe thead th {\n",
       "        text-align: right;\n",
       "    }\n",
       "</style>\n",
       "<table border=\"1\" class=\"dataframe\">\n",
       "  <thead>\n",
       "    <tr style=\"text-align: right;\">\n",
       "      <th></th>\n",
       "      <th>document</th>\n",
       "      <th>C0</th>\n",
       "      <th>C1</th>\n",
       "      <th>sim0_w</th>\n",
       "      <th>sim_1w</th>\n",
       "    </tr>\n",
       "  </thead>\n",
       "  <tbody>\n",
       "    <tr>\n",
       "      <th>0</th>\n",
       "      <td>political soviet soviet rate political rate powers political propaganda political</td>\n",
       "      <td>0.946219</td>\n",
       "      <td>0.000000</td>\n",
       "      <td>1.000000</td>\n",
       "      <td>0.000000</td>\n",
       "    </tr>\n",
       "    <tr>\n",
       "      <th>1</th>\n",
       "      <td>political rate political powers political powers political political nato rate</td>\n",
       "      <td>0.978486</td>\n",
       "      <td>0.111836</td>\n",
       "      <td>0.897428</td>\n",
       "      <td>0.102572</td>\n",
       "    </tr>\n",
       "    <tr>\n",
       "      <th>2</th>\n",
       "      <td>rate political powers political powers political rate rate rate powers</td>\n",
       "      <td>0.853713</td>\n",
       "      <td>0.000000</td>\n",
       "      <td>1.000000</td>\n",
       "      <td>0.000000</td>\n",
       "    </tr>\n",
       "    <tr>\n",
       "      <th>3</th>\n",
       "      <td>political rate propaganda political powers political soviet nato powers nato</td>\n",
       "      <td>0.899046</td>\n",
       "      <td>0.291633</td>\n",
       "      <td>0.755070</td>\n",
       "      <td>0.244930</td>\n",
       "    </tr>\n",
       "    <tr>\n",
       "      <th>4</th>\n",
       "      <td>political rate political political political propaganda propaganda political political political</td>\n",
       "      <td>0.896271</td>\n",
       "      <td>0.000000</td>\n",
       "      <td>1.000000</td>\n",
       "      <td>0.000000</td>\n",
       "    </tr>\n",
       "    <tr>\n",
       "      <th>5</th>\n",
       "      <td>policy nato bank economic nato monetary bank nato financial financial</td>\n",
       "      <td>0.077061</td>\n",
       "      <td>0.911353</td>\n",
       "      <td>0.077964</td>\n",
       "      <td>0.922036</td>\n",
       "    </tr>\n",
       "    <tr>\n",
       "      <th>6</th>\n",
       "      <td>economic economic nato economic bank nato bank nato monetary bank</td>\n",
       "      <td>0.065129</td>\n",
       "      <td>0.916579</td>\n",
       "      <td>0.066342</td>\n",
       "      <td>0.933658</td>\n",
       "    </tr>\n",
       "    <tr>\n",
       "      <th>7</th>\n",
       "      <td>bank bank nato bank economic nato economic policy nato nato</td>\n",
       "      <td>0.083894</td>\n",
       "      <td>0.959911</td>\n",
       "      <td>0.080373</td>\n",
       "      <td>0.919627</td>\n",
       "    </tr>\n",
       "    <tr>\n",
       "      <th>8</th>\n",
       "      <td>policy nato policy monetary bank bank bank monetary nato bank</td>\n",
       "      <td>0.043419</td>\n",
       "      <td>0.893472</td>\n",
       "      <td>0.046344</td>\n",
       "      <td>0.953656</td>\n",
       "    </tr>\n",
       "    <tr>\n",
       "      <th>9</th>\n",
       "      <td>policy bank bank nato nato bank nato nato bank monetary</td>\n",
       "      <td>0.078804</td>\n",
       "      <td>0.964587</td>\n",
       "      <td>0.075527</td>\n",
       "      <td>0.924473</td>\n",
       "    </tr>\n",
       "  </tbody>\n",
       "</table>\n",
       "</div>"
      ],
      "text/plain": [
       "                                                                                           document  \\\n",
       "0                 political soviet soviet rate political rate powers political propaganda political   \n",
       "1                    political rate political powers political powers political political nato rate   \n",
       "2                            rate political powers political powers political rate rate rate powers   \n",
       "3                      political rate propaganda political powers political soviet nato powers nato   \n",
       "4  political rate political political political propaganda propaganda political political political   \n",
       "5                             policy nato bank economic nato monetary bank nato financial financial   \n",
       "6                                 economic economic nato economic bank nato bank nato monetary bank   \n",
       "7                                       bank bank nato bank economic nato economic policy nato nato   \n",
       "8                                     policy nato policy monetary bank bank bank monetary nato bank   \n",
       "9                                           policy bank bank nato nato bank nato nato bank monetary   \n",
       "\n",
       "         C0        C1    sim0_w    sim_1w  \n",
       "0  0.946219  0.000000  1.000000  0.000000  \n",
       "1  0.978486  0.111836  0.897428  0.102572  \n",
       "2  0.853713  0.000000  1.000000  0.000000  \n",
       "3  0.899046  0.291633  0.755070  0.244930  \n",
       "4  0.896271  0.000000  1.000000  0.000000  \n",
       "5  0.077061  0.911353  0.077964  0.922036  \n",
       "6  0.065129  0.916579  0.066342  0.933658  \n",
       "7  0.083894  0.959911  0.080373  0.919627  \n",
       "8  0.043419  0.893472  0.046344  0.953656  \n",
       "9  0.078804  0.964587  0.075527  0.924473  "
      ]
     },
     "execution_count": 44,
     "metadata": {},
     "output_type": "execute_result"
    }
   ],
   "source": [
    "df_documents"
   ]
  },
  {
   "cell_type": "code",
   "execution_count": null,
   "id": "16b3fdea",
   "metadata": {},
   "outputs": [],
   "source": []
  }
 ],
 "metadata": {
  "kernelspec": {
   "display_name": "Python 3 (ipykernel)",
   "language": "python",
   "name": "python3"
  },
  "language_info": {
   "codemirror_mode": {
    "name": "ipython",
    "version": 3
   },
   "file_extension": ".py",
   "mimetype": "text/x-python",
   "name": "python",
   "nbconvert_exporter": "python",
   "pygments_lexer": "ipython3",
   "version": "3.9.7"
  }
 },
 "nbformat": 4,
 "nbformat_minor": 5
}
